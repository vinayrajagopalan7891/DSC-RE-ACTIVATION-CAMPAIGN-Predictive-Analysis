{
 "cells": [
  {
   "cell_type": "markdown",
   "metadata": {},
   "source": [
    "### Importing all libraries"
   ]
  },
  {
   "cell_type": "code",
   "execution_count": 527,
   "metadata": {},
   "outputs": [],
   "source": [
    "# machine learning\n",
    "from sklearn.linear_model import LogisticRegression\n",
    "from sklearn.svm import SVC, LinearSVC\n",
    "from sklearn.ensemble import RandomForestClassifier\n",
    "from sklearn.neighbors import KNeighborsClassifier\n",
    "from sklearn.naive_bayes import GaussianNB\n",
    "from sklearn.linear_model import Perceptron\n",
    "from sklearn.linear_model import SGDClassifier\n",
    "from sklearn.tree import DecisionTreeClassifier\n",
    "from sklearn.model_selection import train_test_split\n",
    "from sklearn.metrics import accuracy_score\n",
    "from sklearn.preprocessing import LabelEncoder\n",
    "from sklearn.metrics import confusion_matrix\n",
    "from sklearn.metrics import roc_auc_score\n",
    "from scipy.stats          import pearsonr\n",
    "import scikitplot as sk\n",
    "from sklearn.ensemble       import GradientBoostingClassifier\n",
    "from sklearn.neural_network import MLPClassifier\n",
    "from sklearn.neighbors      import KNeighborsClassifier\n",
    "\n",
    "# Import libraries\n",
    "import numpy as np\n",
    "import pandas as pd\n",
    "import matplotlib.pyplot as plt\n",
    "import os\n",
    "import datetime\n",
    "from dateutil.relativedelta import relativedelta\n",
    "from pandas import DataFrame\n",
    "from numpy import array\n",
    "import matplotlib.pyplot as plt"
   ]
  },
  {
   "cell_type": "code",
   "execution_count": 528,
   "metadata": {},
   "outputs": [],
   "source": [
    "import sys\n",
    "sys.path.append(\"./data\")\n",
    "\n",
    "from ieseg import partition\n",
    "from ieseg import roc\n",
    "from ieseg import lift\n",
    "from ieseg import cumulativeResponse\n",
    "from ieseg import cumulativeGains"
   ]
  },
  {
   "cell_type": "markdown",
   "metadata": {},
   "source": [
    "Read all the datasets"
   ]
  },
  {
   "cell_type": "code",
   "execution_count": 529,
   "metadata": {},
   "outputs": [],
   "source": [
    "processed_table_6169 = pd.read_csv('./data/tables/processed_table_6169.csv')\n",
    "processed_table_7244 = pd.read_csv('./data/tables/processed_table_7244.csv')\n",
    "processed_table_7362 = pd.read_csv('./data/tables/processed_table_7362.csv')"
   ]
  },
  {
   "cell_type": "markdown",
   "metadata": {},
   "source": [
    "Dropping the unamed column"
   ]
  },
  {
   "cell_type": "code",
   "execution_count": 530,
   "metadata": {},
   "outputs": [],
   "source": [
    "processed_table_6169 = processed_table_6169.drop('Unnamed: 0',  axis = 1)\n",
    "processed_table_7244 = processed_table_7244.drop('Unnamed: 0',  axis = 1)\n",
    "processed_table_7362 = processed_table_7362.drop('Unnamed: 0',  axis = 1)"
   ]
  },
  {
   "cell_type": "code",
   "execution_count": 531,
   "metadata": {},
   "outputs": [],
   "source": [
    "processed_table_6169 = processed_table_6169.fillna(0)\n",
    "processed_table_7244 = processed_table_7244.fillna(0)\n",
    "processed_table_7362 = processed_table_7362.fillna(0)"
   ]
  },
  {
   "cell_type": "code",
   "execution_count": 532,
   "metadata": {},
   "outputs": [],
   "source": [
    "y = processed_table_6169[\"has_contributed\"]\n",
    "X = processed_table_6169.drop(\"has_contributed\", axis=1) \n",
    "X_train, X_test, y_train, y_test = train_test_split(X, y, test_size=0.3, random_state=42)"
   ]
  },
  {
   "cell_type": "markdown",
   "metadata": {},
   "source": [
    "### Initialising all the machine learning models"
   ]
  },
  {
   "cell_type": "code",
   "execution_count": 533,
   "metadata": {},
   "outputs": [],
   "source": [
    "tree = DecisionTreeClassifier()\n",
    "logistic = LogisticRegression(solver = 'newton-cg', max_iter = 25)\n",
    "randomForest = RandomForestClassifier(n_estimators = 25, n_jobs=-1)\n",
    "svm = SVC(gamma = \"scale\", probability = True)\n",
    "neighbors = KNeighborsClassifier()\n",
    "\n",
    "\n",
    "\n",
    "models = {\"tree\" :tree,\n",
    "\"logistic\" :logistic,\n",
    "\"randomForest\" :randomForest,\n",
    "\"svm\" :svm,\n",
    "\"neighbors\" :neighbors\n",
    "}"
   ]
  },
  {
   "cell_type": "markdown",
   "metadata": {},
   "source": [
    "### Running all the models"
   ]
  },
  {
   "cell_type": "code",
   "execution_count": 534,
   "metadata": {},
   "outputs": [
    {
     "name": "stdout",
     "output_type": "stream",
     "text": [
      "tree has been trained successfully\n"
     ]
    },
    {
     "name": "stderr",
     "output_type": "stream",
     "text": [
      "C:\\tools\\Anaconda3\\lib\\site-packages\\scipy\\optimize\\linesearch.py:478: LineSearchWarning: The line search algorithm did not converge\n",
      "  warn('The line search algorithm did not converge', LineSearchWarning)\n",
      "C:\\tools\\Anaconda3\\lib\\site-packages\\scipy\\optimize\\linesearch.py:327: LineSearchWarning: The line search algorithm did not converge\n",
      "  warn('The line search algorithm did not converge', LineSearchWarning)\n",
      "C:\\tools\\Anaconda3\\lib\\site-packages\\scipy\\optimize\\linesearch.py:478: LineSearchWarning: The line search algorithm did not converge\n",
      "  warn('The line search algorithm did not converge', LineSearchWarning)\n",
      "C:\\tools\\Anaconda3\\lib\\site-packages\\scipy\\optimize\\linesearch.py:327: LineSearchWarning: The line search algorithm did not converge\n",
      "  warn('The line search algorithm did not converge', LineSearchWarning)\n",
      "C:\\tools\\Anaconda3\\lib\\site-packages\\sklearn\\utils\\optimize.py:210: ConvergenceWarning: newton-cg failed to converge. Increase the number of iterations.\n",
      "  warnings.warn(\n"
     ]
    },
    {
     "name": "stdout",
     "output_type": "stream",
     "text": [
      "logistic has been trained successfully\n",
      "randomForest has been trained successfully\n",
      "svm has been trained successfully\n",
      "neighbors has been trained successfully\n"
     ]
    },
    {
     "name": "stderr",
     "output_type": "stream",
     "text": [
      "C:\\tools\\Anaconda3\\lib\\site-packages\\sklearn\\base.py:441: UserWarning: X does not have valid feature names, but KNeighborsClassifier was fitted with feature names\n",
      "  warnings.warn(\n",
      "C:\\tools\\Anaconda3\\lib\\site-packages\\sklearn\\base.py:441: UserWarning: X does not have valid feature names, but KNeighborsClassifier was fitted with feature names\n",
      "  warnings.warn(\n",
      "C:\\tools\\Anaconda3\\lib\\site-packages\\sklearn\\base.py:441: UserWarning: X does not have valid feature names, but KNeighborsClassifier was fitted with feature names\n",
      "  warnings.warn(\n",
      "C:\\tools\\Anaconda3\\lib\\site-packages\\sklearn\\base.py:441: UserWarning: X does not have valid feature names, but KNeighborsClassifier was fitted with feature names\n",
      "  warnings.warn(\n"
     ]
    }
   ],
   "source": [
    "for model in models:\n",
    "    models[model].fit(X_train, y_train)\n",
    "    print(f\"{model} has been trained successfully\")\n",
    "\n",
    "performances_train = {}\n",
    "performances_test = {}\n",
    "\n",
    "\n",
    "for model in models:\n",
    "    predictions = models[model].predict(X_train)\n",
    "    probabilities = DataFrame(models[model].predict_proba(X_train))[1]\n",
    "    accuracy = accuracy_score(y_train,predictions)\n",
    "    auc = roc_auc_score(array(y_train),array(probabilities))\n",
    "    performances_train[model] = {\"Accuracy\":accuracy,\"AUC\":auc}\n",
    "\n",
    "\n",
    "for model in models:\n",
    "    predictions = models[model].predict(X_test)\n",
    "    probabilities = DataFrame(models[model].predict_proba(X_test))[1]\n",
    "    accuracy = accuracy_score(y_test,predictions)\n",
    "    auc = roc_auc_score(array(y_test),array(probabilities))\n",
    "    performances_test[model] = {\"Accuracy\":accuracy,\"AUC\":auc}"
   ]
  },
  {
   "cell_type": "markdown",
   "metadata": {},
   "source": [
    "### Accuracy of Train datasets"
   ]
  },
  {
   "cell_type": "code",
   "execution_count": 535,
   "metadata": {},
   "outputs": [
    {
     "data": {
      "text/plain": [
       "{'tree': {'Accuracy': 1.0, 'AUC': 1.0},\n",
       " 'logistic': {'Accuracy': 0.9646911298838438, 'AUC': 0.8714819739146398},\n",
       " 'randomForest': {'Accuracy': 0.9999340021119324, 'AUC': 1.0},\n",
       " 'svm': {'Accuracy': 0.9559134107708553, 'AUC': 0.5392320164972457},\n",
       " 'neighbors': {'Accuracy': 0.9565733896515312, 'AUC': 0.940371380271768}}"
      ]
     },
     "execution_count": 535,
     "metadata": {},
     "output_type": "execute_result"
    }
   ],
   "source": [
    "performances_train"
   ]
  },
  {
   "cell_type": "markdown",
   "metadata": {},
   "source": [
    "### Accuracy of all Test datasets"
   ]
  },
  {
   "cell_type": "code",
   "execution_count": 536,
   "metadata": {},
   "outputs": [
    {
     "data": {
      "text/plain": [
       "{'tree': {'Accuracy': 0.9969207082371054, 'AUC': 0.9730018732171049},\n",
       " 'logistic': {'Accuracy': 0.9647421093148576, 'AUC': 0.8609995285565727},\n",
       " 'randomForest': {'Accuracy': 0.9926096997690531, 'AUC': 0.9853978103564591},\n",
       " 'svm': {'Accuracy': 0.956581986143187, 'AUC': 0.5344273560470896},\n",
       " 'neighbors': {'Accuracy': 0.9561200923787528, 'AUC': 0.5493140669358345}}"
      ]
     },
     "execution_count": 536,
     "metadata": {},
     "output_type": "execute_result"
    }
   ],
   "source": [
    "performances_test"
   ]
  },
  {
   "cell_type": "markdown",
   "metadata": {},
   "source": [
    "### Initialising Test Dataset"
   ]
  },
  {
   "cell_type": "code",
   "execution_count": 537,
   "metadata": {},
   "outputs": [],
   "source": [
    "y_test_7244 = processed_table_7244[\"has_contributed\"]\n",
    "X_test_7244 = processed_table_7244.drop(\"has_contributed\", axis=1) "
   ]
  },
  {
   "cell_type": "markdown",
   "metadata": {},
   "source": [
    "### Selecting the best model"
   ]
  },
  {
   "cell_type": "code",
   "execution_count": 538,
   "metadata": {},
   "outputs": [],
   "source": [
    "logreg =  models['logistic']"
   ]
  },
  {
   "cell_type": "markdown",
   "metadata": {},
   "source": [
    "Predicting for test dataset Campaign 7244\n"
   ]
  },
  {
   "cell_type": "code",
   "execution_count": 539,
   "metadata": {},
   "outputs": [
    {
     "name": "stderr",
     "output_type": "stream",
     "text": [
      "C:\\tools\\Anaconda3\\lib\\site-packages\\sklearn\\base.py:484: FutureWarning: The feature names should match those that were passed during fit. Starting version 1.2, an error will be raised.\n",
      "Feature names must be in the same order as they were in fit.\n",
      "\n",
      "  warnings.warn(message, FutureWarning)\n"
     ]
    }
   ],
   "source": [
    "Y_test_Pred_7244 = logreg.predict(X_test_7244)"
   ]
  },
  {
   "cell_type": "markdown",
   "metadata": {},
   "source": [
    "Confusion Matrix"
   ]
  },
  {
   "cell_type": "code",
   "execution_count": 540,
   "metadata": {},
   "outputs": [
    {
     "data": {
      "text/plain": [
       "array([[24335,  1093],\n",
       "       [  190,    27]], dtype=int64)"
      ]
     },
     "execution_count": 540,
     "metadata": {},
     "output_type": "execute_result"
    }
   ],
   "source": [
    "confusion_matrix(y_test_7244, Y_test_Pred_7244)"
   ]
  },
  {
   "cell_type": "markdown",
   "metadata": {},
   "source": [
    "AUC score"
   ]
  },
  {
   "cell_type": "code",
   "execution_count": 541,
   "metadata": {},
   "outputs": [
    {
     "data": {
      "text/plain": [
       "0.5407199255655618"
      ]
     },
     "execution_count": 541,
     "metadata": {},
     "output_type": "execute_result"
    }
   ],
   "source": [
    "mlp_roc_train = roc_auc_score(y_test_7244, Y_test_Pred_7244)\n",
    "mlp_roc_train"
   ]
  },
  {
   "cell_type": "markdown",
   "metadata": {},
   "source": [
    "### Feature Selection"
   ]
  },
  {
   "cell_type": "code",
   "execution_count": 542,
   "metadata": {},
   "outputs": [
    {
     "name": "stdout",
     "output_type": "stream",
     "text": [
      "province - p-vlue = 0.2695682160712941 - selected : 0\n",
      "region - p-vlue = 3.885382734596264e-08 - selected : 1\n",
      "gender - p-vlue = 3.555668651636362e-80 - selected : 1\n",
      "language - p-vlue = 1.8967602383259298e-14 - selected : 1\n",
      "number_of_campaigns - p-vlue = 1.904416815479188e-28 - selected : 1\n",
      "total_amount - p-vlue = 7.210623962908244e-13 - selected : 1\n",
      "Q1_Donations - p-vlue = 5.644847279864473e-21 - selected : 1\n",
      "Q2_Donations - p-vlue = 8.262792581480182e-24 - selected : 1\n",
      "Q3_Donations - p-vlue = 3.800182973411784e-17 - selected : 1\n",
      "Q4_Donations - p-vlue = 7.728262023592414e-08 - selected : 1\n",
      "days_since_contributed - p-vlue = 0.0 - selected : 1\n",
      "mean - p-vlue = 8.140376642619363e-10 - selected : 1\n",
      "min - p-vlue = 1.7007228395618348e-28 - selected : 1\n",
      "max - p-vlue = 0.6472332042254089 - selected : 0\n",
      "Q1_Amount - p-vlue = 3.6310546966939233e-13 - selected : 1\n",
      "Q2_Amount - p-vlue = 3.7384509209200776e-13 - selected : 1\n",
      "Q3_Amount - p-vlue = 7.751631835877158e-08 - selected : 1\n",
      "Q4_Amount - p-vlue = 3.894586738682593e-09 - selected : 1\n",
      "Q1_Min - p-vlue = 0.14168877958271706 - selected : 0\n",
      "Q2_Min - p-vlue = 0.22813475420445772 - selected : 0\n",
      "Q3_Min - p-vlue = 0.4746354878628967 - selected : 0\n",
      "Q4_Min - p-vlue = 0.036279985500587475 - selected : 0\n",
      "Q1_Mean - p-vlue = 0.009928230773353754 - selected : 0\n",
      "Q2_Mean - p-vlue = 0.8071984228079847 - selected : 0\n",
      "Q3_Mean - p-vlue = 0.7217615405909604 - selected : 0\n",
      "Q4_Mean - p-vlue = 0.37712629200321823 - selected : 0\n",
      "Q1_Max - p-vlue = 6.89813365574188e-05 - selected : 1\n",
      "Q2_Max - p-vlue = 0.08487243950242286 - selected : 0\n",
      "Q3_Max - p-vlue = 0.07454943589584642 - selected : 0\n",
      "Q4_Max - p-vlue = 0.39369052596636506 - selected : 0\n",
      "age - p-vlue = 1.8550946327987033e-70 - selected : 1\n",
      "age-group - p-vlue = 1.664031527003314e-69 - selected : 1\n",
      "amount - p-vlue = 0.0 - selected : 1\n"
     ]
    }
   ],
   "source": [
    "selectedFeatures = []\n",
    "\n",
    "for column in X.columns:\n",
    "    if column not in ('donorID', 'has_contributed'):\n",
    "        (pearson,pvalue) = pearsonr(X[column],y)\n",
    "        print(f\"{column} - p-vlue = {pvalue} - selected : {1 if pvalue < 0.001 else 0}\")\n",
    "        if pvalue < 0.001:\n",
    "            selectedFeatures.append(column)"
   ]
  },
  {
   "cell_type": "markdown",
   "metadata": {},
   "source": [
    "### Retraining the model with selected feature"
   ]
  },
  {
   "cell_type": "code",
   "execution_count": 543,
   "metadata": {},
   "outputs": [],
   "source": [
    "y = processed_table_6169[\"has_contributed\"]\n",
    "X = processed_table_6169.drop(\"has_contributed\", axis=1) \n",
    "X_Selected_Features = X[selectedFeatures]\n",
    "X_train, X_test, y_train, y_test = train_test_split(X_Selected_Features, y, test_size=0.3, random_state=42)"
   ]
  },
  {
   "cell_type": "code",
   "execution_count": 544,
   "metadata": {},
   "outputs": [],
   "source": [
    "tree = DecisionTreeClassifier()\n",
    "logistic = LogisticRegression(solver = 'newton-cg', max_iter = 25)\n",
    "randomForest = RandomForestClassifier(n_estimators = 25, n_jobs=-1)\n",
    "svm = SVC(gamma = \"scale\", probability = True)\n",
    "neighbors = KNeighborsClassifier()\n",
    "\n",
    "\n",
    "\n",
    "models = {\"tree\" :tree,\n",
    "\"logistic\" :logistic,\n",
    "\"randomForest\" :randomForest,\n",
    "\"svm\" :svm,\n",
    "\"neighbors\" :neighbors\n",
    "}"
   ]
  },
  {
   "cell_type": "code",
   "execution_count": 545,
   "metadata": {},
   "outputs": [
    {
     "name": "stdout",
     "output_type": "stream",
     "text": [
      "tree has been trained successfully\n",
      "logistic has been trained successfully\n",
      "randomForest has been trained successfully\n",
      "svm has been trained successfully\n",
      "neighbors has been trained successfully\n"
     ]
    },
    {
     "name": "stderr",
     "output_type": "stream",
     "text": [
      "C:\\tools\\Anaconda3\\lib\\site-packages\\sklearn\\base.py:441: UserWarning: X does not have valid feature names, but KNeighborsClassifier was fitted with feature names\n",
      "  warnings.warn(\n",
      "C:\\tools\\Anaconda3\\lib\\site-packages\\sklearn\\base.py:441: UserWarning: X does not have valid feature names, but KNeighborsClassifier was fitted with feature names\n",
      "  warnings.warn(\n",
      "C:\\tools\\Anaconda3\\lib\\site-packages\\sklearn\\base.py:441: UserWarning: X does not have valid feature names, but KNeighborsClassifier was fitted with feature names\n",
      "  warnings.warn(\n",
      "C:\\tools\\Anaconda3\\lib\\site-packages\\sklearn\\base.py:441: UserWarning: X does not have valid feature names, but KNeighborsClassifier was fitted with feature names\n",
      "  warnings.warn(\n"
     ]
    }
   ],
   "source": [
    "for model in models:\n",
    "    models[model].fit(X_train, y_train)\n",
    "    print(f\"{model} has been trained successfully\")\n",
    "\n",
    "performances_train = {}\n",
    "performances_test = {}\n",
    "\n",
    "\n",
    "for model in models:\n",
    "    predictions = models[model].predict(X_train)\n",
    "    probabilities = DataFrame(models[model].predict_proba(X_train))[1]\n",
    "    accuracy = accuracy_score(y_train,predictions)\n",
    "    auc = roc_auc_score(array(y_train),array(probabilities))\n",
    "    performances_train[model] = {\"Accuracy\":accuracy,\"AUC\":auc}\n",
    "\n",
    "\n",
    "for model in models:\n",
    "    predictions = models[model].predict(X_test)\n",
    "    probabilities = DataFrame(models[model].predict_proba(X_test))[1]\n",
    "    accuracy = accuracy_score(y_test,predictions)\n",
    "    auc = roc_auc_score(array(y_test),array(probabilities))\n",
    "    performances_test[model] = {\"Accuracy\":accuracy,\"AUC\":auc}"
   ]
  },
  {
   "cell_type": "markdown",
   "metadata": {},
   "source": [
    "Performenace train"
   ]
  },
  {
   "cell_type": "code",
   "execution_count": 546,
   "metadata": {},
   "outputs": [
    {
     "data": {
      "text/plain": [
       "{'tree': {'Accuracy': 1.0, 'AUC': 1.0},\n",
       " 'logistic': {'Accuracy': 0.9715549102428722, 'AUC': 0.9190325852024204},\n",
       " 'randomForest': {'Accuracy': 0.9998680042238648, 'AUC': 0.9999997932883198},\n",
       " 'svm': {'Accuracy': 0.9701029567053854, 'AUC': 0.9134730228854635},\n",
       " 'neighbors': {'Accuracy': 0.9805966209081309, 'AUC': 0.9941383285624277}}"
      ]
     },
     "execution_count": 546,
     "metadata": {},
     "output_type": "execute_result"
    }
   ],
   "source": [
    "performances_train"
   ]
  },
  {
   "cell_type": "markdown",
   "metadata": {},
   "source": [
    "Performance Test"
   ]
  },
  {
   "cell_type": "code",
   "execution_count": 547,
   "metadata": {},
   "outputs": [
    {
     "data": {
      "text/plain": [
       "{'tree': {'Accuracy': 0.9950731331793687, 'AUC': 0.9601881435973303},\n",
       " 'logistic': {'Accuracy': 0.9695150115473441, 'AUC': 0.9099828431120744},\n",
       " 'randomForest': {'Accuracy': 0.9930715935334873, 'AUC': 0.9892612492908373},\n",
       " 'svm': {'Accuracy': 0.9681293302540416, 'AUC': 0.9007782811834715},\n",
       " 'neighbors': {'Accuracy': 0.9753656658968437, 'AUC': 0.8560479456824115}}"
      ]
     },
     "execution_count": 547,
     "metadata": {},
     "output_type": "execute_result"
    }
   ],
   "source": [
    "performances_test"
   ]
  },
  {
   "cell_type": "code",
   "execution_count": 548,
   "metadata": {},
   "outputs": [],
   "source": [
    "y_test_7244_selected_feature = processed_table_7244[\"has_contributed\"]\n",
    "X_test_7244 = processed_table_7244.drop(\"has_contributed\", axis=1)\n",
    "X_test_7244_selected_feature = X_test_7244[selectedFeatures]"
   ]
  },
  {
   "cell_type": "markdown",
   "metadata": {},
   "source": [
    "### Picking the best model = LOGISTIC REGRESSION"
   ]
  },
  {
   "cell_type": "code",
   "execution_count": 549,
   "metadata": {},
   "outputs": [],
   "source": [
    "logreg =  models['logistic']"
   ]
  },
  {
   "cell_type": "code",
   "execution_count": 550,
   "metadata": {},
   "outputs": [],
   "source": [
    "Y_test_Pred_7244_selected_feature = logreg.predict(X_test_7244_selected_feature)"
   ]
  },
  {
   "cell_type": "code",
   "execution_count": 551,
   "metadata": {},
   "outputs": [
    {
     "data": {
      "text/plain": [
       "array([[20996,  4432],\n",
       "       [   38,   179]], dtype=int64)"
      ]
     },
     "execution_count": 551,
     "metadata": {},
     "output_type": "execute_result"
    }
   ],
   "source": [
    "confusion_matrix(y_test_7244_selected_feature, Y_test_Pred_7244_selected_feature)"
   ]
  },
  {
   "cell_type": "code",
   "execution_count": 552,
   "metadata": {},
   "outputs": [
    {
     "data": {
      "text/plain": [
       "0.8252943705150316"
      ]
     },
     "execution_count": 552,
     "metadata": {},
     "output_type": "execute_result"
    }
   ],
   "source": [
    "mlp_roc_train = roc_auc_score(y_test_7244_selected_feature, Y_test_Pred_7244_selected_feature)\n",
    "mlp_roc_train"
   ]
  },
  {
   "cell_type": "markdown",
   "metadata": {},
   "source": [
    "Plotting Cumulative Gain Curve"
   ]
  },
  {
   "cell_type": "code",
   "execution_count": 553,
   "metadata": {},
   "outputs": [
    {
     "data": {
      "image/png": "[encoded data removed]",
      "text/plain": [
       "<Figure size 432x288 with 1 Axes>"
      ]
     },
     "metadata": {
      "needs_background": "light"
     },
     "output_type": "display_data"
    }
   ],
   "source": [
    "sk.metrics.plot_cumulative_gain(y_test_7244_selected_feature, logreg.predict_proba(X_test_7244_selected_feature))\n",
    "plt.show()"
   ]
  },
  {
   "cell_type": "markdown",
   "metadata": {},
   "source": [
    "Plotting Plotting Cumulative Lift Curve"
   ]
  },
  {
   "cell_type": "code",
   "execution_count": 554,
   "metadata": {},
   "outputs": [
    {
     "data": {
      "text/plain": [
       "<AxesSubplot:title={'center':'Lift Curve'}, xlabel='Percentage of sample', ylabel='Lift'>"
      ]
     },
     "execution_count": 554,
     "metadata": {},
     "output_type": "execute_result"
    },
    {
     "data": {
      "image/png": "[encoded data removed]",
      "text/plain": [
       "<Figure size 432x288 with 1 Axes>"
      ]
     },
     "metadata": {
      "needs_background": "light"
     },
     "output_type": "display_data"
    }
   ],
   "source": [
    "sk.metrics.plot_lift_curve(y_test_7244_selected_feature, logreg.predict_proba(X_test_7244_selected_feature))"
   ]
  },
  {
   "cell_type": "markdown",
   "metadata": {},
   "source": [
    "### Getting metrics for predictions"
   ]
  },
  {
   "cell_type": "code",
   "execution_count": 555,
   "metadata": {},
   "outputs": [
    {
     "name": "stdout",
     "output_type": "stream",
     "text": [
      "LABELS INFO:\n",
      "\n",
      " prob_min         : Minimum probability in a particular decile\n",
      " prob_max         : Minimum probability in a particular decile\n",
      " prob_avg         : Average probability in a particular decile\n",
      " cnt_events       : Count of events in a particular decile\n",
      " cnt_resp         : Count of responders in a particular decile\n",
      " cnt_non_resp     : Count of non-responders in a particular decile\n",
      " cnt_resp_rndm    : Count of responders if events assigned randomly in a particular decile\n",
      " cnt_resp_wiz     : Count of best possible responders in a particular decile\n",
      " resp_rate        : Response Rate in a particular decile [(cnt_resp/cnt_cust)*100]\n",
      " cum_events       : Cumulative sum of events decile-wise \n",
      " cum_resp         : Cumulative sum of responders decile-wise \n",
      " cum_resp_wiz     : Cumulative sum of best possible responders decile-wise \n",
      " cum_non_resp     : Cumulative sum of non-responders decile-wise \n",
      " cum_events_pct   : Cumulative sum of percentages of events decile-wise \n",
      " cum_resp_pct     : Cumulative sum of percentages of responders decile-wise \n",
      " cum_resp_pct_wiz : Cumulative sum of percentages of best possible responders decile-wise \n",
      " cum_non_resp_pct : Cumulative sum of percentages of non-responders decile-wise \n",
      " KS               : KS Statistic decile-wise \n",
      " lift             : Cumuative Lift Value decile-wise\n"
     ]
    }
   ],
   "source": [
    "import kds\n",
    "y_prob = logreg.predict_proba(X_test_7244_selected_feature)\n",
    "metrics = kds.metrics.decile_table(y_test_7244_selected_feature, y_prob[:,1])\n",
    "metrics.to_csv(r'./metrics1.csv')"
   ]
  },
  {
   "cell_type": "code",
   "execution_count": 556,
   "metadata": {},
   "outputs": [],
   "source": [
    "X_test_7362 = processed_table_7362[selectedFeatures]"
   ]
  },
  {
   "cell_type": "markdown",
   "metadata": {},
   "source": [
    "### Predicting for 7362 campaign"
   ]
  },
  {
   "cell_type": "code",
   "execution_count": 557,
   "metadata": {},
   "outputs": [],
   "source": [
    "Y_pred_7362 = logreg.predict_proba(X_test_7362)"
   ]
  },
  {
   "cell_type": "code",
   "execution_count": 558,
   "metadata": {},
   "outputs": [],
   "source": [
    "Y_pred_7362_predict = logreg.predict(X_test_7362)"
   ]
  },
  {
   "cell_type": "code",
   "execution_count": 559,
   "metadata": {},
   "outputs": [
    {
     "data": {
      "text/plain": [
       "1047.0"
      ]
     },
     "execution_count": 559,
     "metadata": {},
     "output_type": "execute_result"
    }
   ],
   "source": [
    "Y_pred_7362_predict.sum()"
   ]
  },
  {
   "cell_type": "code",
   "execution_count": 560,
   "metadata": {},
   "outputs": [],
   "source": [
    "processed_table_7362['prob_will_contribute'] = Y_pred_7362.tolist()"
   ]
  },
  {
   "cell_type": "code",
   "execution_count": 561,
   "metadata": {},
   "outputs": [
    {
     "data": {
      "text/html": [
       "<div>\n",
       "<style scoped>\n",
       "    .dataframe tbody tr th:only-of-type {\n",
       "        vertical-align: middle;\n",
       "    }\n",
       "\n",
       "    .dataframe tbody tr th {\n",
       "        vertical-align: top;\n",
       "    }\n",
       "\n",
       "    .dataframe thead th {\n",
       "        text-align: right;\n",
       "    }\n",
       "</style>\n",
       "<table border=\"1\" class=\"dataframe\">\n",
       "  <thead>\n",
       "    <tr style=\"text-align: right;\">\n",
       "      <th></th>\n",
       "      <th>donorID</th>\n",
       "      <th>province</th>\n",
       "      <th>region</th>\n",
       "      <th>gender</th>\n",
       "      <th>language</th>\n",
       "      <th>number_of_campaigns</th>\n",
       "      <th>total_amount</th>\n",
       "      <th>Q1_Donations</th>\n",
       "      <th>Q2_Donations</th>\n",
       "      <th>Q3_Donations</th>\n",
       "      <th>...</th>\n",
       "      <th>Q4_Amount</th>\n",
       "      <th>Q1_Min</th>\n",
       "      <th>Q2_Min</th>\n",
       "      <th>Q3_Min</th>\n",
       "      <th>Q4_Min</th>\n",
       "      <th>age</th>\n",
       "      <th>age-group</th>\n",
       "      <th>amount</th>\n",
       "      <th>has_contributed</th>\n",
       "      <th>prob_will_contribute</th>\n",
       "    </tr>\n",
       "  </thead>\n",
       "  <tbody>\n",
       "    <tr>\n",
       "      <th>0</th>\n",
       "      <td>100001</td>\n",
       "      <td>4</td>\n",
       "      <td>1</td>\n",
       "      <td>0</td>\n",
       "      <td>2</td>\n",
       "      <td>0.046414</td>\n",
       "      <td>0.000043</td>\n",
       "      <td>0.015038</td>\n",
       "      <td>0.019231</td>\n",
       "      <td>0.000000</td>\n",
       "      <td>...</td>\n",
       "      <td>0.000026</td>\n",
       "      <td>0.003046</td>\n",
       "      <td>2.475000e-06</td>\n",
       "      <td>0.000239</td>\n",
       "      <td>0.000003</td>\n",
       "      <td>0.292453</td>\n",
       "      <td>0.3</td>\n",
       "      <td>0.0</td>\n",
       "      <td>0.0</td>\n",
       "      <td>[0.8967502805672343, 0.10324971943276569]</td>\n",
       "    </tr>\n",
       "    <tr>\n",
       "      <th>1</th>\n",
       "      <td>100003</td>\n",
       "      <td>4</td>\n",
       "      <td>1</td>\n",
       "      <td>1</td>\n",
       "      <td>2</td>\n",
       "      <td>0.046414</td>\n",
       "      <td>0.000010</td>\n",
       "      <td>0.015038</td>\n",
       "      <td>0.019231</td>\n",
       "      <td>0.027586</td>\n",
       "      <td>...</td>\n",
       "      <td>0.000002</td>\n",
       "      <td>0.001170</td>\n",
       "      <td>9.750000e-07</td>\n",
       "      <td>0.000091</td>\n",
       "      <td>0.000002</td>\n",
       "      <td>0.113208</td>\n",
       "      <td>0.1</td>\n",
       "      <td>0.0</td>\n",
       "      <td>0.0</td>\n",
       "      <td>[0.9994487661891945, 0.0005512338108055048]</td>\n",
       "    </tr>\n",
       "    <tr>\n",
       "      <th>2</th>\n",
       "      <td>100004</td>\n",
       "      <td>2</td>\n",
       "      <td>0</td>\n",
       "      <td>0</td>\n",
       "      <td>1</td>\n",
       "      <td>0.105485</td>\n",
       "      <td>0.000178</td>\n",
       "      <td>0.052632</td>\n",
       "      <td>0.028846</td>\n",
       "      <td>0.020690</td>\n",
       "      <td>...</td>\n",
       "      <td>0.000114</td>\n",
       "      <td>0.007671</td>\n",
       "      <td>6.172500e-06</td>\n",
       "      <td>0.000818</td>\n",
       "      <td>0.000010</td>\n",
       "      <td>0.433962</td>\n",
       "      <td>0.4</td>\n",
       "      <td>0.0</td>\n",
       "      <td>0.0</td>\n",
       "      <td>[0.9081496295030368, 0.09185037049696324]</td>\n",
       "    </tr>\n",
       "    <tr>\n",
       "      <th>3</th>\n",
       "      <td>100006</td>\n",
       "      <td>2</td>\n",
       "      <td>0</td>\n",
       "      <td>1</td>\n",
       "      <td>1</td>\n",
       "      <td>0.000000</td>\n",
       "      <td>0.000000</td>\n",
       "      <td>0.000000</td>\n",
       "      <td>0.000000</td>\n",
       "      <td>0.000000</td>\n",
       "      <td>...</td>\n",
       "      <td>0.000000</td>\n",
       "      <td>0.000000</td>\n",
       "      <td>0.000000e+00</td>\n",
       "      <td>0.000158</td>\n",
       "      <td>0.000000</td>\n",
       "      <td>0.679245</td>\n",
       "      <td>0.7</td>\n",
       "      <td>0.0</td>\n",
       "      <td>0.0</td>\n",
       "      <td>[0.9963099831322862, 0.00369001686771377]</td>\n",
       "    </tr>\n",
       "    <tr>\n",
       "      <th>4</th>\n",
       "      <td>100009</td>\n",
       "      <td>2</td>\n",
       "      <td>0</td>\n",
       "      <td>1</td>\n",
       "      <td>1</td>\n",
       "      <td>0.075949</td>\n",
       "      <td>0.000080</td>\n",
       "      <td>0.030075</td>\n",
       "      <td>0.028846</td>\n",
       "      <td>0.020690</td>\n",
       "      <td>...</td>\n",
       "      <td>0.000034</td>\n",
       "      <td>0.003793</td>\n",
       "      <td>2.475000e-06</td>\n",
       "      <td>0.000658</td>\n",
       "      <td>0.000003</td>\n",
       "      <td>0.622642</td>\n",
       "      <td>0.6</td>\n",
       "      <td>0.0</td>\n",
       "      <td>0.0</td>\n",
       "      <td>[0.9658659004735364, 0.03413409952646363]</td>\n",
       "    </tr>\n",
       "  </tbody>\n",
       "</table>\n",
       "<p>5 rows × 36 columns</p>\n",
       "</div>"
      ],
      "text/plain": [
       "   donorID  province  region  gender  language  number_of_campaigns  \\\n",
       "0   100001         4       1       0         2             0.046414   \n",
       "1   100003         4       1       1         2             0.046414   \n",
       "2   100004         2       0       0         1             0.105485   \n",
       "3   100006         2       0       1         1             0.000000   \n",
       "4   100009         2       0       1         1             0.075949   \n",
       "\n",
       "   total_amount  Q1_Donations  Q2_Donations  Q3_Donations  ...  Q4_Amount  \\\n",
       "0      0.000043      0.015038      0.019231      0.000000  ...   0.000026   \n",
       "1      0.000010      0.015038      0.019231      0.027586  ...   0.000002   \n",
       "2      0.000178      0.052632      0.028846      0.020690  ...   0.000114   \n",
       "3      0.000000      0.000000      0.000000      0.000000  ...   0.000000   \n",
       "4      0.000080      0.030075      0.028846      0.020690  ...   0.000034   \n",
       "\n",
       "     Q1_Min        Q2_Min    Q3_Min    Q4_Min       age  age-group  amount  \\\n",
       "0  0.003046  2.475000e-06  0.000239  0.000003  0.292453        0.3     0.0   \n",
       "1  0.001170  9.750000e-07  0.000091  0.000002  0.113208        0.1     0.0   \n",
       "2  0.007671  6.172500e-06  0.000818  0.000010  0.433962        0.4     0.0   \n",
       "3  0.000000  0.000000e+00  0.000158  0.000000  0.679245        0.7     0.0   \n",
       "4  0.003793  2.475000e-06  0.000658  0.000003  0.622642        0.6     0.0   \n",
       "\n",
       "   has_contributed                         prob_will_contribute  \n",
       "0              0.0    [0.8967502805672343, 0.10324971943276569]  \n",
       "1              0.0  [0.9994487661891945, 0.0005512338108055048]  \n",
       "2              0.0    [0.9081496295030368, 0.09185037049696324]  \n",
       "3              0.0    [0.9963099831322862, 0.00369001686771377]  \n",
       "4              0.0    [0.9658659004735364, 0.03413409952646363]  \n",
       "\n",
       "[5 rows x 36 columns]"
      ]
     },
     "execution_count": 561,
     "metadata": {},
     "output_type": "execute_result"
    }
   ],
   "source": [
    "processed_table_7362.head()"
   ]
  },
  {
   "cell_type": "code",
   "execution_count": 562,
   "metadata": {},
   "outputs": [],
   "source": [
    "processed_table_7362_duplicate = pd.read_csv('./data/tables/processed_table_7362_without_encoding.csv')"
   ]
  },
  {
   "cell_type": "code",
   "execution_count": 563,
   "metadata": {},
   "outputs": [],
   "source": [
    "df = pd.DataFrame(Y_pred_7362)"
   ]
  },
  {
   "cell_type": "code",
   "execution_count": 564,
   "metadata": {},
   "outputs": [],
   "source": [
    "processed_table_7362_duplicate['prob_will_contribute'] = df[1]"
   ]
  },
  {
   "cell_type": "code",
   "execution_count": 565,
   "metadata": {},
   "outputs": [
    {
     "data": {
      "text/plain": [
       "0        0.103250\n",
       "1        0.000551\n",
       "2        0.091850\n",
       "3        0.003690\n",
       "4        0.034134\n",
       "           ...   \n",
       "26517    0.003214\n",
       "26518    0.001942\n",
       "26519    0.000753\n",
       "26520    0.004225\n",
       "26521    0.002141\n",
       "Name: prob_will_contribute, Length: 26522, dtype: float64"
      ]
     },
     "execution_count": 565,
     "metadata": {},
     "output_type": "execute_result"
    }
   ],
   "source": [
    "processed_table_7362_duplicate['prob_will_contribute']"
   ]
  },
  {
   "cell_type": "markdown",
   "metadata": {},
   "source": [
    "# Analyzing Potential Donor Profile\n"
   ]
  },
  {
   "cell_type": "markdown",
   "metadata": {},
   "source": [
    "Potential Donors Based on Region"
   ]
  },
  {
   "cell_type": "code",
   "execution_count": 566,
   "metadata": {},
   "outputs": [
    {
     "data": {
      "image/png": "[encoded data removed]",
      "text/plain": [
       "<Figure size 432x432 with 1 Axes>"
      ]
     },
     "metadata": {
      "needs_background": "light"
     },
     "output_type": "display_data"
    }
   ],
   "source": [
    "import seaborn as sns\n",
    "\n",
    "\n",
    "fig,ax = plt.subplots()\n",
    "fig.set_size_inches(6,6,forward =True)\n",
    "sns.histplot(processed_table_7362_duplicate.loc[processed_table_7362_duplicate['prob_will_contribute'] > 0.5,'region'],color = 'orange')\n",
    "plt.xlabel('Region')\n",
    "ax.set_title('Potential Donors Based on Region')\n",
    "plt.show()"
   ]
  },
  {
   "cell_type": "markdown",
   "metadata": {},
   "source": [
    "Plotting Donors in terms of Age"
   ]
  },
  {
   "cell_type": "code",
   "execution_count": 567,
   "metadata": {},
   "outputs": [
    {
     "data": {
      "text/plain": [
       "Text(0.5, 1.0, 'Donors in terms of Age')"
      ]
     },
     "execution_count": 567,
     "metadata": {},
     "output_type": "execute_result"
    },
    {
     "data": {
      "image/png": "[encoded data removed]",
      "text/plain": [
       "<Figure size 432x288 with 1 Axes>"
      ]
     },
     "metadata": {
      "needs_background": "light"
     },
     "output_type": "display_data"
    }
   ],
   "source": [
    "processed_table_7362_duplicate.loc[processed_table_7362_duplicate['prob_will_contribute'] > 0.5,'age'].hist(legend=True, color='#FFCF56')\n",
    "plt.xlabel('Age')\n",
    "plt.ylabel(\"Number of Donors\");\n",
    "plt.title('Donors in terms of Age')\n"
   ]
  },
  {
   "cell_type": "markdown",
   "metadata": {},
   "source": [
    "Plotting Non-Donators in terms of Age"
   ]
  },
  {
   "cell_type": "code",
   "execution_count": 568,
   "metadata": {},
   "outputs": [
    {
     "data": {
      "text/plain": [
       "Text(0.5, 1.0, 'Non-Donators in terms of Age')"
      ]
     },
     "execution_count": 568,
     "metadata": {},
     "output_type": "execute_result"
    },
    {
     "data": {
      "image/png": "[encoded data removed]",
      "text/plain": [
       "<Figure size 432x288 with 1 Axes>"
      ]
     },
     "metadata": {
      "needs_background": "light"
     },
     "output_type": "display_data"
    }
   ],
   "source": [
    "processed_table_7362_duplicate.loc[processed_table_7362_duplicate['prob_will_contribute'] < 0.2,'age'].hist(legend=True, color='#964B00')\n",
    "plt.xlabel('Age')\n",
    "plt.ylabel(\"Number of Donors\");\n",
    "plt.title('Non-Donators in terms of Age')"
   ]
  },
  {
   "cell_type": "markdown",
   "metadata": {},
   "source": [
    "### Plotting gender distribution for donors and non donors"
   ]
  },
  {
   "cell_type": "code",
   "execution_count": 569,
   "metadata": {},
   "outputs": [
    {
     "data": {
      "text/plain": [
       "Text(0.5, 1.0, 'Donors in terms of Gender')"
      ]
     },
     "execution_count": 569,
     "metadata": {},
     "output_type": "execute_result"
    },
    {
     "data": {
      "image/png": "[encoded data removed]",
      "text/plain": [
       "<Figure size 432x288 with 1 Axes>"
      ]
     },
     "metadata": {
      "needs_background": "light"
     },
     "output_type": "display_data"
    }
   ],
   "source": [
    "processed_table_7362_duplicate.loc[processed_table_7362_duplicate['prob_will_contribute'] > 0.5,'gender'].hist(legend=True, color='#FFCF56',bins=3)\n",
    "plt.xlabel('Gender')\n",
    "plt.ylabel(\"Number of Donors\");\n",
    "plt.title('Donors in terms of Gender')"
   ]
  },
  {
   "cell_type": "markdown",
   "metadata": {},
   "source": [
    "Donors vs Number of Earlier Donations"
   ]
  },
  {
   "cell_type": "code",
   "execution_count": 570,
   "metadata": {},
   "outputs": [
    {
     "data": {
      "text/plain": [
       "Text(0.5, 1.0, 'Donors vs Number of Earlier Donations')"
      ]
     },
     "execution_count": 570,
     "metadata": {},
     "output_type": "execute_result"
    },
    {
     "data": {
      "image/png": "[encoded data removed]",
      "text/plain": [
       "<Figure size 432x288 with 1 Axes>"
      ]
     },
     "metadata": {
      "needs_background": "light"
     },
     "output_type": "display_data"
    }
   ],
   "source": [
    "processed_table_7362_duplicate.loc[processed_table_7362_duplicate['prob_will_contribute'] > 0.5 ,'number_of_campaigns'].hist(legend=True, color='#FFCF56',bins=25)\n",
    "plt.xlim((1, 25))\n",
    "plt.xlabel('Number of Campaigns')\n",
    "plt.ylabel(\"Number of Donors\");\n",
    "plt.title('Donors vs Number of Earlier Donations')"
   ]
  },
  {
   "cell_type": "markdown",
   "metadata": {},
   "source": [
    "Donors vs Days since last contribution"
   ]
  },
  {
   "cell_type": "code",
   "execution_count": 571,
   "metadata": {},
   "outputs": [
    {
     "data": {
      "text/plain": [
       "Text(0.5, 1.0, 'Donors vs Days since last contribution')"
      ]
     },
     "execution_count": 571,
     "metadata": {},
     "output_type": "execute_result"
    },
    {
     "data": {
      "image/png": "[encoded data removed]",
      "text/plain": [
       "<Figure size 432x288 with 1 Axes>"
      ]
     },
     "metadata": {
      "needs_background": "light"
     },
     "output_type": "display_data"
    }
   ],
   "source": [
    "processed_table_7362_duplicate.loc[processed_table_7362_duplicate['prob_will_contribute'] > 0.5,'days_since_contributed'].hist(legend=True, color='#FFCF56',bins=50)\n",
    "plt.xlabel('Days since last contribution')\n",
    "plt.ylabel(\"Number of Donors\");\n",
    "plt.title('Donors vs Days since last contribution')"
   ]
  },
  {
   "cell_type": "markdown",
   "metadata": {},
   "source": [
    "Donors in terms of Province"
   ]
  },
  {
   "cell_type": "code",
   "execution_count": 572,
   "metadata": {},
   "outputs": [
    {
     "data": {
      "text/plain": [
       "Text(0.5, 1.0, 'Donors in terms of Province')"
      ]
     },
     "execution_count": 572,
     "metadata": {},
     "output_type": "execute_result"
    },
    {
     "data": {
      "image/png": "[encoded data removed]",
      "text/plain": [
       "<Figure size 432x288 with 1 Axes>"
      ]
     },
     "metadata": {
      "needs_background": "light"
     },
     "output_type": "display_data"
    }
   ],
   "source": [
    "processed_table_7362_duplicate.loc[processed_table_7362_duplicate['prob_will_contribute'] > 0.5,'province'].hist(legend=True, color='#FFCF56',bins=25)\n",
    "plt.xlabel('Province')\n",
    "plt.xticks(rotation=90)\n",
    "plt.ylabel(\"Number of Donors\");\n",
    "plt.title('Donors in terms of Province')"
   ]
  },
  {
   "cell_type": "markdown",
   "metadata": {},
   "source": [
    "END OF EVALUATION FILE"
   ]
  }
 ],
 "metadata": {
  "interpreter": {
   "hash": "63fd5069d213b44bf678585dea6b12cceca9941eaf7f819626cde1f2670de90d"
  },
  "kernelspec": {
   "display_name": "Python 3",
   "language": "python",
   "name": "python3"
  },
  "language_info": {
   "codemirror_mode": {
    "name": "ipython",
    "version": 3
   },
   "file_extension": ".py",
   "mimetype": "text/x-python",
   "name": "python",
   "nbconvert_exporter": "python",
   "pygments_lexer": "ipython3",
   "version": "3.8.8"
  }
 },
 "nbformat": 4,
 "nbformat_minor": 2
}
