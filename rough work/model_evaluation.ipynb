{
 "cells": [
  {
   "cell_type": "code",
   "execution_count": 1,
   "metadata": {},
   "outputs": [],
   "source": [
    "# machine learning\n",
    "from sklearn.linear_model import LogisticRegression\n",
    "from sklearn.svm import SVC, LinearSVC\n",
    "from sklearn.ensemble import RandomForestClassifier\n",
    "from sklearn.neighbors import KNeighborsClassifier\n",
    "from sklearn.naive_bayes import GaussianNB\n",
    "from sklearn.linear_model import Perceptron\n",
    "from sklearn.linear_model import SGDClassifier\n",
    "from sklearn.tree import DecisionTreeClassifier\n",
    "from sklearn.model_selection import train_test_split\n",
    "from sklearn.metrics import accuracy_score\n",
    "from sklearn.preprocessing import LabelEncoder\n",
    "from sklearn.metrics import confusion_matrix\n",
    "from sklearn.metrics import roc_auc_score\n",
    "from scipy.stats          import pearsonr\n",
    "\n",
    "# Import libraries\n",
    "import numpy as np\n",
    "import pandas as pd\n",
    "import matplotlib.pyplot as plt\n",
    "import os\n",
    "import datetime\n",
    "from dateutil.relativedelta import relativedelta"
   ]
  },
  {
   "cell_type": "code",
   "execution_count": 2,
   "metadata": {},
   "outputs": [],
   "source": [
    "processed_table_6169 = pd.read_csv('./data/processed_table.csv')"
   ]
  },
  {
   "cell_type": "code",
   "execution_count": 3,
   "metadata": {},
   "outputs": [],
   "source": [
    "processed_table_6169 = processed_table_6169.drop('Unnamed: 0',  axis = 1)"
   ]
  },
  {
   "cell_type": "code",
   "execution_count": 4,
   "metadata": {},
   "outputs": [
    {
     "name": "stdout",
     "output_type": "stream",
     "text": [
      "province\n",
      "region\n",
      "gender\n",
      "language\n",
      "number_of_campaigns\n",
      "total_amount\n",
      "Q1_Donations\n",
      "Q2_Donations\n",
      "Q3_Donations\n",
      "Q4_Donations\n",
      "days_since_contributed\n",
      "mean\n",
      "min\n",
      "max\n",
      "Q1_Amount\n",
      "Q2_Amount\n",
      "Q3_Amount\n",
      "Q4_Amount\n",
      "Q1_Min\n",
      "Q2_Min\n",
      "Q3_Min\n",
      "Q4_Min\n",
      "Q1_Max\n",
      "Q2_Max\n",
      "Q3_Max\n",
      "Q4_Max\n",
      "Q1_Mean\n",
      "Q2_Mean\n",
      "Q3_Mean\n",
      "Q4_Mean\n",
      "age\n",
      "age-group\n",
      "amount\n",
      "has_contributed\n"
     ]
    }
   ],
   "source": [
    "encoder = LabelEncoder()\n",
    "for column in processed_table_6169.columns[1:]:\n",
    "    print(column)\n",
    "    df = processed_table_6169[column]\n",
    "\n",
    "    if processed_table_6169[column].dtype == object or processed_table_6169[column].dtype.name == 'category':\n",
    "        processed_table_6169[column] = encoder.fit_transform(processed_table_6169[column])\n",
    "\n",
    "y = processed_table_6169[\"has_contributed\"]\n",
    "X = processed_table_6169.drop(\"has_contributed\", axis=1)\n",
    "\n",
    "    "
   ]
  },
  {
   "cell_type": "code",
   "execution_count": 5,
   "metadata": {},
   "outputs": [
    {
     "name": "stdout",
     "output_type": "stream",
     "text": [
      "<class 'pandas.core.frame.DataFrame'>\n",
      "RangeIndex: 21647 entries, 0 to 21646\n",
      "Data columns (total 34 columns):\n",
      " #   Column                  Non-Null Count  Dtype  \n",
      "---  ------                  --------------  -----  \n",
      " 0   donorID                 21647 non-null  int64  \n",
      " 1   province                21647 non-null  int32  \n",
      " 2   region                  21647 non-null  int32  \n",
      " 3   gender                  21647 non-null  int32  \n",
      " 4   language                21647 non-null  int32  \n",
      " 5   number_of_campaigns     21628 non-null  float64\n",
      " 6   total_amount            21628 non-null  float64\n",
      " 7   Q1_Donations            17038 non-null  float64\n",
      " 8   Q2_Donations            14174 non-null  float64\n",
      " 9   Q3_Donations            11590 non-null  float64\n",
      " 10  Q4_Donations            13356 non-null  float64\n",
      " 11  days_since_contributed  21628 non-null  float64\n",
      " 12  mean                    21628 non-null  float64\n",
      " 13  min                     21628 non-null  float64\n",
      " 14  max                     21628 non-null  float64\n",
      " 15  Q1_Amount               17038 non-null  float64\n",
      " 16  Q2_Amount               14174 non-null  float64\n",
      " 17  Q3_Amount               11590 non-null  float64\n",
      " 18  Q4_Amount               13356 non-null  float64\n",
      " 19  Q1_Min                  17038 non-null  float64\n",
      " 20  Q2_Min                  14174 non-null  float64\n",
      " 21  Q3_Min                  11590 non-null  float64\n",
      " 22  Q4_Min                  13356 non-null  float64\n",
      " 23  Q1_Max                  17038 non-null  float64\n",
      " 24  Q2_Max                  14174 non-null  float64\n",
      " 25  Q3_Max                  11590 non-null  float64\n",
      " 26  Q4_Max                  13356 non-null  float64\n",
      " 27  Q1_Mean                 17038 non-null  float64\n",
      " 28  Q2_Mean                 14174 non-null  float64\n",
      " 29  Q3_Mean                 11590 non-null  float64\n",
      " 30  Q4_Mean                 13356 non-null  float64\n",
      " 31  age                     21647 non-null  int64  \n",
      " 32  age-group               21647 non-null  int64  \n",
      " 33  amount                  21647 non-null  float64\n",
      "dtypes: float64(27), int32(4), int64(3)\n",
      "memory usage: 5.3 MB\n"
     ]
    }
   ],
   "source": [
    "X.info()"
   ]
  },
  {
   "cell_type": "code",
   "execution_count": 6,
   "metadata": {},
   "outputs": [],
   "source": [
    "X = X.fillna(0)"
   ]
  },
  {
   "cell_type": "code",
   "execution_count": 7,
   "metadata": {},
   "outputs": [
    {
     "name": "stderr",
     "output_type": "stream",
     "text": [
      "C:\\tools\\Anaconda3\\lib\\site-packages\\sklearn\\utils\\optimize.py:210: ConvergenceWarning: newton-cg failed to converge. Increase the number of iterations.\n",
      "  warnings.warn(\n"
     ]
    }
   ],
   "source": [
    "logreg = LogisticRegression(solver = 'newton-cg', max_iter = 25)\n",
    "    # split in train and test data\n",
    "X_train, X_test, y_train, y_test = train_test_split(X, y, test_size=0.3, random_state=42)\n",
    "logreg.fit(X_train, y_train)\n",
    "\n",
    "    # predict probabilities\n",
    "pred_train = logreg.predict(X_train)\n",
    "pred_test = logreg.predict(X_test)\n",
    "\n",
    "    # evaluate predictions\n",
    "mlp_acc_train = accuracy_score(y_train, pred_train)\n",
    "mlp_acc_test = accuracy_score(y_test, pred_test)\n",
    "\n",
    "eval_dict = {\"logreg\": {\"Acc_train\": mlp_acc_train, \"Acc_test\": mlp_acc_test}}"
   ]
  },
  {
   "cell_type": "code",
   "execution_count": 8,
   "metadata": {},
   "outputs": [
    {
     "name": "stdout",
     "output_type": "stream",
     "text": [
      "{'logreg': {'Acc_train': 0.9844904963041182, 'Acc_test': 0.9844495765973826}}\n"
     ]
    }
   ],
   "source": [
    "print(eval_dict)"
   ]
  },
  {
   "cell_type": "code",
   "execution_count": null,
   "metadata": {},
   "outputs": [],
   "source": []
  },
  {
   "cell_type": "code",
   "execution_count": 9,
   "metadata": {},
   "outputs": [
    {
     "data": {
      "text/plain": [
       "131"
      ]
     },
     "execution_count": 9,
     "metadata": {},
     "output_type": "execute_result"
    }
   ],
   "source": [
    "pred_test.sum()"
   ]
  },
  {
   "cell_type": "code",
   "execution_count": 10,
   "metadata": {},
   "outputs": [
    {
     "data": {
      "text/plain": [
       "210"
      ]
     },
     "execution_count": 10,
     "metadata": {},
     "output_type": "execute_result"
    }
   ],
   "source": [
    "y_test.sum()"
   ]
  },
  {
   "cell_type": "code",
   "execution_count": 11,
   "metadata": {},
   "outputs": [
    {
     "data": {
      "text/plain": [
       "array([[6274,   11],\n",
       "       [  90,  120]], dtype=int64)"
      ]
     },
     "execution_count": 11,
     "metadata": {},
     "output_type": "execute_result"
    }
   ],
   "source": [
    "confusion_matrix(y_test, pred_test)"
   ]
  },
  {
   "cell_type": "code",
   "execution_count": 12,
   "metadata": {},
   "outputs": [
    {
     "data": {
      "text/plain": [
       "0.7848391862711672"
      ]
     },
     "execution_count": 12,
     "metadata": {},
     "output_type": "execute_result"
    }
   ],
   "source": [
    "mlp_roc_train = roc_auc_score(y_test, pred_test)\n",
    "mlp_roc_train"
   ]
  },
  {
   "cell_type": "code",
   "execution_count": 13,
   "metadata": {},
   "outputs": [
    {
     "name": "stdout",
     "output_type": "stream",
     "text": [
      "<class 'pandas.core.frame.DataFrame'>\n",
      "RangeIndex: 25645 entries, 0 to 25644\n",
      "Data columns (total 35 columns):\n",
      " #   Column                  Non-Null Count  Dtype  \n",
      "---  ------                  --------------  -----  \n",
      " 0   donorID                 25645 non-null  int64  \n",
      " 1   province                25645 non-null  object \n",
      " 2   region                  25645 non-null  object \n",
      " 3   gender                  25645 non-null  object \n",
      " 4   language                25645 non-null  object \n",
      " 5   number_of_campaigns     25644 non-null  float64\n",
      " 6   total_amount            25644 non-null  float64\n",
      " 7   Q1_Donations            13953 non-null  float64\n",
      " 8   Q2_Donations            13337 non-null  float64\n",
      " 9   Q3_Donations            10980 non-null  float64\n",
      " 10  Q4_Donations            13061 non-null  float64\n",
      " 11  days_since_contributed  25644 non-null  float64\n",
      " 12  mean                    25644 non-null  float64\n",
      " 13  min                     25644 non-null  float64\n",
      " 14  max                     25644 non-null  float64\n",
      " 15  Q1_Max                  13953 non-null  float64\n",
      " 16  Q2_Max                  13337 non-null  float64\n",
      " 17  Q3_Max                  10980 non-null  float64\n",
      " 18  Q4_Max                  13061 non-null  float64\n",
      " 19  Q1_Min                  13953 non-null  float64\n",
      " 20  Q2_Min                  13337 non-null  float64\n",
      " 21  Q3_Min                  10980 non-null  float64\n",
      " 22  Q4_Min                  13061 non-null  float64\n",
      " 23  Q1_Mean                 13953 non-null  float64\n",
      " 24  Q2_Mean                 13337 non-null  float64\n",
      " 25  Q3_Mean                 10980 non-null  float64\n",
      " 26  Q4_Mean                 13061 non-null  float64\n",
      " 27  Q1_Amount               13953 non-null  float64\n",
      " 28  Q2_Amount               13337 non-null  float64\n",
      " 29  Q3_Amount               10980 non-null  float64\n",
      " 30  Q4_Amount               13061 non-null  float64\n",
      " 31  age                     25645 non-null  int64  \n",
      " 32  age-group               25645 non-null  int64  \n",
      " 33  amount                  361 non-null    float64\n",
      " 34  has_contributed         25645 non-null  int64  \n",
      "dtypes: float64(27), int64(4), object(4)\n",
      "memory usage: 6.8+ MB\n"
     ]
    }
   ],
   "source": [
    "processed_table_7244 = pd.read_csv('./data/processed_table_7244.csv')\n",
    "processed_table_7244 = processed_table_7244.drop('Unnamed: 0',  axis = 1)\n",
    "processed_table_7244.info()\n",
    "processed_table_7244 = processed_table_7244.fillna(0)"
   ]
  },
  {
   "cell_type": "code",
   "execution_count": 14,
   "metadata": {},
   "outputs": [
    {
     "name": "stdout",
     "output_type": "stream",
     "text": [
      "province\n",
      "region\n",
      "gender\n",
      "language\n",
      "number_of_campaigns\n",
      "total_amount\n",
      "Q1_Donations\n",
      "Q2_Donations\n",
      "Q3_Donations\n",
      "Q4_Donations\n",
      "days_since_contributed\n",
      "mean\n",
      "min\n",
      "max\n",
      "Q1_Max\n",
      "Q2_Max\n",
      "Q3_Max\n",
      "Q4_Max\n",
      "Q1_Min\n",
      "Q2_Min\n",
      "Q3_Min\n",
      "Q4_Min\n",
      "Q1_Mean\n",
      "Q2_Mean\n",
      "Q3_Mean\n",
      "Q4_Mean\n",
      "Q1_Amount\n",
      "Q2_Amount\n",
      "Q3_Amount\n",
      "Q4_Amount\n",
      "age\n",
      "age-group\n",
      "amount\n",
      "has_contributed\n"
     ]
    }
   ],
   "source": [
    "encoder = LabelEncoder()\n",
    "for column in processed_table_7244.columns[1:]:\n",
    "    print(column)\n",
    "    df = processed_table_7244[column]\n",
    "\n",
    "    if processed_table_7244[column].dtype == object or processed_table_7244[column].dtype.name == 'category':\n",
    "        processed_table_7244[column] = encoder.fit_transform(processed_table_7244[column])\n",
    "\n",
    "y_test = processed_table_7244[\"has_contributed\"]\n",
    "X_test = processed_table_7244.drop(\"has_contributed\", axis=1)"
   ]
  },
  {
   "cell_type": "code",
   "execution_count": 15,
   "metadata": {},
   "outputs": [
    {
     "name": "stdout",
     "output_type": "stream",
     "text": [
      "<class 'pandas.core.frame.DataFrame'>\n",
      "RangeIndex: 25645 entries, 0 to 25644\n",
      "Data columns (total 34 columns):\n",
      " #   Column                  Non-Null Count  Dtype  \n",
      "---  ------                  --------------  -----  \n",
      " 0   donorID                 25645 non-null  int64  \n",
      " 1   province                25645 non-null  int32  \n",
      " 2   region                  25645 non-null  int32  \n",
      " 3   gender                  25645 non-null  int32  \n",
      " 4   language                25645 non-null  int32  \n",
      " 5   number_of_campaigns     25645 non-null  float64\n",
      " 6   total_amount            25645 non-null  float64\n",
      " 7   Q1_Donations            25645 non-null  float64\n",
      " 8   Q2_Donations            25645 non-null  float64\n",
      " 9   Q3_Donations            25645 non-null  float64\n",
      " 10  Q4_Donations            25645 non-null  float64\n",
      " 11  days_since_contributed  25645 non-null  float64\n",
      " 12  mean                    25645 non-null  float64\n",
      " 13  min                     25645 non-null  float64\n",
      " 14  max                     25645 non-null  float64\n",
      " 15  Q1_Max                  25645 non-null  float64\n",
      " 16  Q2_Max                  25645 non-null  float64\n",
      " 17  Q3_Max                  25645 non-null  float64\n",
      " 18  Q4_Max                  25645 non-null  float64\n",
      " 19  Q1_Min                  25645 non-null  float64\n",
      " 20  Q2_Min                  25645 non-null  float64\n",
      " 21  Q3_Min                  25645 non-null  float64\n",
      " 22  Q4_Min                  25645 non-null  float64\n",
      " 23  Q1_Mean                 25645 non-null  float64\n",
      " 24  Q2_Mean                 25645 non-null  float64\n",
      " 25  Q3_Mean                 25645 non-null  float64\n",
      " 26  Q4_Mean                 25645 non-null  float64\n",
      " 27  Q1_Amount               25645 non-null  float64\n",
      " 28  Q2_Amount               25645 non-null  float64\n",
      " 29  Q3_Amount               25645 non-null  float64\n",
      " 30  Q4_Amount               25645 non-null  float64\n",
      " 31  age                     25645 non-null  int64  \n",
      " 32  age-group               25645 non-null  int64  \n",
      " 33  amount                  25645 non-null  float64\n",
      "dtypes: float64(27), int32(4), int64(3)\n",
      "memory usage: 6.3 MB\n"
     ]
    }
   ],
   "source": [
    "X_test.info()"
   ]
  },
  {
   "cell_type": "code",
   "execution_count": 16,
   "metadata": {},
   "outputs": [
    {
     "name": "stderr",
     "output_type": "stream",
     "text": [
      "C:\\tools\\Anaconda3\\lib\\site-packages\\sklearn\\base.py:484: FutureWarning: The feature names should match those that were passed during fit. Starting version 1.2, an error will be raised.\n",
      "Feature names must be in the same order as they were in fit.\n",
      "\n",
      "  warnings.warn(message, FutureWarning)\n"
     ]
    }
   ],
   "source": [
    "y_test_pred = logreg.predict(X_test)"
   ]
  },
  {
   "cell_type": "code",
   "execution_count": 17,
   "metadata": {},
   "outputs": [
    {
     "name": "stdout",
     "output_type": "stream",
     "text": [
      "0.9939559368297913\n"
     ]
    }
   ],
   "source": [
    "# evaluate predictions\n",
    "mlp_acc_test = accuracy_score(y_test, y_test_pred)\n",
    "print(mlp_acc_test)"
   ]
  },
  {
   "cell_type": "code",
   "execution_count": 18,
   "metadata": {},
   "outputs": [
    {
     "data": {
      "text/plain": [
       "56"
      ]
     },
     "execution_count": 18,
     "metadata": {},
     "output_type": "execute_result"
    }
   ],
   "source": [
    "y_test_pred.sum()"
   ]
  },
  {
   "cell_type": "code",
   "execution_count": 19,
   "metadata": {},
   "outputs": [
    {
     "data": {
      "text/plain": [
       "211"
      ]
     },
     "execution_count": 19,
     "metadata": {},
     "output_type": "execute_result"
    }
   ],
   "source": [
    "y_test.sum()"
   ]
  },
  {
   "cell_type": "code",
   "execution_count": 20,
   "metadata": {},
   "outputs": [
    {
     "data": {
      "text/plain": [
       "array([[25434,     0],\n",
       "       [  155,    56]], dtype=int64)"
      ]
     },
     "execution_count": 20,
     "metadata": {},
     "output_type": "execute_result"
    }
   ],
   "source": [
    "confusion_matrix(y_test, y_test_pred)"
   ]
  },
  {
   "cell_type": "code",
   "execution_count": 21,
   "metadata": {},
   "outputs": [
    {
     "data": {
      "text/plain": [
       "0.6327014218009479"
      ]
     },
     "execution_count": 21,
     "metadata": {},
     "output_type": "execute_result"
    }
   ],
   "source": [
    "mlp_roc_train = roc_auc_score(y_test, y_test_pred)\n",
    "mlp_roc_train"
   ]
  },
  {
   "cell_type": "code",
   "execution_count": 22,
   "metadata": {},
   "outputs": [],
   "source": [
    "tree = DecisionTreeClassifier()\n",
    "logistic = LogisticRegression(solver = \"lbfgs\")\n",
    "randomForest = RandomForestClassifier(n_estimators = 25, n_jobs=-1)\n",
    "svm = SVC(gamma = \"scale\", probability = True)\n",
    "neighbors = KNeighborsClassifier()\n",
    "\n",
    "\n",
    "\n",
    "models = {\"tree\" :tree,\n",
    "\"logistic\" :logistic,\n",
    "\"randomForest\" :randomForest,\n",
    "#\n",
    "# \"boostedTree\" :boostedTree,\n",
    "\"svm\" :svm,\n",
    "#\"neuralNet\" :neuralNet,\n",
    "# \"neighbors\" :neighbors\n",
    "}"
   ]
  },
  {
   "cell_type": "code",
   "execution_count": 23,
   "metadata": {},
   "outputs": [
    {
     "name": "stdout",
     "output_type": "stream",
     "text": [
      "tree has been trained successfully\n"
     ]
    },
    {
     "name": "stderr",
     "output_type": "stream",
     "text": [
      "C:\\tools\\Anaconda3\\lib\\site-packages\\sklearn\\linear_model\\_logistic.py:814: ConvergenceWarning: lbfgs failed to converge (status=1):\n",
      "STOP: TOTAL NO. of ITERATIONS REACHED LIMIT.\n",
      "\n",
      "Increase the number of iterations (max_iter) or scale the data as shown in:\n",
      "    https://scikit-learn.org/stable/modules/preprocessing.html\n",
      "Please also refer to the documentation for alternative solver options:\n",
      "    https://scikit-learn.org/stable/modules/linear_model.html#logistic-regression\n",
      "  n_iter_i = _check_optimize_result(\n"
     ]
    },
    {
     "name": "stdout",
     "output_type": "stream",
     "text": [
      "logistic has been trained successfully\n",
      "randomForest has been trained successfully\n",
      "svm has been trained successfully\n"
     ]
    },
    {
     "name": "stderr",
     "output_type": "stream",
     "text": [
      "C:\\tools\\Anaconda3\\lib\\site-packages\\sklearn\\base.py:484: FutureWarning: The feature names should match those that were passed during fit. Starting version 1.2, an error will be raised.\n",
      "Feature names must be in the same order as they were in fit.\n",
      "\n",
      "  warnings.warn(message, FutureWarning)\n",
      "C:\\tools\\Anaconda3\\lib\\site-packages\\sklearn\\base.py:484: FutureWarning: The feature names should match those that were passed during fit. Starting version 1.2, an error will be raised.\n",
      "Feature names must be in the same order as they were in fit.\n",
      "\n",
      "  warnings.warn(message, FutureWarning)\n",
      "C:\\tools\\Anaconda3\\lib\\site-packages\\sklearn\\base.py:484: FutureWarning: The feature names should match those that were passed during fit. Starting version 1.2, an error will be raised.\n",
      "Feature names must be in the same order as they were in fit.\n",
      "\n",
      "  warnings.warn(message, FutureWarning)\n",
      "C:\\tools\\Anaconda3\\lib\\site-packages\\sklearn\\base.py:484: FutureWarning: The feature names should match those that were passed during fit. Starting version 1.2, an error will be raised.\n",
      "Feature names must be in the same order as they were in fit.\n",
      "\n",
      "  warnings.warn(message, FutureWarning)\n",
      "C:\\tools\\Anaconda3\\lib\\site-packages\\sklearn\\base.py:484: FutureWarning: The feature names should match those that were passed during fit. Starting version 1.2, an error will be raised.\n",
      "Feature names must be in the same order as they were in fit.\n",
      "\n",
      "  warnings.warn(message, FutureWarning)\n",
      "C:\\tools\\Anaconda3\\lib\\site-packages\\sklearn\\base.py:484: FutureWarning: The feature names should match those that were passed during fit. Starting version 1.2, an error will be raised.\n",
      "Feature names must be in the same order as they were in fit.\n",
      "\n",
      "  warnings.warn(message, FutureWarning)\n",
      "C:\\tools\\Anaconda3\\lib\\site-packages\\sklearn\\base.py:484: FutureWarning: The feature names should match those that were passed during fit. Starting version 1.2, an error will be raised.\n",
      "Feature names must be in the same order as they were in fit.\n",
      "\n",
      "  warnings.warn(message, FutureWarning)\n",
      "C:\\tools\\Anaconda3\\lib\\site-packages\\sklearn\\base.py:484: FutureWarning: The feature names should match those that were passed during fit. Starting version 1.2, an error will be raised.\n",
      "Feature names must be in the same order as they were in fit.\n",
      "\n",
      "  warnings.warn(message, FutureWarning)\n"
     ]
    }
   ],
   "source": [
    "from pandas import DataFrame\n",
    "from numpy import array\n",
    "\n",
    "for model in models:\n",
    "    models[model].fit(X_train, y_train)\n",
    "    print(f\"{model} has been trained successfully\")\n",
    "\n",
    "performances_train = {}\n",
    "performances_test = {}\n",
    "\n",
    "\n",
    "for model in models:\n",
    "    predictions = models[model].predict(X_train)\n",
    "    probabilities = DataFrame(models[model].predict_proba(X_train))[1]\n",
    "    accuracy = accuracy_score(y_train,predictions)\n",
    "    auc = roc_auc_score(array(y_train),array(probabilities))\n",
    "    performances_train[model] = {\"Accuracy\":accuracy,\"AUC\":auc}\n",
    "\n",
    "\n",
    "for model in models:\n",
    "    predictions = models[model].predict(X_test)\n",
    "    probabilities = DataFrame(models[model].predict_proba(X_test))[1]\n",
    "    accuracy = accuracy_score(y_test,predictions)\n",
    "    auc = roc_auc_score(array(y_test),array(probabilities))\n",
    "    performances_test[model] = {\"Accuracy\":accuracy,\"AUC\":auc}\n"
   ]
  },
  {
   "cell_type": "code",
   "execution_count": 24,
   "metadata": {},
   "outputs": [
    {
     "data": {
      "text/plain": [
       "{'tree': {'Accuracy': 1.0, 'AUC': 1.0},\n",
       " 'logistic': {'Accuracy': 0.992740232312566, 'AUC': 0.9916929025585148},\n",
       " 'randomForest': {'Accuracy': 1.0, 'AUC': 1.0},\n",
       " 'svm': {'Accuracy': 0.9654171066525871, 'AUC': 0.8320591117735098}}"
      ]
     },
     "execution_count": 24,
     "metadata": {},
     "output_type": "execute_result"
    }
   ],
   "source": [
    "performances_train"
   ]
  },
  {
   "cell_type": "code",
   "execution_count": 25,
   "metadata": {},
   "outputs": [
    {
     "data": {
      "text/plain": [
       "{'tree': {'Accuracy': 0.9989081692337688, 'AUC': 0.933649289099526},\n",
       " 'logistic': {'Accuracy': 0.9956326769350751, 'AUC': 0.9434685890849543},\n",
       " 'randomForest': {'Accuracy': 0.9909923961785924, 'AUC': 0.8748461308835022},\n",
       " 'svm': {'Accuracy': 0.9917722752973289, 'AUC': 0.477128983966307}}"
      ]
     },
     "execution_count": 25,
     "metadata": {},
     "output_type": "execute_result"
    }
   ],
   "source": [
    "performances_test"
   ]
  },
  {
   "cell_type": "code",
   "execution_count": 26,
   "metadata": {},
   "outputs": [
    {
     "name": "stdout",
     "output_type": "stream",
     "text": [
      "province - p-vlue = 0.42581711153718604 - selected : 0\n",
      "region - p-vlue = 3.7639638960984756e-07 - selected : 1\n",
      "gender - p-vlue = 2.316547538109026e-68 - selected : 1\n",
      "language - p-vlue = 2.173856588024299e-12 - selected : 1\n",
      "number_of_campaigns - p-vlue = 4.445804831392096e-22 - selected : 1\n",
      "total_amount - p-vlue = 1.2687242662283378e-06 - selected : 1\n",
      "Q1_Donations - p-vlue = 4.557460204444329e-21 - selected : 1\n",
      "Q2_Donations - p-vlue = 2.655068534613715e-19 - selected : 1\n",
      "Q3_Donations - p-vlue = 1.008265910913911e-13 - selected : 1\n",
      "Q4_Donations - p-vlue = 8.736574908868767e-07 - selected : 1\n",
      "days_since_contributed - p-vlue = 0.0 - selected : 1\n",
      "mean - p-vlue = 3.255273189870414e-27 - selected : 1\n",
      "min - p-vlue = 2.784359216700466e-61 - selected : 1\n",
      "max - p-vlue = 0.0004549500394281673 - selected : 1\n",
      "Q1_Amount - p-vlue = 2.0008208419783332e-07 - selected : 1\n",
      "Q2_Amount - p-vlue = 7.438886624861758e-07 - selected : 1\n",
      "Q3_Amount - p-vlue = 0.0005734540268868706 - selected : 1\n",
      "Q4_Amount - p-vlue = 0.0001382632588489904 - selected : 1\n",
      "Q1_Min - p-vlue = 0.11673899539550271 - selected : 0\n",
      "Q2_Min - p-vlue = 1.2913137110631622e-05 - selected : 1\n",
      "Q3_Min - p-vlue = 0.002062576327860341 - selected : 0\n",
      "Q4_Min - p-vlue = 4.1916282530556045e-07 - selected : 1\n",
      "Q1_Max - p-vlue = 0.2766160219587666 - selected : 0\n",
      "Q2_Max - p-vlue = 0.3189409863989779 - selected : 0\n",
      "Q3_Max - p-vlue = 0.5033636100929685 - selected : 0\n",
      "Q4_Max - p-vlue = 0.05958874466505059 - selected : 0\n",
      "Q1_Mean - p-vlue = 0.5838224185468932 - selected : 0\n",
      "Q2_Mean - p-vlue = 0.004218771568133985 - selected : 0\n",
      "Q3_Mean - p-vlue = 0.03800799986244931 - selected : 0\n",
      "Q4_Mean - p-vlue = 7.812063540587342e-05 - selected : 1\n",
      "age - p-vlue = 6.593292713525703e-61 - selected : 1\n",
      "age-group - p-vlue = 1.064882733656697e-59 - selected : 1\n",
      "amount - p-vlue = 0.0 - selected : 1\n"
     ]
    }
   ],
   "source": [
    "selectedFeatures = []\n",
    "\n",
    "for column in X.columns:\n",
    "    if column not in ('donorID', 'has_contributed'):\n",
    "        (pearson,pvalue) = pearsonr(X[column],y)\n",
    "        print(f\"{column} - p-vlue = {pvalue} - selected : {1 if pvalue < 0.001 else 0}\")\n",
    "        if pvalue < 0.001:\n",
    "            selectedFeatures.append(column)"
   ]
  },
  {
   "cell_type": "code",
   "execution_count": 27,
   "metadata": {},
   "outputs": [
    {
     "data": {
      "text/plain": [
       "['region',\n",
       " 'gender',\n",
       " 'language',\n",
       " 'number_of_campaigns',\n",
       " 'total_amount',\n",
       " 'Q1_Donations',\n",
       " 'Q2_Donations',\n",
       " 'Q3_Donations',\n",
       " 'Q4_Donations',\n",
       " 'days_since_contributed',\n",
       " 'mean',\n",
       " 'min',\n",
       " 'max',\n",
       " 'Q1_Amount',\n",
       " 'Q2_Amount',\n",
       " 'Q3_Amount',\n",
       " 'Q4_Amount',\n",
       " 'Q2_Min',\n",
       " 'Q4_Min',\n",
       " 'Q4_Mean',\n",
       " 'age',\n",
       " 'age-group',\n",
       " 'amount']"
      ]
     },
     "execution_count": 27,
     "metadata": {},
     "output_type": "execute_result"
    }
   ],
   "source": [
    "selectedFeatures"
   ]
  },
  {
   "cell_type": "code",
   "execution_count": 28,
   "metadata": {},
   "outputs": [
    {
     "name": "stdout",
     "output_type": "stream",
     "text": [
      "<class 'pandas.core.frame.DataFrame'>\n",
      "RangeIndex: 21647 entries, 0 to 21646\n",
      "Data columns (total 34 columns):\n",
      " #   Column                  Non-Null Count  Dtype  \n",
      "---  ------                  --------------  -----  \n",
      " 0   donorID                 21647 non-null  int64  \n",
      " 1   province                21647 non-null  int32  \n",
      " 2   region                  21647 non-null  int32  \n",
      " 3   gender                  21647 non-null  int32  \n",
      " 4   language                21647 non-null  int32  \n",
      " 5   number_of_campaigns     21647 non-null  float64\n",
      " 6   total_amount            21647 non-null  float64\n",
      " 7   Q1_Donations            21647 non-null  float64\n",
      " 8   Q2_Donations            21647 non-null  float64\n",
      " 9   Q3_Donations            21647 non-null  float64\n",
      " 10  Q4_Donations            21647 non-null  float64\n",
      " 11  days_since_contributed  21647 non-null  float64\n",
      " 12  mean                    21647 non-null  float64\n",
      " 13  min                     21647 non-null  float64\n",
      " 14  max                     21647 non-null  float64\n",
      " 15  Q1_Amount               21647 non-null  float64\n",
      " 16  Q2_Amount               21647 non-null  float64\n",
      " 17  Q3_Amount               21647 non-null  float64\n",
      " 18  Q4_Amount               21647 non-null  float64\n",
      " 19  Q1_Min                  21647 non-null  float64\n",
      " 20  Q2_Min                  21647 non-null  float64\n",
      " 21  Q3_Min                  21647 non-null  float64\n",
      " 22  Q4_Min                  21647 non-null  float64\n",
      " 23  Q1_Max                  21647 non-null  float64\n",
      " 24  Q2_Max                  21647 non-null  float64\n",
      " 25  Q3_Max                  21647 non-null  float64\n",
      " 26  Q4_Max                  21647 non-null  float64\n",
      " 27  Q1_Mean                 21647 non-null  float64\n",
      " 28  Q2_Mean                 21647 non-null  float64\n",
      " 29  Q3_Mean                 21647 non-null  float64\n",
      " 30  Q4_Mean                 21647 non-null  float64\n",
      " 31  age                     21647 non-null  int64  \n",
      " 32  age-group               21647 non-null  int64  \n",
      " 33  amount                  21647 non-null  float64\n",
      "dtypes: float64(27), int32(4), int64(3)\n",
      "memory usage: 5.3 MB\n"
     ]
    }
   ],
   "source": [
    "X.info()"
   ]
  },
  {
   "cell_type": "code",
   "execution_count": 29,
   "metadata": {},
   "outputs": [
    {
     "name": "stderr",
     "output_type": "stream",
     "text": [
      "C:\\tools\\Anaconda3\\lib\\site-packages\\sklearn\\utils\\optimize.py:210: ConvergenceWarning: newton-cg failed to converge. Increase the number of iterations.\n",
      "  warnings.warn(\n"
     ]
    }
   ],
   "source": [
    "logreg = LogisticRegression(solver = 'newton-cg', max_iter = 25)\n",
    "\n",
    "X = X[selectedFeatures]\n",
    "    # split in train and test data\n",
    "X_train, X_test, y_train, y_test = train_test_split(X, y, test_size=0.3, random_state=42)\n",
    "logreg.fit(X_train, y_train)\n",
    "\n",
    "    # predict probabilities\n",
    "pred_train = logreg.predict(X_train)\n",
    "pred_test = logreg.predict(X_test)\n",
    "\n",
    "    # evaluate predictions\n",
    "mlp_acc_train = accuracy_score(y_train, pred_train)\n",
    "mlp_acc_test = accuracy_score(y_test, pred_test)\n",
    "\n",
    "eval_dict = {\"logreg\": {\"Acc_train\": mlp_acc_train, \"Acc_test\": mlp_acc_test}}"
   ]
  },
  {
   "cell_type": "code",
   "execution_count": 30,
   "metadata": {},
   "outputs": [
    {
     "data": {
      "text/plain": [
       "{'logreg': {'Acc_train': 0.9945881731784583, 'Acc_test': 0.993841416474211}}"
      ]
     },
     "execution_count": 30,
     "metadata": {},
     "output_type": "execute_result"
    }
   ],
   "source": [
    "eval_dict"
   ]
  },
  {
   "cell_type": "code",
   "execution_count": 31,
   "metadata": {},
   "outputs": [
    {
     "name": "stdout",
     "output_type": "stream",
     "text": [
      "<class 'pandas.core.frame.DataFrame'>\n",
      "RangeIndex: 25645 entries, 0 to 25644\n",
      "Data columns (total 35 columns):\n",
      " #   Column                  Non-Null Count  Dtype  \n",
      "---  ------                  --------------  -----  \n",
      " 0   donorID                 25645 non-null  int64  \n",
      " 1   province                25645 non-null  object \n",
      " 2   region                  25645 non-null  object \n",
      " 3   gender                  25645 non-null  object \n",
      " 4   language                25645 non-null  object \n",
      " 5   number_of_campaigns     25644 non-null  float64\n",
      " 6   total_amount            25644 non-null  float64\n",
      " 7   Q1_Donations            13953 non-null  float64\n",
      " 8   Q2_Donations            13337 non-null  float64\n",
      " 9   Q3_Donations            10980 non-null  float64\n",
      " 10  Q4_Donations            13061 non-null  float64\n",
      " 11  days_since_contributed  25644 non-null  float64\n",
      " 12  mean                    25644 non-null  float64\n",
      " 13  min                     25644 non-null  float64\n",
      " 14  max                     25644 non-null  float64\n",
      " 15  Q1_Max                  13953 non-null  float64\n",
      " 16  Q2_Max                  13337 non-null  float64\n",
      " 17  Q3_Max                  10980 non-null  float64\n",
      " 18  Q4_Max                  13061 non-null  float64\n",
      " 19  Q1_Min                  13953 non-null  float64\n",
      " 20  Q2_Min                  13337 non-null  float64\n",
      " 21  Q3_Min                  10980 non-null  float64\n",
      " 22  Q4_Min                  13061 non-null  float64\n",
      " 23  Q1_Mean                 13953 non-null  float64\n",
      " 24  Q2_Mean                 13337 non-null  float64\n",
      " 25  Q3_Mean                 10980 non-null  float64\n",
      " 26  Q4_Mean                 13061 non-null  float64\n",
      " 27  Q1_Amount               13953 non-null  float64\n",
      " 28  Q2_Amount               13337 non-null  float64\n",
      " 29  Q3_Amount               10980 non-null  float64\n",
      " 30  Q4_Amount               13061 non-null  float64\n",
      " 31  age                     25645 non-null  int64  \n",
      " 32  age-group               25645 non-null  int64  \n",
      " 33  amount                  361 non-null    float64\n",
      " 34  has_contributed         25645 non-null  int64  \n",
      "dtypes: float64(27), int64(4), object(4)\n",
      "memory usage: 6.8+ MB\n"
     ]
    }
   ],
   "source": [
    "processed_table_7244 = pd.read_csv('./data/processed_table_7244.csv')\n",
    "processed_table_7244 = processed_table_7244.drop('Unnamed: 0',  axis = 1)\n",
    "processed_table_7244.info()\n",
    "processed_table_7244 = processed_table_7244.fillna(0)"
   ]
  },
  {
   "cell_type": "code",
   "execution_count": 32,
   "metadata": {},
   "outputs": [
    {
     "name": "stdout",
     "output_type": "stream",
     "text": [
      "province\n",
      "region\n",
      "gender\n",
      "language\n",
      "number_of_campaigns\n",
      "total_amount\n",
      "Q1_Donations\n",
      "Q2_Donations\n",
      "Q3_Donations\n",
      "Q4_Donations\n",
      "days_since_contributed\n",
      "mean\n",
      "min\n",
      "max\n",
      "Q1_Max\n",
      "Q2_Max\n",
      "Q3_Max\n",
      "Q4_Max\n",
      "Q1_Min\n",
      "Q2_Min\n",
      "Q3_Min\n",
      "Q4_Min\n",
      "Q1_Mean\n",
      "Q2_Mean\n",
      "Q3_Mean\n",
      "Q4_Mean\n",
      "Q1_Amount\n",
      "Q2_Amount\n",
      "Q3_Amount\n",
      "Q4_Amount\n",
      "age\n",
      "age-group\n",
      "amount\n",
      "has_contributed\n",
      "<class 'pandas.core.frame.DataFrame'>\n",
      "RangeIndex: 25645 entries, 0 to 25644\n",
      "Data columns (total 34 columns):\n",
      " #   Column                  Non-Null Count  Dtype  \n",
      "---  ------                  --------------  -----  \n",
      " 0   donorID                 25645 non-null  int64  \n",
      " 1   province                25645 non-null  int32  \n",
      " 2   region                  25645 non-null  int32  \n",
      " 3   gender                  25645 non-null  int32  \n",
      " 4   language                25645 non-null  int32  \n",
      " 5   number_of_campaigns     25645 non-null  float64\n",
      " 6   total_amount            25645 non-null  float64\n",
      " 7   Q1_Donations            25645 non-null  float64\n",
      " 8   Q2_Donations            25645 non-null  float64\n",
      " 9   Q3_Donations            25645 non-null  float64\n",
      " 10  Q4_Donations            25645 non-null  float64\n",
      " 11  days_since_contributed  25645 non-null  float64\n",
      " 12  mean                    25645 non-null  float64\n",
      " 13  min                     25645 non-null  float64\n",
      " 14  max                     25645 non-null  float64\n",
      " 15  Q1_Max                  25645 non-null  float64\n",
      " 16  Q2_Max                  25645 non-null  float64\n",
      " 17  Q3_Max                  25645 non-null  float64\n",
      " 18  Q4_Max                  25645 non-null  float64\n",
      " 19  Q1_Min                  25645 non-null  float64\n",
      " 20  Q2_Min                  25645 non-null  float64\n",
      " 21  Q3_Min                  25645 non-null  float64\n",
      " 22  Q4_Min                  25645 non-null  float64\n",
      " 23  Q1_Mean                 25645 non-null  float64\n",
      " 24  Q2_Mean                 25645 non-null  float64\n",
      " 25  Q3_Mean                 25645 non-null  float64\n",
      " 26  Q4_Mean                 25645 non-null  float64\n",
      " 27  Q1_Amount               25645 non-null  float64\n",
      " 28  Q2_Amount               25645 non-null  float64\n",
      " 29  Q3_Amount               25645 non-null  float64\n",
      " 30  Q4_Amount               25645 non-null  float64\n",
      " 31  age                     25645 non-null  int64  \n",
      " 32  age-group               25645 non-null  int64  \n",
      " 33  amount                  25645 non-null  float64\n",
      "dtypes: float64(27), int32(4), int64(3)\n",
      "memory usage: 6.3 MB\n"
     ]
    }
   ],
   "source": [
    "encoder = LabelEncoder()\n",
    "for column in processed_table_7244.columns[1:]:\n",
    "    print(column)\n",
    "    df = processed_table_7244[column]\n",
    "\n",
    "    if processed_table_7244[column].dtype == object or processed_table_7244[column].dtype.name == 'category':\n",
    "        processed_table_7244[column] = encoder.fit_transform(processed_table_7244[column])\n",
    "\n",
    "y_test = processed_table_7244[\"has_contributed\"]\n",
    "X_test = processed_table_7244.drop(\"has_contributed\", axis=1)\n",
    "X_test.info()"
   ]
  },
  {
   "cell_type": "code",
   "execution_count": 33,
   "metadata": {},
   "outputs": [],
   "source": [
    "X_test = X_test[selectedFeatures]"
   ]
  },
  {
   "cell_type": "code",
   "execution_count": 34,
   "metadata": {},
   "outputs": [
    {
     "data": {
      "text/html": [
       "<div>\n",
       "<style scoped>\n",
       "    .dataframe tbody tr th:only-of-type {\n",
       "        vertical-align: middle;\n",
       "    }\n",
       "\n",
       "    .dataframe tbody tr th {\n",
       "        vertical-align: top;\n",
       "    }\n",
       "\n",
       "    .dataframe thead th {\n",
       "        text-align: right;\n",
       "    }\n",
       "</style>\n",
       "<table border=\"1\" class=\"dataframe\">\n",
       "  <thead>\n",
       "    <tr style=\"text-align: right;\">\n",
       "      <th></th>\n",
       "      <th>region</th>\n",
       "      <th>gender</th>\n",
       "      <th>language</th>\n",
       "      <th>number_of_campaigns</th>\n",
       "      <th>total_amount</th>\n",
       "      <th>Q1_Donations</th>\n",
       "      <th>Q2_Donations</th>\n",
       "      <th>Q3_Donations</th>\n",
       "      <th>Q4_Donations</th>\n",
       "      <th>days_since_contributed</th>\n",
       "      <th>mean</th>\n",
       "      <th>min</th>\n",
       "      <th>max</th>\n",
       "      <th>Q1_Amount</th>\n",
       "      <th>Q2_Amount</th>\n",
       "      <th>Q3_Amount</th>\n",
       "      <th>Q4_Amount</th>\n",
       "      <th>Q2_Min</th>\n",
       "      <th>Q4_Min</th>\n",
       "      <th>Q4_Mean</th>\n",
       "      <th>age</th>\n",
       "      <th>age-group</th>\n",
       "      <th>amount</th>\n",
       "    </tr>\n",
       "  </thead>\n",
       "  <tbody>\n",
       "    <tr>\n",
       "      <th>0</th>\n",
       "      <td>1</td>\n",
       "      <td>0</td>\n",
       "      <td>2</td>\n",
       "      <td>12.0</td>\n",
       "      <td>178.49</td>\n",
       "      <td>3.0</td>\n",
       "      <td>3.0</td>\n",
       "      <td>1.0</td>\n",
       "      <td>5.0</td>\n",
       "      <td>2696.0</td>\n",
       "      <td>14.874167</td>\n",
       "      <td>6.69</td>\n",
       "      <td>30.0</td>\n",
       "      <td>42.39</td>\n",
       "      <td>64.79</td>\n",
       "      <td>7.44</td>\n",
       "      <td>63.87</td>\n",
       "      <td>10.00</td>\n",
       "      <td>6.69</td>\n",
       "      <td>12.774000</td>\n",
       "      <td>52</td>\n",
       "      <td>50</td>\n",
       "      <td>0.0</td>\n",
       "    </tr>\n",
       "    <tr>\n",
       "      <th>1</th>\n",
       "      <td>1</td>\n",
       "      <td>1</td>\n",
       "      <td>2</td>\n",
       "      <td>1.0</td>\n",
       "      <td>20.00</td>\n",
       "      <td>1.0</td>\n",
       "      <td>0.0</td>\n",
       "      <td>0.0</td>\n",
       "      <td>0.0</td>\n",
       "      <td>1589.0</td>\n",
       "      <td>20.000000</td>\n",
       "      <td>20.00</td>\n",
       "      <td>20.0</td>\n",
       "      <td>20.00</td>\n",
       "      <td>0.00</td>\n",
       "      <td>0.00</td>\n",
       "      <td>0.00</td>\n",
       "      <td>0.00</td>\n",
       "      <td>0.00</td>\n",
       "      <td>0.000000</td>\n",
       "      <td>67</td>\n",
       "      <td>60</td>\n",
       "      <td>0.0</td>\n",
       "    </tr>\n",
       "    <tr>\n",
       "      <th>2</th>\n",
       "      <td>1</td>\n",
       "      <td>1</td>\n",
       "      <td>1</td>\n",
       "      <td>3.0</td>\n",
       "      <td>124.37</td>\n",
       "      <td>0.0</td>\n",
       "      <td>1.0</td>\n",
       "      <td>0.0</td>\n",
       "      <td>2.0</td>\n",
       "      <td>2759.0</td>\n",
       "      <td>41.456667</td>\n",
       "      <td>24.79</td>\n",
       "      <td>50.0</td>\n",
       "      <td>0.00</td>\n",
       "      <td>49.58</td>\n",
       "      <td>0.00</td>\n",
       "      <td>74.79</td>\n",
       "      <td>49.58</td>\n",
       "      <td>24.79</td>\n",
       "      <td>37.395000</td>\n",
       "      <td>82</td>\n",
       "      <td>80</td>\n",
       "      <td>0.0</td>\n",
       "    </tr>\n",
       "    <tr>\n",
       "      <th>3</th>\n",
       "      <td>0</td>\n",
       "      <td>1</td>\n",
       "      <td>1</td>\n",
       "      <td>19.0</td>\n",
       "      <td>326.78</td>\n",
       "      <td>5.0</td>\n",
       "      <td>4.0</td>\n",
       "      <td>4.0</td>\n",
       "      <td>6.0</td>\n",
       "      <td>2610.0</td>\n",
       "      <td>17.198947</td>\n",
       "      <td>7.44</td>\n",
       "      <td>25.0</td>\n",
       "      <td>79.78</td>\n",
       "      <td>67.39</td>\n",
       "      <td>95.00</td>\n",
       "      <td>84.61</td>\n",
       "      <td>10.00</td>\n",
       "      <td>7.44</td>\n",
       "      <td>14.101667</td>\n",
       "      <td>87</td>\n",
       "      <td>80</td>\n",
       "      <td>0.0</td>\n",
       "    </tr>\n",
       "    <tr>\n",
       "      <th>4</th>\n",
       "      <td>0</td>\n",
       "      <td>1</td>\n",
       "      <td>1</td>\n",
       "      <td>1.0</td>\n",
       "      <td>40.00</td>\n",
       "      <td>1.0</td>\n",
       "      <td>0.0</td>\n",
       "      <td>0.0</td>\n",
       "      <td>0.0</td>\n",
       "      <td>1586.0</td>\n",
       "      <td>40.000000</td>\n",
       "      <td>40.00</td>\n",
       "      <td>40.0</td>\n",
       "      <td>40.00</td>\n",
       "      <td>0.00</td>\n",
       "      <td>0.00</td>\n",
       "      <td>0.00</td>\n",
       "      <td>0.00</td>\n",
       "      <td>0.00</td>\n",
       "      <td>0.000000</td>\n",
       "      <td>36</td>\n",
       "      <td>30</td>\n",
       "      <td>0.0</td>\n",
       "    </tr>\n",
       "  </tbody>\n",
       "</table>\n",
       "</div>"
      ],
      "text/plain": [
       "   region  gender  language  number_of_campaigns  total_amount  Q1_Donations  \\\n",
       "0       1       0         2                 12.0        178.49           3.0   \n",
       "1       1       1         2                  1.0         20.00           1.0   \n",
       "2       1       1         1                  3.0        124.37           0.0   \n",
       "3       0       1         1                 19.0        326.78           5.0   \n",
       "4       0       1         1                  1.0         40.00           1.0   \n",
       "\n",
       "   Q2_Donations  Q3_Donations  Q4_Donations  days_since_contributed  \\\n",
       "0           3.0           1.0           5.0                  2696.0   \n",
       "1           0.0           0.0           0.0                  1589.0   \n",
       "2           1.0           0.0           2.0                  2759.0   \n",
       "3           4.0           4.0           6.0                  2610.0   \n",
       "4           0.0           0.0           0.0                  1586.0   \n",
       "\n",
       "        mean    min   max  Q1_Amount  Q2_Amount  Q3_Amount  Q4_Amount  Q2_Min  \\\n",
       "0  14.874167   6.69  30.0      42.39      64.79       7.44      63.87   10.00   \n",
       "1  20.000000  20.00  20.0      20.00       0.00       0.00       0.00    0.00   \n",
       "2  41.456667  24.79  50.0       0.00      49.58       0.00      74.79   49.58   \n",
       "3  17.198947   7.44  25.0      79.78      67.39      95.00      84.61   10.00   \n",
       "4  40.000000  40.00  40.0      40.00       0.00       0.00       0.00    0.00   \n",
       "\n",
       "   Q4_Min    Q4_Mean  age  age-group  amount  \n",
       "0    6.69  12.774000   52         50     0.0  \n",
       "1    0.00   0.000000   67         60     0.0  \n",
       "2   24.79  37.395000   82         80     0.0  \n",
       "3    7.44  14.101667   87         80     0.0  \n",
       "4    0.00   0.000000   36         30     0.0  "
      ]
     },
     "execution_count": 34,
     "metadata": {},
     "output_type": "execute_result"
    }
   ],
   "source": [
    "pd.set_option( \"display.max_columns\", None)\n",
    "X_test.head()"
   ]
  },
  {
   "cell_type": "code",
   "execution_count": 35,
   "metadata": {},
   "outputs": [
    {
     "data": {
      "text/plain": [
       "162"
      ]
     },
     "execution_count": 35,
     "metadata": {},
     "output_type": "execute_result"
    }
   ],
   "source": [
    "Y_Pred =  logreg.predict(X_test)\n",
    "Y_Pred.sum()"
   ]
  },
  {
   "cell_type": "code",
   "execution_count": 36,
   "metadata": {},
   "outputs": [
    {
     "data": {
      "text/plain": [
       "array([[25430,     4],\n",
       "       [   53,   158]], dtype=int64)"
      ]
     },
     "execution_count": 36,
     "metadata": {},
     "output_type": "execute_result"
    }
   ],
   "source": [
    "confusion_matrix(y_test, Y_Pred)"
   ]
  },
  {
   "cell_type": "code",
   "execution_count": 37,
   "metadata": {},
   "outputs": [
    {
     "data": {
      "text/plain": [
       "0.8743289480402209"
      ]
     },
     "execution_count": 37,
     "metadata": {},
     "output_type": "execute_result"
    }
   ],
   "source": [
    "mlp_roc_train = roc_auc_score(y_test, Y_Pred)\n",
    "mlp_roc_train"
   ]
  },
  {
   "cell_type": "code",
   "execution_count": 38,
   "metadata": {},
   "outputs": [
    {
     "name": "stdout",
     "output_type": "stream",
     "text": [
      "<class 'pandas.core.frame.DataFrame'>\n",
      "RangeIndex: 21647 entries, 0 to 21646\n",
      "Data columns (total 23 columns):\n",
      " #   Column                  Non-Null Count  Dtype  \n",
      "---  ------                  --------------  -----  \n",
      " 0   region                  21647 non-null  int32  \n",
      " 1   gender                  21647 non-null  int32  \n",
      " 2   language                21647 non-null  int32  \n",
      " 3   number_of_campaigns     21647 non-null  float64\n",
      " 4   total_amount            21647 non-null  float64\n",
      " 5   Q1_Donations            21647 non-null  float64\n",
      " 6   Q2_Donations            21647 non-null  float64\n",
      " 7   Q3_Donations            21647 non-null  float64\n",
      " 8   Q4_Donations            21647 non-null  float64\n",
      " 9   days_since_contributed  21647 non-null  float64\n",
      " 10  mean                    21647 non-null  float64\n",
      " 11  min                     21647 non-null  float64\n",
      " 12  max                     21647 non-null  float64\n",
      " 13  Q1_Amount               21647 non-null  float64\n",
      " 14  Q2_Amount               21647 non-null  float64\n",
      " 15  Q3_Amount               21647 non-null  float64\n",
      " 16  Q4_Amount               21647 non-null  float64\n",
      " 17  Q2_Min                  21647 non-null  float64\n",
      " 18  Q4_Min                  21647 non-null  float64\n",
      " 19  Q4_Mean                 21647 non-null  float64\n",
      " 20  age                     21647 non-null  int64  \n",
      " 21  age-group               21647 non-null  int64  \n",
      " 22  amount                  21647 non-null  float64\n",
      "dtypes: float64(18), int32(3), int64(2)\n",
      "memory usage: 3.6 MB\n"
     ]
    }
   ],
   "source": [
    "X.info()"
   ]
  },
  {
   "cell_type": "code",
   "execution_count": 39,
   "metadata": {},
   "outputs": [
    {
     "data": {
      "text/plain": [
       "21647"
      ]
     },
     "execution_count": 39,
     "metadata": {},
     "output_type": "execute_result"
    }
   ],
   "source": [
    "len(y)"
   ]
  },
  {
   "cell_type": "code",
   "execution_count": 40,
   "metadata": {},
   "outputs": [
    {
     "name": "stdout",
     "output_type": "stream",
     "text": [
      "tree has been trained successfully\n"
     ]
    },
    {
     "name": "stderr",
     "output_type": "stream",
     "text": [
      "C:\\tools\\Anaconda3\\lib\\site-packages\\sklearn\\linear_model\\_logistic.py:814: ConvergenceWarning: lbfgs failed to converge (status=1):\n",
      "STOP: TOTAL NO. of ITERATIONS REACHED LIMIT.\n",
      "\n",
      "Increase the number of iterations (max_iter) or scale the data as shown in:\n",
      "    https://scikit-learn.org/stable/modules/preprocessing.html\n",
      "Please also refer to the documentation for alternative solver options:\n",
      "    https://scikit-learn.org/stable/modules/linear_model.html#logistic-regression\n",
      "  n_iter_i = _check_optimize_result(\n"
     ]
    },
    {
     "name": "stdout",
     "output_type": "stream",
     "text": [
      "logistic has been trained successfully\n",
      "randomForest has been trained successfully\n",
      "svm has been trained successfully\n"
     ]
    }
   ],
   "source": [
    "from pandas import DataFrame\n",
    "from numpy import array\n",
    "\n",
    "X_train, X_test, y_train, y_test = train_test_split(X, y, test_size=0.3, random_state=42)\n",
    "\n",
    "for model in models:\n",
    "    models[model].fit(X_train, y_train)\n",
    "    print(f\"{model} has been trained successfully\")\n",
    "\n",
    "performances_train = {}\n",
    "performances_test = {}\n",
    "\n",
    "\n",
    "for model in models:\n",
    "    predictions = models[model].predict(X_train)\n",
    "    probabilities = DataFrame(models[model].predict_proba(X_train))[1]\n",
    "    accuracy = accuracy_score(y_train,predictions)\n",
    "    auc = roc_auc_score(array(y_train),array(probabilities))\n",
    "    performances_train[model] = {\"Accuracy\":accuracy,\"AUC\":auc}\n",
    "\n",
    "\n",
    "for model in models:\n",
    "    predictions = models[model].predict(X_test)\n",
    "    probabilities = DataFrame(models[model].predict_proba(X_test))[1]\n",
    "    accuracy = accuracy_score(y_test,predictions)\n",
    "    auc = roc_auc_score(array(y_test),array(probabilities))\n",
    "    performances_test[model] = {\"Accuracy\":accuracy,\"AUC\":auc}"
   ]
  },
  {
   "cell_type": "code",
   "execution_count": 41,
   "metadata": {},
   "outputs": [
    {
     "data": {
      "text/plain": [
       "{'tree': {'Accuracy': 0.9981524249422633, 'AUC': 0.985236958745312},\n",
       " 'logistic': {'Accuracy': 0.9935334872979215, 'AUC': 0.966359055953328},\n",
       " 'randomForest': {'Accuracy': 0.9969207082371054, 'AUC': 0.9992756752661287},\n",
       " 'svm': {'Accuracy': 0.9821401077752117, 'AUC': 0.9913096185172557}}"
      ]
     },
     "execution_count": 41,
     "metadata": {},
     "output_type": "execute_result"
    }
   ],
   "source": [
    "performances_test"
   ]
  },
  {
   "cell_type": "code",
   "execution_count": 42,
   "metadata": {},
   "outputs": [
    {
     "data": {
      "text/plain": [
       "{'tree': {'Accuracy': 1.0, 'AUC': 1.0},\n",
       " 'logistic': {'Accuracy': 0.9944561774023232, 'AUC': 0.9827854193672284},\n",
       " 'randomForest': {'Accuracy': 1.0, 'AUC': 1.0},\n",
       " 'svm': {'Accuracy': 0.981850580781415, 'AUC': 0.9940348896918384}}"
      ]
     },
     "execution_count": 42,
     "metadata": {},
     "output_type": "execute_result"
    }
   ],
   "source": [
    "performances_train"
   ]
  },
  {
   "cell_type": "code",
   "execution_count": 43,
   "metadata": {},
   "outputs": [
    {
     "name": "stdout",
     "output_type": "stream",
     "text": [
      "province\n",
      "region\n",
      "gender\n",
      "language\n",
      "number_of_campaigns\n",
      "total_amount\n",
      "Q1_Donations\n",
      "Q2_Donations\n",
      "Q3_Donations\n",
      "Q4_Donations\n",
      "days_since_contributed\n",
      "mean\n",
      "min\n",
      "max\n",
      "Q1_Max\n",
      "Q2_Max\n",
      "Q3_Max\n",
      "Q4_Max\n",
      "Q1_Min\n",
      "Q2_Min\n",
      "Q3_Min\n",
      "Q4_Min\n",
      "Q1_Mean\n",
      "Q2_Mean\n",
      "Q3_Mean\n",
      "Q4_Mean\n",
      "Q1_Amount\n",
      "Q2_Amount\n",
      "Q3_Amount\n",
      "Q4_Amount\n",
      "age\n",
      "age-group\n",
      "amount\n",
      "has_contributed\n",
      "<class 'pandas.core.frame.DataFrame'>\n",
      "RangeIndex: 25645 entries, 0 to 25644\n",
      "Data columns (total 34 columns):\n",
      " #   Column                  Non-Null Count  Dtype  \n",
      "---  ------                  --------------  -----  \n",
      " 0   donorID                 25645 non-null  int64  \n",
      " 1   province                25645 non-null  int32  \n",
      " 2   region                  25645 non-null  int32  \n",
      " 3   gender                  25645 non-null  int32  \n",
      " 4   language                25645 non-null  int32  \n",
      " 5   number_of_campaigns     25645 non-null  float64\n",
      " 6   total_amount            25645 non-null  float64\n",
      " 7   Q1_Donations            25645 non-null  float64\n",
      " 8   Q2_Donations            25645 non-null  float64\n",
      " 9   Q3_Donations            25645 non-null  float64\n",
      " 10  Q4_Donations            25645 non-null  float64\n",
      " 11  days_since_contributed  25645 non-null  float64\n",
      " 12  mean                    25645 non-null  float64\n",
      " 13  min                     25645 non-null  float64\n",
      " 14  max                     25645 non-null  float64\n",
      " 15  Q1_Max                  25645 non-null  float64\n",
      " 16  Q2_Max                  25645 non-null  float64\n",
      " 17  Q3_Max                  25645 non-null  float64\n",
      " 18  Q4_Max                  25645 non-null  float64\n",
      " 19  Q1_Min                  25645 non-null  float64\n",
      " 20  Q2_Min                  25645 non-null  float64\n",
      " 21  Q3_Min                  25645 non-null  float64\n",
      " 22  Q4_Min                  25645 non-null  float64\n",
      " 23  Q1_Mean                 25645 non-null  float64\n",
      " 24  Q2_Mean                 25645 non-null  float64\n",
      " 25  Q3_Mean                 25645 non-null  float64\n",
      " 26  Q4_Mean                 25645 non-null  float64\n",
      " 27  Q1_Amount               25645 non-null  float64\n",
      " 28  Q2_Amount               25645 non-null  float64\n",
      " 29  Q3_Amount               25645 non-null  float64\n",
      " 30  Q4_Amount               25645 non-null  float64\n",
      " 31  age                     25645 non-null  int64  \n",
      " 32  age-group               25645 non-null  int64  \n",
      " 33  amount                  25645 non-null  float64\n",
      "dtypes: float64(27), int32(4), int64(3)\n",
      "memory usage: 6.3 MB\n"
     ]
    }
   ],
   "source": [
    "encoder = LabelEncoder()\n",
    "for column in processed_table_7244.columns[1:]:\n",
    "    print(column)\n",
    "    df = processed_table_7244[column]\n",
    "\n",
    "    if processed_table_7244[column].dtype == object or processed_table_7244[column].dtype.name == 'category':\n",
    "        processed_table_7244[column] = encoder.fit_transform(processed_table_7244[column])\n",
    "\n",
    "y_test = processed_table_7244[\"has_contributed\"]\n",
    "X_test = processed_table_7244.drop(\"has_contributed\", axis=1)\n",
    "X_test.info()"
   ]
  },
  {
   "cell_type": "code",
   "execution_count": 44,
   "metadata": {},
   "outputs": [],
   "source": [
    "import sys\n",
    "\n",
    "from pandas                 import DataFrame\n",
    "from pandas                 import read_csv\n",
    "from numpy                  import array\n",
    "from numpy                  import random\n",
    "from sklearn.linear_model   import LogisticRegression\n",
    "from sklearn.tree           import DecisionTreeClassifier\n",
    "from sklearn.ensemble       import RandomForestClassifier\n",
    "from sklearn.ensemble       import GradientBoostingClassifier\n",
    "from sklearn.svm            import SVC\n",
    "from sklearn.neural_network import MLPClassifier\n",
    "from sklearn.neighbors      import KNeighborsClassifier\n",
    "from sklearn.metrics        import accuracy_score\n",
    "from sklearn.metrics        import auc\n",
    "from sklearn.metrics        import roc_auc_score\n",
    "from matplotlib             import pyplot\n",
    "from ieseg import partition\n",
    "from ieseg import roc\n",
    "from ieseg import lift\n",
    "from ieseg import cumulativeResponse\n",
    "from ieseg import cumulativeGains"
   ]
  },
  {
   "cell_type": "code",
   "execution_count": 45,
   "metadata": {},
   "outputs": [
    {
     "data": {
      "text/plain": [
       "25645"
      ]
     },
     "execution_count": 45,
     "metadata": {},
     "output_type": "execute_result"
    }
   ],
   "source": [
    "X_test =  X[selectedFeatures]\n",
    "len(y_test) "
   ]
  },
  {
   "cell_type": "code",
   "execution_count": 82,
   "metadata": {},
   "outputs": [
    {
     "name": "stderr",
     "output_type": "stream",
     "text": [
      "C:\\Users\\vrajagopalan\\OneDrive - IESEG\\Desktop\\Descriptive Analysis\\Group_Project\\ieseg.py:70: SettingWithCopyWarning: \n",
      "A value is trying to be set on a copy of a slice from a DataFrame.\n",
      "Try using .loc[row_indexer,col_indexer] = value instead\n",
      "\n",
      "See the caveats in the documentation: https://pandas.pydata.org/pandas-docs/stable/user_guide/indexing.html#returning-a-view-versus-a-copy\n",
      "  internalSet[\"Bin\"] = 0\n",
      "C:\\Users\\vrajagopalan\\OneDrive - IESEG\\Desktop\\Descriptive Analysis\\Group_Project\\ieseg.py:70: SettingWithCopyWarning: \n",
      "A value is trying to be set on a copy of a slice from a DataFrame.\n",
      "Try using .loc[row_indexer,col_indexer] = value instead\n",
      "\n",
      "See the caveats in the documentation: https://pandas.pydata.org/pandas-docs/stable/user_guide/indexing.html#returning-a-view-versus-a-copy\n",
      "  internalSet[\"Bin\"] = 0\n",
      "C:\\Users\\vrajagopalan\\OneDrive - IESEG\\Desktop\\Descriptive Analysis\\Group_Project\\ieseg.py:70: SettingWithCopyWarning: \n",
      "A value is trying to be set on a copy of a slice from a DataFrame.\n",
      "Try using .loc[row_indexer,col_indexer] = value instead\n",
      "\n",
      "See the caveats in the documentation: https://pandas.pydata.org/pandas-docs/stable/user_guide/indexing.html#returning-a-view-versus-a-copy\n",
      "  internalSet[\"Bin\"] = 0\n",
      "C:\\Users\\vrajagopalan\\OneDrive - IESEG\\Desktop\\Descriptive Analysis\\Group_Project\\ieseg.py:70: SettingWithCopyWarning: \n",
      "A value is trying to be set on a copy of a slice from a DataFrame.\n",
      "Try using .loc[row_indexer,col_indexer] = value instead\n",
      "\n",
      "See the caveats in the documentation: https://pandas.pydata.org/pandas-docs/stable/user_guide/indexing.html#returning-a-view-versus-a-copy\n",
      "  internalSet[\"Bin\"] = 0\n",
      "C:\\tools\\Anaconda3\\lib\\site-packages\\pandas\\core\\indexing.py:1599: SettingWithCopyWarning: \n",
      "A value is trying to be set on a copy of a slice from a DataFrame.\n",
      "Try using .loc[row_indexer,col_indexer] = value instead\n",
      "\n",
      "See the caveats in the documentation: https://pandas.pydata.org/pandas-docs/stable/user_guide/indexing.html#returning-a-view-versus-a-copy\n",
      "  self.obj[key] = infer_fill_value(value)\n",
      "C:\\tools\\Anaconda3\\lib\\site-packages\\pandas\\core\\indexing.py:1720: SettingWithCopyWarning: \n",
      "A value is trying to be set on a copy of a slice from a DataFrame.\n",
      "Try using .loc[row_indexer,col_indexer] = value instead\n",
      "\n",
      "See the caveats in the documentation: https://pandas.pydata.org/pandas-docs/stable/user_guide/indexing.html#returning-a-view-versus-a-copy\n",
      "  self._setitem_single_column(loc, value, pi)\n",
      "C:\\tools\\Anaconda3\\lib\\site-packages\\pandas\\core\\indexing.py:1720: SettingWithCopyWarning: \n",
      "A value is trying to be set on a copy of a slice from a DataFrame.\n",
      "Try using .loc[row_indexer,col_indexer] = value instead\n",
      "\n",
      "See the caveats in the documentation: https://pandas.pydata.org/pandas-docs/stable/user_guide/indexing.html#returning-a-view-versus-a-copy\n",
      "  self._setitem_single_column(loc, value, pi)\n",
      "C:\\tools\\Anaconda3\\lib\\site-packages\\pandas\\core\\indexing.py:1720: SettingWithCopyWarning: \n",
      "A value is trying to be set on a copy of a slice from a DataFrame.\n",
      "Try using .loc[row_indexer,col_indexer] = value instead\n",
      "\n",
      "See the caveats in the documentation: https://pandas.pydata.org/pandas-docs/stable/user_guide/indexing.html#returning-a-view-versus-a-copy\n",
      "  self._setitem_single_column(loc, value, pi)\n",
      "C:\\tools\\Anaconda3\\lib\\site-packages\\pandas\\core\\indexing.py:1720: SettingWithCopyWarning: \n",
      "A value is trying to be set on a copy of a slice from a DataFrame.\n",
      "Try using .loc[row_indexer,col_indexer] = value instead\n",
      "\n",
      "See the caveats in the documentation: https://pandas.pydata.org/pandas-docs/stable/user_guide/indexing.html#returning-a-view-versus-a-copy\n",
      "  self._setitem_single_column(loc, value, pi)\n",
      "C:\\tools\\Anaconda3\\lib\\site-packages\\pandas\\core\\indexing.py:1720: SettingWithCopyWarning: \n",
      "A value is trying to be set on a copy of a slice from a DataFrame.\n",
      "Try using .loc[row_indexer,col_indexer] = value instead\n",
      "\n",
      "See the caveats in the documentation: https://pandas.pydata.org/pandas-docs/stable/user_guide/indexing.html#returning-a-view-versus-a-copy\n",
      "  self._setitem_single_column(loc, value, pi)\n",
      "C:\\tools\\Anaconda3\\lib\\site-packages\\pandas\\core\\indexing.py:1720: SettingWithCopyWarning: \n",
      "A value is trying to be set on a copy of a slice from a DataFrame.\n",
      "Try using .loc[row_indexer,col_indexer] = value instead\n",
      "\n",
      "See the caveats in the documentation: https://pandas.pydata.org/pandas-docs/stable/user_guide/indexing.html#returning-a-view-versus-a-copy\n",
      "  self._setitem_single_column(loc, value, pi)\n",
      "C:\\tools\\Anaconda3\\lib\\site-packages\\pandas\\core\\indexing.py:1720: SettingWithCopyWarning: \n",
      "A value is trying to be set on a copy of a slice from a DataFrame.\n",
      "Try using .loc[row_indexer,col_indexer] = value instead\n",
      "\n",
      "See the caveats in the documentation: https://pandas.pydata.org/pandas-docs/stable/user_guide/indexing.html#returning-a-view-versus-a-copy\n",
      "  self._setitem_single_column(loc, value, pi)\n",
      "C:\\tools\\Anaconda3\\lib\\site-packages\\pandas\\core\\indexing.py:1720: SettingWithCopyWarning: \n",
      "A value is trying to be set on a copy of a slice from a DataFrame.\n",
      "Try using .loc[row_indexer,col_indexer] = value instead\n",
      "\n",
      "See the caveats in the documentation: https://pandas.pydata.org/pandas-docs/stable/user_guide/indexing.html#returning-a-view-versus-a-copy\n",
      "  self._setitem_single_column(loc, value, pi)\n",
      "C:\\tools\\Anaconda3\\lib\\site-packages\\pandas\\core\\indexing.py:1720: SettingWithCopyWarning: \n",
      "A value is trying to be set on a copy of a slice from a DataFrame.\n",
      "Try using .loc[row_indexer,col_indexer] = value instead\n",
      "\n",
      "See the caveats in the documentation: https://pandas.pydata.org/pandas-docs/stable/user_guide/indexing.html#returning-a-view-versus-a-copy\n",
      "  self._setitem_single_column(loc, value, pi)\n",
      "C:\\tools\\Anaconda3\\lib\\site-packages\\pandas\\core\\indexing.py:1720: SettingWithCopyWarning: \n",
      "A value is trying to be set on a copy of a slice from a DataFrame.\n",
      "Try using .loc[row_indexer,col_indexer] = value instead\n",
      "\n",
      "See the caveats in the documentation: https://pandas.pydata.org/pandas-docs/stable/user_guide/indexing.html#returning-a-view-versus-a-copy\n",
      "  self._setitem_single_column(loc, value, pi)\n",
      "C:\\tools\\Anaconda3\\lib\\site-packages\\pandas\\core\\indexing.py:1720: SettingWithCopyWarning: \n",
      "A value is trying to be set on a copy of a slice from a DataFrame.\n",
      "Try using .loc[row_indexer,col_indexer] = value instead\n",
      "\n",
      "See the caveats in the documentation: https://pandas.pydata.org/pandas-docs/stable/user_guide/indexing.html#returning-a-view-versus-a-copy\n",
      "  self._setitem_single_column(loc, value, pi)\n",
      "C:\\tools\\Anaconda3\\lib\\site-packages\\pandas\\core\\indexing.py:1720: SettingWithCopyWarning: \n",
      "A value is trying to be set on a copy of a slice from a DataFrame.\n",
      "Try using .loc[row_indexer,col_indexer] = value instead\n",
      "\n",
      "See the caveats in the documentation: https://pandas.pydata.org/pandas-docs/stable/user_guide/indexing.html#returning-a-view-versus-a-copy\n",
      "  self._setitem_single_column(loc, value, pi)\n",
      "C:\\tools\\Anaconda3\\lib\\site-packages\\pandas\\core\\indexing.py:1720: SettingWithCopyWarning: \n",
      "A value is trying to be set on a copy of a slice from a DataFrame.\n",
      "Try using .loc[row_indexer,col_indexer] = value instead\n",
      "\n",
      "See the caveats in the documentation: https://pandas.pydata.org/pandas-docs/stable/user_guide/indexing.html#returning-a-view-versus-a-copy\n",
      "  self._setitem_single_column(loc, value, pi)\n",
      "C:\\tools\\Anaconda3\\lib\\site-packages\\pandas\\core\\indexing.py:1720: SettingWithCopyWarning: \n",
      "A value is trying to be set on a copy of a slice from a DataFrame.\n",
      "Try using .loc[row_indexer,col_indexer] = value instead\n",
      "\n",
      "See the caveats in the documentation: https://pandas.pydata.org/pandas-docs/stable/user_guide/indexing.html#returning-a-view-versus-a-copy\n",
      "  self._setitem_single_column(loc, value, pi)\n",
      "C:\\tools\\Anaconda3\\lib\\site-packages\\pandas\\core\\indexing.py:1720: SettingWithCopyWarning: \n",
      "A value is trying to be set on a copy of a slice from a DataFrame.\n",
      "Try using .loc[row_indexer,col_indexer] = value instead\n",
      "\n",
      "See the caveats in the documentation: https://pandas.pydata.org/pandas-docs/stable/user_guide/indexing.html#returning-a-view-versus-a-copy\n",
      "  self._setitem_single_column(loc, value, pi)\n",
      "C:\\tools\\Anaconda3\\lib\\site-packages\\pandas\\core\\indexing.py:1720: SettingWithCopyWarning: \n",
      "A value is trying to be set on a copy of a slice from a DataFrame.\n",
      "Try using .loc[row_indexer,col_indexer] = value instead\n",
      "\n",
      "See the caveats in the documentation: https://pandas.pydata.org/pandas-docs/stable/user_guide/indexing.html#returning-a-view-versus-a-copy\n",
      "  self._setitem_single_column(loc, value, pi)\n",
      "C:\\tools\\Anaconda3\\lib\\site-packages\\pandas\\core\\indexing.py:1720: SettingWithCopyWarning: \n",
      "A value is trying to be set on a copy of a slice from a DataFrame.\n",
      "Try using .loc[row_indexer,col_indexer] = value instead\n",
      "\n",
      "See the caveats in the documentation: https://pandas.pydata.org/pandas-docs/stable/user_guide/indexing.html#returning-a-view-versus-a-copy\n",
      "  self._setitem_single_column(loc, value, pi)\n",
      "C:\\tools\\Anaconda3\\lib\\site-packages\\pandas\\core\\indexing.py:1720: SettingWithCopyWarning: \n",
      "A value is trying to be set on a copy of a slice from a DataFrame.\n",
      "Try using .loc[row_indexer,col_indexer] = value instead\n",
      "\n",
      "See the caveats in the documentation: https://pandas.pydata.org/pandas-docs/stable/user_guide/indexing.html#returning-a-view-versus-a-copy\n",
      "  self._setitem_single_column(loc, value, pi)\n",
      "C:\\tools\\Anaconda3\\lib\\site-packages\\pandas\\core\\indexing.py:1720: SettingWithCopyWarning: \n",
      "A value is trying to be set on a copy of a slice from a DataFrame.\n",
      "Try using .loc[row_indexer,col_indexer] = value instead\n",
      "\n",
      "See the caveats in the documentation: https://pandas.pydata.org/pandas-docs/stable/user_guide/indexing.html#returning-a-view-versus-a-copy\n",
      "  self._setitem_single_column(loc, value, pi)\n",
      "C:\\tools\\Anaconda3\\lib\\site-packages\\pandas\\core\\indexing.py:1720: SettingWithCopyWarning: \n",
      "A value is trying to be set on a copy of a slice from a DataFrame.\n",
      "Try using .loc[row_indexer,col_indexer] = value instead\n",
      "\n",
      "See the caveats in the documentation: https://pandas.pydata.org/pandas-docs/stable/user_guide/indexing.html#returning-a-view-versus-a-copy\n",
      "  self._setitem_single_column(loc, value, pi)\n",
      "C:\\Users\\vrajagopalan\\OneDrive - IESEG\\Desktop\\Descriptive Analysis\\Group_Project\\ieseg.py:70: SettingWithCopyWarning: \n",
      "A value is trying to be set on a copy of a slice from a DataFrame.\n",
      "Try using .loc[row_indexer,col_indexer] = value instead\n",
      "\n",
      "See the caveats in the documentation: https://pandas.pydata.org/pandas-docs/stable/user_guide/indexing.html#returning-a-view-versus-a-copy\n",
      "  internalSet[\"Bin\"] = 0\n",
      "C:\\tools\\Anaconda3\\lib\\site-packages\\pandas\\core\\indexing.py:1599: SettingWithCopyWarning: \n",
      "A value is trying to be set on a copy of a slice from a DataFrame.\n",
      "Try using .loc[row_indexer,col_indexer] = value instead\n",
      "\n",
      "See the caveats in the documentation: https://pandas.pydata.org/pandas-docs/stable/user_guide/indexing.html#returning-a-view-versus-a-copy\n",
      "  self.obj[key] = infer_fill_value(value)\n",
      "C:\\tools\\Anaconda3\\lib\\site-packages\\pandas\\core\\indexing.py:1720: SettingWithCopyWarning: \n",
      "A value is trying to be set on a copy of a slice from a DataFrame.\n",
      "Try using .loc[row_indexer,col_indexer] = value instead\n",
      "\n",
      "See the caveats in the documentation: https://pandas.pydata.org/pandas-docs/stable/user_guide/indexing.html#returning-a-view-versus-a-copy\n",
      "  self._setitem_single_column(loc, value, pi)\n",
      "C:\\tools\\Anaconda3\\lib\\site-packages\\pandas\\core\\indexing.py:1720: SettingWithCopyWarning: \n",
      "A value is trying to be set on a copy of a slice from a DataFrame.\n",
      "Try using .loc[row_indexer,col_indexer] = value instead\n",
      "\n",
      "See the caveats in the documentation: https://pandas.pydata.org/pandas-docs/stable/user_guide/indexing.html#returning-a-view-versus-a-copy\n",
      "  self._setitem_single_column(loc, value, pi)\n",
      "C:\\tools\\Anaconda3\\lib\\site-packages\\pandas\\core\\indexing.py:1720: SettingWithCopyWarning: \n",
      "A value is trying to be set on a copy of a slice from a DataFrame.\n",
      "Try using .loc[row_indexer,col_indexer] = value instead\n",
      "\n",
      "See the caveats in the documentation: https://pandas.pydata.org/pandas-docs/stable/user_guide/indexing.html#returning-a-view-versus-a-copy\n",
      "  self._setitem_single_column(loc, value, pi)\n",
      "C:\\tools\\Anaconda3\\lib\\site-packages\\pandas\\core\\indexing.py:1720: SettingWithCopyWarning: \n",
      "A value is trying to be set on a copy of a slice from a DataFrame.\n",
      "Try using .loc[row_indexer,col_indexer] = value instead\n",
      "\n",
      "See the caveats in the documentation: https://pandas.pydata.org/pandas-docs/stable/user_guide/indexing.html#returning-a-view-versus-a-copy\n",
      "  self._setitem_single_column(loc, value, pi)\n",
      "C:\\tools\\Anaconda3\\lib\\site-packages\\pandas\\core\\indexing.py:1720: SettingWithCopyWarning: \n",
      "A value is trying to be set on a copy of a slice from a DataFrame.\n",
      "Try using .loc[row_indexer,col_indexer] = value instead\n",
      "\n",
      "See the caveats in the documentation: https://pandas.pydata.org/pandas-docs/stable/user_guide/indexing.html#returning-a-view-versus-a-copy\n",
      "  self._setitem_single_column(loc, value, pi)\n",
      "C:\\tools\\Anaconda3\\lib\\site-packages\\pandas\\core\\indexing.py:1720: SettingWithCopyWarning: \n",
      "A value is trying to be set on a copy of a slice from a DataFrame.\n",
      "Try using .loc[row_indexer,col_indexer] = value instead\n",
      "\n",
      "See the caveats in the documentation: https://pandas.pydata.org/pandas-docs/stable/user_guide/indexing.html#returning-a-view-versus-a-copy\n",
      "  self._setitem_single_column(loc, value, pi)\n",
      "C:\\tools\\Anaconda3\\lib\\site-packages\\pandas\\core\\indexing.py:1720: SettingWithCopyWarning: \n",
      "A value is trying to be set on a copy of a slice from a DataFrame.\n",
      "Try using .loc[row_indexer,col_indexer] = value instead\n",
      "\n",
      "See the caveats in the documentation: https://pandas.pydata.org/pandas-docs/stable/user_guide/indexing.html#returning-a-view-versus-a-copy\n",
      "  self._setitem_single_column(loc, value, pi)\n",
      "C:\\tools\\Anaconda3\\lib\\site-packages\\pandas\\core\\indexing.py:1720: SettingWithCopyWarning: \n",
      "A value is trying to be set on a copy of a slice from a DataFrame.\n",
      "Try using .loc[row_indexer,col_indexer] = value instead\n",
      "\n",
      "See the caveats in the documentation: https://pandas.pydata.org/pandas-docs/stable/user_guide/indexing.html#returning-a-view-versus-a-copy\n",
      "  self._setitem_single_column(loc, value, pi)\n",
      "C:\\tools\\Anaconda3\\lib\\site-packages\\pandas\\core\\indexing.py:1720: SettingWithCopyWarning: \n",
      "A value is trying to be set on a copy of a slice from a DataFrame.\n",
      "Try using .loc[row_indexer,col_indexer] = value instead\n",
      "\n",
      "See the caveats in the documentation: https://pandas.pydata.org/pandas-docs/stable/user_guide/indexing.html#returning-a-view-versus-a-copy\n",
      "  self._setitem_single_column(loc, value, pi)\n",
      "C:\\tools\\Anaconda3\\lib\\site-packages\\pandas\\core\\indexing.py:1720: SettingWithCopyWarning: \n",
      "A value is trying to be set on a copy of a slice from a DataFrame.\n",
      "Try using .loc[row_indexer,col_indexer] = value instead\n",
      "\n",
      "See the caveats in the documentation: https://pandas.pydata.org/pandas-docs/stable/user_guide/indexing.html#returning-a-view-versus-a-copy\n",
      "  self._setitem_single_column(loc, value, pi)\n",
      "C:\\tools\\Anaconda3\\lib\\site-packages\\pandas\\core\\indexing.py:1720: SettingWithCopyWarning: \n",
      "A value is trying to be set on a copy of a slice from a DataFrame.\n",
      "Try using .loc[row_indexer,col_indexer] = value instead\n",
      "\n",
      "See the caveats in the documentation: https://pandas.pydata.org/pandas-docs/stable/user_guide/indexing.html#returning-a-view-versus-a-copy\n",
      "  self._setitem_single_column(loc, value, pi)\n",
      "C:\\tools\\Anaconda3\\lib\\site-packages\\pandas\\core\\indexing.py:1720: SettingWithCopyWarning: \n",
      "A value is trying to be set on a copy of a slice from a DataFrame.\n",
      "Try using .loc[row_indexer,col_indexer] = value instead\n",
      "\n",
      "See the caveats in the documentation: https://pandas.pydata.org/pandas-docs/stable/user_guide/indexing.html#returning-a-view-versus-a-copy\n",
      "  self._setitem_single_column(loc, value, pi)\n",
      "C:\\tools\\Anaconda3\\lib\\site-packages\\pandas\\core\\indexing.py:1720: SettingWithCopyWarning: \n",
      "A value is trying to be set on a copy of a slice from a DataFrame.\n",
      "Try using .loc[row_indexer,col_indexer] = value instead\n",
      "\n",
      "See the caveats in the documentation: https://pandas.pydata.org/pandas-docs/stable/user_guide/indexing.html#returning-a-view-versus-a-copy\n",
      "  self._setitem_single_column(loc, value, pi)\n",
      "C:\\tools\\Anaconda3\\lib\\site-packages\\pandas\\core\\indexing.py:1720: SettingWithCopyWarning: \n",
      "A value is trying to be set on a copy of a slice from a DataFrame.\n",
      "Try using .loc[row_indexer,col_indexer] = value instead\n",
      "\n",
      "See the caveats in the documentation: https://pandas.pydata.org/pandas-docs/stable/user_guide/indexing.html#returning-a-view-versus-a-copy\n",
      "  self._setitem_single_column(loc, value, pi)\n",
      "C:\\tools\\Anaconda3\\lib\\site-packages\\pandas\\core\\indexing.py:1720: SettingWithCopyWarning: \n",
      "A value is trying to be set on a copy of a slice from a DataFrame.\n",
      "Try using .loc[row_indexer,col_indexer] = value instead\n",
      "\n",
      "See the caveats in the documentation: https://pandas.pydata.org/pandas-docs/stable/user_guide/indexing.html#returning-a-view-versus-a-copy\n",
      "  self._setitem_single_column(loc, value, pi)\n",
      "C:\\tools\\Anaconda3\\lib\\site-packages\\pandas\\core\\indexing.py:1720: SettingWithCopyWarning: \n",
      "A value is trying to be set on a copy of a slice from a DataFrame.\n",
      "Try using .loc[row_indexer,col_indexer] = value instead\n",
      "\n",
      "See the caveats in the documentation: https://pandas.pydata.org/pandas-docs/stable/user_guide/indexing.html#returning-a-view-versus-a-copy\n",
      "  self._setitem_single_column(loc, value, pi)\n",
      "C:\\tools\\Anaconda3\\lib\\site-packages\\pandas\\core\\indexing.py:1720: SettingWithCopyWarning: \n",
      "A value is trying to be set on a copy of a slice from a DataFrame.\n",
      "Try using .loc[row_indexer,col_indexer] = value instead\n",
      "\n",
      "See the caveats in the documentation: https://pandas.pydata.org/pandas-docs/stable/user_guide/indexing.html#returning-a-view-versus-a-copy\n",
      "  self._setitem_single_column(loc, value, pi)\n",
      "C:\\tools\\Anaconda3\\lib\\site-packages\\pandas\\core\\indexing.py:1720: SettingWithCopyWarning: \n",
      "A value is trying to be set on a copy of a slice from a DataFrame.\n",
      "Try using .loc[row_indexer,col_indexer] = value instead\n",
      "\n",
      "See the caveats in the documentation: https://pandas.pydata.org/pandas-docs/stable/user_guide/indexing.html#returning-a-view-versus-a-copy\n",
      "  self._setitem_single_column(loc, value, pi)\n",
      "C:\\tools\\Anaconda3\\lib\\site-packages\\pandas\\core\\indexing.py:1720: SettingWithCopyWarning: \n",
      "A value is trying to be set on a copy of a slice from a DataFrame.\n",
      "Try using .loc[row_indexer,col_indexer] = value instead\n",
      "\n",
      "See the caveats in the documentation: https://pandas.pydata.org/pandas-docs/stable/user_guide/indexing.html#returning-a-view-versus-a-copy\n",
      "  self._setitem_single_column(loc, value, pi)\n",
      "C:\\tools\\Anaconda3\\lib\\site-packages\\pandas\\core\\indexing.py:1720: SettingWithCopyWarning: \n",
      "A value is trying to be set on a copy of a slice from a DataFrame.\n",
      "Try using .loc[row_indexer,col_indexer] = value instead\n",
      "\n",
      "See the caveats in the documentation: https://pandas.pydata.org/pandas-docs/stable/user_guide/indexing.html#returning-a-view-versus-a-copy\n",
      "  self._setitem_single_column(loc, value, pi)\n",
      "C:\\Users\\vrajagopalan\\OneDrive - IESEG\\Desktop\\Descriptive Analysis\\Group_Project\\ieseg.py:70: SettingWithCopyWarning: \n",
      "A value is trying to be set on a copy of a slice from a DataFrame.\n",
      "Try using .loc[row_indexer,col_indexer] = value instead\n",
      "\n",
      "See the caveats in the documentation: https://pandas.pydata.org/pandas-docs/stable/user_guide/indexing.html#returning-a-view-versus-a-copy\n",
      "  internalSet[\"Bin\"] = 0\n",
      "C:\\tools\\Anaconda3\\lib\\site-packages\\pandas\\core\\indexing.py:1599: SettingWithCopyWarning: \n",
      "A value is trying to be set on a copy of a slice from a DataFrame.\n",
      "Try using .loc[row_indexer,col_indexer] = value instead\n",
      "\n",
      "See the caveats in the documentation: https://pandas.pydata.org/pandas-docs/stable/user_guide/indexing.html#returning-a-view-versus-a-copy\n",
      "  self.obj[key] = infer_fill_value(value)\n",
      "C:\\tools\\Anaconda3\\lib\\site-packages\\pandas\\core\\indexing.py:1720: SettingWithCopyWarning: \n",
      "A value is trying to be set on a copy of a slice from a DataFrame.\n",
      "Try using .loc[row_indexer,col_indexer] = value instead\n",
      "\n",
      "See the caveats in the documentation: https://pandas.pydata.org/pandas-docs/stable/user_guide/indexing.html#returning-a-view-versus-a-copy\n",
      "  self._setitem_single_column(loc, value, pi)\n",
      "C:\\tools\\Anaconda3\\lib\\site-packages\\pandas\\core\\indexing.py:1720: SettingWithCopyWarning: \n",
      "A value is trying to be set on a copy of a slice from a DataFrame.\n",
      "Try using .loc[row_indexer,col_indexer] = value instead\n",
      "\n",
      "See the caveats in the documentation: https://pandas.pydata.org/pandas-docs/stable/user_guide/indexing.html#returning-a-view-versus-a-copy\n",
      "  self._setitem_single_column(loc, value, pi)\n",
      "C:\\tools\\Anaconda3\\lib\\site-packages\\pandas\\core\\indexing.py:1720: SettingWithCopyWarning: \n",
      "A value is trying to be set on a copy of a slice from a DataFrame.\n",
      "Try using .loc[row_indexer,col_indexer] = value instead\n",
      "\n",
      "See the caveats in the documentation: https://pandas.pydata.org/pandas-docs/stable/user_guide/indexing.html#returning-a-view-versus-a-copy\n",
      "  self._setitem_single_column(loc, value, pi)\n",
      "C:\\tools\\Anaconda3\\lib\\site-packages\\pandas\\core\\indexing.py:1720: SettingWithCopyWarning: \n",
      "A value is trying to be set on a copy of a slice from a DataFrame.\n",
      "Try using .loc[row_indexer,col_indexer] = value instead\n",
      "\n",
      "See the caveats in the documentation: https://pandas.pydata.org/pandas-docs/stable/user_guide/indexing.html#returning-a-view-versus-a-copy\n",
      "  self._setitem_single_column(loc, value, pi)\n",
      "C:\\tools\\Anaconda3\\lib\\site-packages\\pandas\\core\\indexing.py:1720: SettingWithCopyWarning: \n",
      "A value is trying to be set on a copy of a slice from a DataFrame.\n",
      "Try using .loc[row_indexer,col_indexer] = value instead\n",
      "\n",
      "See the caveats in the documentation: https://pandas.pydata.org/pandas-docs/stable/user_guide/indexing.html#returning-a-view-versus-a-copy\n",
      "  self._setitem_single_column(loc, value, pi)\n",
      "C:\\tools\\Anaconda3\\lib\\site-packages\\pandas\\core\\indexing.py:1720: SettingWithCopyWarning: \n",
      "A value is trying to be set on a copy of a slice from a DataFrame.\n",
      "Try using .loc[row_indexer,col_indexer] = value instead\n",
      "\n",
      "See the caveats in the documentation: https://pandas.pydata.org/pandas-docs/stable/user_guide/indexing.html#returning-a-view-versus-a-copy\n",
      "  self._setitem_single_column(loc, value, pi)\n",
      "C:\\tools\\Anaconda3\\lib\\site-packages\\pandas\\core\\indexing.py:1720: SettingWithCopyWarning: \n",
      "A value is trying to be set on a copy of a slice from a DataFrame.\n",
      "Try using .loc[row_indexer,col_indexer] = value instead\n",
      "\n",
      "See the caveats in the documentation: https://pandas.pydata.org/pandas-docs/stable/user_guide/indexing.html#returning-a-view-versus-a-copy\n",
      "  self._setitem_single_column(loc, value, pi)\n",
      "C:\\tools\\Anaconda3\\lib\\site-packages\\pandas\\core\\indexing.py:1720: SettingWithCopyWarning: \n",
      "A value is trying to be set on a copy of a slice from a DataFrame.\n",
      "Try using .loc[row_indexer,col_indexer] = value instead\n",
      "\n",
      "See the caveats in the documentation: https://pandas.pydata.org/pandas-docs/stable/user_guide/indexing.html#returning-a-view-versus-a-copy\n",
      "  self._setitem_single_column(loc, value, pi)\n",
      "C:\\tools\\Anaconda3\\lib\\site-packages\\pandas\\core\\indexing.py:1720: SettingWithCopyWarning: \n",
      "A value is trying to be set on a copy of a slice from a DataFrame.\n",
      "Try using .loc[row_indexer,col_indexer] = value instead\n",
      "\n",
      "See the caveats in the documentation: https://pandas.pydata.org/pandas-docs/stable/user_guide/indexing.html#returning-a-view-versus-a-copy\n",
      "  self._setitem_single_column(loc, value, pi)\n",
      "C:\\tools\\Anaconda3\\lib\\site-packages\\pandas\\core\\indexing.py:1720: SettingWithCopyWarning: \n",
      "A value is trying to be set on a copy of a slice from a DataFrame.\n",
      "Try using .loc[row_indexer,col_indexer] = value instead\n",
      "\n",
      "See the caveats in the documentation: https://pandas.pydata.org/pandas-docs/stable/user_guide/indexing.html#returning-a-view-versus-a-copy\n",
      "  self._setitem_single_column(loc, value, pi)\n",
      "C:\\tools\\Anaconda3\\lib\\site-packages\\pandas\\core\\indexing.py:1720: SettingWithCopyWarning: \n",
      "A value is trying to be set on a copy of a slice from a DataFrame.\n",
      "Try using .loc[row_indexer,col_indexer] = value instead\n",
      "\n",
      "See the caveats in the documentation: https://pandas.pydata.org/pandas-docs/stable/user_guide/indexing.html#returning-a-view-versus-a-copy\n",
      "  self._setitem_single_column(loc, value, pi)\n",
      "C:\\tools\\Anaconda3\\lib\\site-packages\\pandas\\core\\indexing.py:1720: SettingWithCopyWarning: \n",
      "A value is trying to be set on a copy of a slice from a DataFrame.\n",
      "Try using .loc[row_indexer,col_indexer] = value instead\n",
      "\n",
      "See the caveats in the documentation: https://pandas.pydata.org/pandas-docs/stable/user_guide/indexing.html#returning-a-view-versus-a-copy\n",
      "  self._setitem_single_column(loc, value, pi)\n",
      "C:\\tools\\Anaconda3\\lib\\site-packages\\pandas\\core\\indexing.py:1720: SettingWithCopyWarning: \n",
      "A value is trying to be set on a copy of a slice from a DataFrame.\n",
      "Try using .loc[row_indexer,col_indexer] = value instead\n",
      "\n",
      "See the caveats in the documentation: https://pandas.pydata.org/pandas-docs/stable/user_guide/indexing.html#returning-a-view-versus-a-copy\n",
      "  self._setitem_single_column(loc, value, pi)\n"
     ]
    },
    {
     "name": "stderr",
     "output_type": "stream",
     "text": [
      "C:\\tools\\Anaconda3\\lib\\site-packages\\pandas\\core\\indexing.py:1720: SettingWithCopyWarning: \n",
      "A value is trying to be set on a copy of a slice from a DataFrame.\n",
      "Try using .loc[row_indexer,col_indexer] = value instead\n",
      "\n",
      "See the caveats in the documentation: https://pandas.pydata.org/pandas-docs/stable/user_guide/indexing.html#returning-a-view-versus-a-copy\n",
      "  self._setitem_single_column(loc, value, pi)\n",
      "C:\\tools\\Anaconda3\\lib\\site-packages\\pandas\\core\\indexing.py:1720: SettingWithCopyWarning: \n",
      "A value is trying to be set on a copy of a slice from a DataFrame.\n",
      "Try using .loc[row_indexer,col_indexer] = value instead\n",
      "\n",
      "See the caveats in the documentation: https://pandas.pydata.org/pandas-docs/stable/user_guide/indexing.html#returning-a-view-versus-a-copy\n",
      "  self._setitem_single_column(loc, value, pi)\n",
      "C:\\tools\\Anaconda3\\lib\\site-packages\\pandas\\core\\indexing.py:1720: SettingWithCopyWarning: \n",
      "A value is trying to be set on a copy of a slice from a DataFrame.\n",
      "Try using .loc[row_indexer,col_indexer] = value instead\n",
      "\n",
      "See the caveats in the documentation: https://pandas.pydata.org/pandas-docs/stable/user_guide/indexing.html#returning-a-view-versus-a-copy\n",
      "  self._setitem_single_column(loc, value, pi)\n",
      "C:\\tools\\Anaconda3\\lib\\site-packages\\pandas\\core\\indexing.py:1720: SettingWithCopyWarning: \n",
      "A value is trying to be set on a copy of a slice from a DataFrame.\n",
      "Try using .loc[row_indexer,col_indexer] = value instead\n",
      "\n",
      "See the caveats in the documentation: https://pandas.pydata.org/pandas-docs/stable/user_guide/indexing.html#returning-a-view-versus-a-copy\n",
      "  self._setitem_single_column(loc, value, pi)\n",
      "C:\\tools\\Anaconda3\\lib\\site-packages\\pandas\\core\\indexing.py:1720: SettingWithCopyWarning: \n",
      "A value is trying to be set on a copy of a slice from a DataFrame.\n",
      "Try using .loc[row_indexer,col_indexer] = value instead\n",
      "\n",
      "See the caveats in the documentation: https://pandas.pydata.org/pandas-docs/stable/user_guide/indexing.html#returning-a-view-versus-a-copy\n",
      "  self._setitem_single_column(loc, value, pi)\n",
      "C:\\tools\\Anaconda3\\lib\\site-packages\\pandas\\core\\indexing.py:1720: SettingWithCopyWarning: \n",
      "A value is trying to be set on a copy of a slice from a DataFrame.\n",
      "Try using .loc[row_indexer,col_indexer] = value instead\n",
      "\n",
      "See the caveats in the documentation: https://pandas.pydata.org/pandas-docs/stable/user_guide/indexing.html#returning-a-view-versus-a-copy\n",
      "  self._setitem_single_column(loc, value, pi)\n",
      "C:\\tools\\Anaconda3\\lib\\site-packages\\pandas\\core\\indexing.py:1720: SettingWithCopyWarning: \n",
      "A value is trying to be set on a copy of a slice from a DataFrame.\n",
      "Try using .loc[row_indexer,col_indexer] = value instead\n",
      "\n",
      "See the caveats in the documentation: https://pandas.pydata.org/pandas-docs/stable/user_guide/indexing.html#returning-a-view-versus-a-copy\n",
      "  self._setitem_single_column(loc, value, pi)\n"
     ]
    }
   ],
   "source": [
    "lifts     = {}\n",
    "responses = {}\n",
    "gains     = {}\n",
    "data      = DataFrame(y_test).copy() \n",
    "\n",
    "for (index,model) in enumerate(models):\n",
    "    data[f\"proba {model}\"] = DataFrame(models[model].predict_proba(X_test))[1]\n",
    "    lifts[model] = 1 - lift(dataSet = data, actuals = \"has_contributed\", probability = \"proba \"+str(model))\n",
    "    responses[model] = 1 - cumulativeResponse(dataSet = data, actuals = \"has_contributed\", probability = \"proba \"+str(model))\n",
    "    gains[model] = 1 - cumulativeGains(dataSet = data, actuals = \"has_contributed\", probability = \"proba \"+str(model))"
   ]
  },
  {
   "cell_type": "code",
   "execution_count": null,
   "metadata": {},
   "outputs": [],
   "source": []
  },
  {
   "cell_type": "code",
   "execution_count": 83,
   "metadata": {},
   "outputs": [
    {
     "data": {
      "text/plain": [
       "{'tree':    Quantile  Cumulative response  Average response\n",
       " 0       0.0             0.991731          0.991731,\n",
       " 'logistic':     Quantile  Cumulative response  Average response\n",
       " 19      0.00             0.995383          0.991731\n",
       " 18      0.05             0.994919          0.991731\n",
       " 17      0.10             0.992301          0.991731\n",
       " 16      0.15             0.993073          0.991731\n",
       " 15      0.20             0.993348          0.991731\n",
       " 14      0.25             0.992455          0.991731\n",
       " 13      0.30             0.992609          0.991731\n",
       " 12      0.35             0.992610          0.991731\n",
       " 11      0.40             0.992814          0.991731\n",
       " 10      0.45             0.992517          0.991731\n",
       " 9       0.50             0.992189          0.991731\n",
       " 8       0.55             0.992378          0.991731\n",
       " 7       0.60             0.992111          0.991731\n",
       " 6       0.65             0.992081          0.991731\n",
       " 5       0.70             0.992054          0.991731\n",
       " 4       0.75             0.991916          0.991731\n",
       " 3       0.80             0.991902          0.991731\n",
       " 2       0.85             0.991994          0.991731\n",
       " 1       0.90             0.991976          0.991731\n",
       " 0       0.95             0.991731          0.991731,\n",
       " 'randomForest':    Quantile  Cumulative response  Average response\n",
       " 1      0.00             0.995853          0.991731\n",
       " 0      0.05             0.991731          0.991731,\n",
       " 'svm':     Quantile  Cumulative response  Average response\n",
       " 19      0.00             0.997230          0.991731\n",
       " 18      0.05             0.994457          0.991731\n",
       " 17      0.10             0.993532          0.991731\n",
       " 16      0.15             0.992381          0.991731\n",
       " 15      0.20             0.992239          0.991731\n",
       " 14      0.25             0.991839          0.991731\n",
       " 13      0.30             0.991561          0.991731\n",
       " 12      0.35             0.991454          0.991731\n",
       " 11      0.40             0.992198          0.991731\n",
       " 10      0.45             0.992147          0.991731\n",
       " 9       0.50             0.992105          0.991731\n",
       " 8       0.55             0.991916          0.991731\n",
       " 7       0.60             0.991329          0.991731\n",
       " 6       0.65             0.991487          0.991731\n",
       " 5       0.70             0.991625          0.991731\n",
       " 4       0.75             0.991627          0.991731\n",
       " 3       0.80             0.991467          0.991731\n",
       " 2       0.85             0.991839          0.991731\n",
       " 1       0.90             0.991736          0.991731\n",
       " 0       0.95             0.991731          0.991731}"
      ]
     },
     "execution_count": 83,
     "metadata": {},
     "output_type": "execute_result"
    }
   ],
   "source": [
    "responses"
   ]
  },
  {
   "cell_type": "code",
   "execution_count": 84,
   "metadata": {},
   "outputs": [
    {
     "data": {
      "text/html": [
       "<div>\n",
       "<style scoped>\n",
       "    .dataframe tbody tr th:only-of-type {\n",
       "        vertical-align: middle;\n",
       "    }\n",
       "\n",
       "    .dataframe tbody tr th {\n",
       "        vertical-align: top;\n",
       "    }\n",
       "\n",
       "    .dataframe thead th {\n",
       "        text-align: right;\n",
       "    }\n",
       "</style>\n",
       "<table border=\"1\" class=\"dataframe\">\n",
       "  <thead>\n",
       "    <tr style=\"text-align: right;\">\n",
       "      <th></th>\n",
       "      <th>has_contributed</th>\n",
       "      <th>proba tree</th>\n",
       "      <th>proba logistic</th>\n",
       "      <th>proba randomForest</th>\n",
       "      <th>proba svm</th>\n",
       "    </tr>\n",
       "  </thead>\n",
       "  <tbody>\n",
       "    <tr>\n",
       "      <th>0</th>\n",
       "      <td>0</td>\n",
       "      <td>0.0</td>\n",
       "      <td>0.000254</td>\n",
       "      <td>0.0</td>\n",
       "      <td>0.007086</td>\n",
       "    </tr>\n",
       "    <tr>\n",
       "      <th>1</th>\n",
       "      <td>0</td>\n",
       "      <td>0.0</td>\n",
       "      <td>0.001577</td>\n",
       "      <td>0.0</td>\n",
       "      <td>0.007591</td>\n",
       "    </tr>\n",
       "    <tr>\n",
       "      <th>2</th>\n",
       "      <td>0</td>\n",
       "      <td>0.0</td>\n",
       "      <td>0.000091</td>\n",
       "      <td>0.0</td>\n",
       "      <td>0.018205</td>\n",
       "    </tr>\n",
       "    <tr>\n",
       "      <th>3</th>\n",
       "      <td>0</td>\n",
       "      <td>0.0</td>\n",
       "      <td>0.008514</td>\n",
       "      <td>0.0</td>\n",
       "      <td>0.008328</td>\n",
       "    </tr>\n",
       "    <tr>\n",
       "      <th>4</th>\n",
       "      <td>0</td>\n",
       "      <td>0.0</td>\n",
       "      <td>0.002921</td>\n",
       "      <td>0.0</td>\n",
       "      <td>0.011141</td>\n",
       "    </tr>\n",
       "    <tr>\n",
       "      <th>5</th>\n",
       "      <td>0</td>\n",
       "      <td>0.0</td>\n",
       "      <td>0.031763</td>\n",
       "      <td>0.0</td>\n",
       "      <td>0.004013</td>\n",
       "    </tr>\n",
       "    <tr>\n",
       "      <th>6</th>\n",
       "      <td>0</td>\n",
       "      <td>0.0</td>\n",
       "      <td>0.007611</td>\n",
       "      <td>0.0</td>\n",
       "      <td>0.010095</td>\n",
       "    </tr>\n",
       "    <tr>\n",
       "      <th>7</th>\n",
       "      <td>0</td>\n",
       "      <td>0.0</td>\n",
       "      <td>0.007611</td>\n",
       "      <td>0.0</td>\n",
       "      <td>0.010095</td>\n",
       "    </tr>\n",
       "    <tr>\n",
       "      <th>8</th>\n",
       "      <td>0</td>\n",
       "      <td>0.0</td>\n",
       "      <td>0.007611</td>\n",
       "      <td>0.0</td>\n",
       "      <td>0.010095</td>\n",
       "    </tr>\n",
       "    <tr>\n",
       "      <th>9</th>\n",
       "      <td>0</td>\n",
       "      <td>0.0</td>\n",
       "      <td>0.000780</td>\n",
       "      <td>0.0</td>\n",
       "      <td>0.004027</td>\n",
       "    </tr>\n",
       "    <tr>\n",
       "      <th>10</th>\n",
       "      <td>0</td>\n",
       "      <td>0.0</td>\n",
       "      <td>0.000780</td>\n",
       "      <td>0.0</td>\n",
       "      <td>0.004027</td>\n",
       "    </tr>\n",
       "    <tr>\n",
       "      <th>11</th>\n",
       "      <td>0</td>\n",
       "      <td>0.0</td>\n",
       "      <td>0.001007</td>\n",
       "      <td>0.0</td>\n",
       "      <td>0.009547</td>\n",
       "    </tr>\n",
       "    <tr>\n",
       "      <th>12</th>\n",
       "      <td>0</td>\n",
       "      <td>0.0</td>\n",
       "      <td>0.013489</td>\n",
       "      <td>0.0</td>\n",
       "      <td>0.014724</td>\n",
       "    </tr>\n",
       "    <tr>\n",
       "      <th>13</th>\n",
       "      <td>0</td>\n",
       "      <td>0.0</td>\n",
       "      <td>0.000005</td>\n",
       "      <td>0.0</td>\n",
       "      <td>0.015601</td>\n",
       "    </tr>\n",
       "    <tr>\n",
       "      <th>14</th>\n",
       "      <td>0</td>\n",
       "      <td>0.0</td>\n",
       "      <td>0.000005</td>\n",
       "      <td>0.0</td>\n",
       "      <td>0.015601</td>\n",
       "    </tr>\n",
       "    <tr>\n",
       "      <th>15</th>\n",
       "      <td>0</td>\n",
       "      <td>0.0</td>\n",
       "      <td>0.000005</td>\n",
       "      <td>0.0</td>\n",
       "      <td>0.015601</td>\n",
       "    </tr>\n",
       "    <tr>\n",
       "      <th>16</th>\n",
       "      <td>0</td>\n",
       "      <td>0.0</td>\n",
       "      <td>0.000001</td>\n",
       "      <td>0.0</td>\n",
       "      <td>0.014975</td>\n",
       "    </tr>\n",
       "    <tr>\n",
       "      <th>17</th>\n",
       "      <td>0</td>\n",
       "      <td>0.0</td>\n",
       "      <td>0.000005</td>\n",
       "      <td>0.0</td>\n",
       "      <td>0.015601</td>\n",
       "    </tr>\n",
       "    <tr>\n",
       "      <th>18</th>\n",
       "      <td>0</td>\n",
       "      <td>0.0</td>\n",
       "      <td>0.000005</td>\n",
       "      <td>0.0</td>\n",
       "      <td>0.015601</td>\n",
       "    </tr>\n",
       "    <tr>\n",
       "      <th>19</th>\n",
       "      <td>0</td>\n",
       "      <td>0.0</td>\n",
       "      <td>0.000005</td>\n",
       "      <td>0.0</td>\n",
       "      <td>0.015601</td>\n",
       "    </tr>\n",
       "  </tbody>\n",
       "</table>\n",
       "</div>"
      ],
      "text/plain": [
       "    has_contributed  proba tree  proba logistic  proba randomForest  proba svm\n",
       "0                 0         0.0        0.000254                 0.0   0.007086\n",
       "1                 0         0.0        0.001577                 0.0   0.007591\n",
       "2                 0         0.0        0.000091                 0.0   0.018205\n",
       "3                 0         0.0        0.008514                 0.0   0.008328\n",
       "4                 0         0.0        0.002921                 0.0   0.011141\n",
       "5                 0         0.0        0.031763                 0.0   0.004013\n",
       "6                 0         0.0        0.007611                 0.0   0.010095\n",
       "7                 0         0.0        0.007611                 0.0   0.010095\n",
       "8                 0         0.0        0.007611                 0.0   0.010095\n",
       "9                 0         0.0        0.000780                 0.0   0.004027\n",
       "10                0         0.0        0.000780                 0.0   0.004027\n",
       "11                0         0.0        0.001007                 0.0   0.009547\n",
       "12                0         0.0        0.013489                 0.0   0.014724\n",
       "13                0         0.0        0.000005                 0.0   0.015601\n",
       "14                0         0.0        0.000005                 0.0   0.015601\n",
       "15                0         0.0        0.000005                 0.0   0.015601\n",
       "16                0         0.0        0.000001                 0.0   0.014975\n",
       "17                0         0.0        0.000005                 0.0   0.015601\n",
       "18                0         0.0        0.000005                 0.0   0.015601\n",
       "19                0         0.0        0.000005                 0.0   0.015601"
      ]
     },
     "execution_count": 84,
     "metadata": {},
     "output_type": "execute_result"
    }
   ],
   "source": [
    "data.head(20)"
   ]
  },
  {
   "cell_type": "code",
   "execution_count": 85,
   "metadata": {},
   "outputs": [
    {
     "data": {
      "text/html": [
       "<div>\n",
       "<style scoped>\n",
       "    .dataframe tbody tr th:only-of-type {\n",
       "        vertical-align: middle;\n",
       "    }\n",
       "\n",
       "    .dataframe tbody tr th {\n",
       "        vertical-align: top;\n",
       "    }\n",
       "\n",
       "    .dataframe thead th {\n",
       "        text-align: right;\n",
       "    }\n",
       "</style>\n",
       "<table border=\"1\" class=\"dataframe\">\n",
       "  <thead>\n",
       "    <tr style=\"text-align: right;\">\n",
       "      <th></th>\n",
       "      <th>Quantile</th>\n",
       "      <th>Lift</th>\n",
       "      <th>Base</th>\n",
       "    </tr>\n",
       "  </thead>\n",
       "  <tbody>\n",
       "    <tr>\n",
       "      <th>19</th>\n",
       "      <td>0.00</td>\n",
       "      <td>0.441676</td>\n",
       "      <td>0.0</td>\n",
       "    </tr>\n",
       "    <tr>\n",
       "      <th>18</th>\n",
       "      <td>0.05</td>\n",
       "      <td>0.385560</td>\n",
       "      <td>0.0</td>\n",
       "    </tr>\n",
       "    <tr>\n",
       "      <th>17</th>\n",
       "      <td>0.10</td>\n",
       "      <td>0.068887</td>\n",
       "      <td>0.0</td>\n",
       "    </tr>\n",
       "    <tr>\n",
       "      <th>16</th>\n",
       "      <td>0.15</td>\n",
       "      <td>0.162321</td>\n",
       "      <td>0.0</td>\n",
       "    </tr>\n",
       "    <tr>\n",
       "      <th>15</th>\n",
       "      <td>0.20</td>\n",
       "      <td>0.195568</td>\n",
       "      <td>0.0</td>\n",
       "    </tr>\n",
       "    <tr>\n",
       "      <th>14</th>\n",
       "      <td>0.25</td>\n",
       "      <td>0.087509</td>\n",
       "      <td>0.0</td>\n",
       "    </tr>\n",
       "    <tr>\n",
       "      <th>13</th>\n",
       "      <td>0.30</td>\n",
       "      <td>0.106210</td>\n",
       "      <td>0.0</td>\n",
       "    </tr>\n",
       "    <tr>\n",
       "      <th>12</th>\n",
       "      <td>0.35</td>\n",
       "      <td>0.106269</td>\n",
       "      <td>0.0</td>\n",
       "    </tr>\n",
       "    <tr>\n",
       "      <th>11</th>\n",
       "      <td>0.40</td>\n",
       "      <td>0.130961</td>\n",
       "      <td>0.0</td>\n",
       "    </tr>\n",
       "    <tr>\n",
       "      <th>10</th>\n",
       "      <td>0.45</td>\n",
       "      <td>0.095014</td>\n",
       "      <td>0.0</td>\n",
       "    </tr>\n",
       "    <tr>\n",
       "      <th>9</th>\n",
       "      <td>0.50</td>\n",
       "      <td>0.055370</td>\n",
       "      <td>0.0</td>\n",
       "    </tr>\n",
       "    <tr>\n",
       "      <th>8</th>\n",
       "      <td>0.55</td>\n",
       "      <td>0.078198</td>\n",
       "      <td>0.0</td>\n",
       "    </tr>\n",
       "    <tr>\n",
       "      <th>7</th>\n",
       "      <td>0.60</td>\n",
       "      <td>0.045945</td>\n",
       "      <td>0.0</td>\n",
       "    </tr>\n",
       "    <tr>\n",
       "      <th>6</th>\n",
       "      <td>0.65</td>\n",
       "      <td>0.042305</td>\n",
       "      <td>0.0</td>\n",
       "    </tr>\n",
       "    <tr>\n",
       "      <th>5</th>\n",
       "      <td>0.70</td>\n",
       "      <td>0.039091</td>\n",
       "      <td>0.0</td>\n",
       "    </tr>\n",
       "    <tr>\n",
       "      <th>4</th>\n",
       "      <td>0.75</td>\n",
       "      <td>0.022369</td>\n",
       "      <td>0.0</td>\n",
       "    </tr>\n",
       "    <tr>\n",
       "      <th>3</th>\n",
       "      <td>0.80</td>\n",
       "      <td>0.020706</td>\n",
       "      <td>0.0</td>\n",
       "    </tr>\n",
       "    <tr>\n",
       "      <th>2</th>\n",
       "      <td>0.85</td>\n",
       "      <td>0.031792</td>\n",
       "      <td>0.0</td>\n",
       "    </tr>\n",
       "    <tr>\n",
       "      <th>1</th>\n",
       "      <td>0.90</td>\n",
       "      <td>0.029666</td>\n",
       "      <td>0.0</td>\n",
       "    </tr>\n",
       "    <tr>\n",
       "      <th>0</th>\n",
       "      <td>0.95</td>\n",
       "      <td>0.000000</td>\n",
       "      <td>0.0</td>\n",
       "    </tr>\n",
       "  </tbody>\n",
       "</table>\n",
       "</div>"
      ],
      "text/plain": [
       "    Quantile      Lift  Base\n",
       "19      0.00  0.441676   0.0\n",
       "18      0.05  0.385560   0.0\n",
       "17      0.10  0.068887   0.0\n",
       "16      0.15  0.162321   0.0\n",
       "15      0.20  0.195568   0.0\n",
       "14      0.25  0.087509   0.0\n",
       "13      0.30  0.106210   0.0\n",
       "12      0.35  0.106269   0.0\n",
       "11      0.40  0.130961   0.0\n",
       "10      0.45  0.095014   0.0\n",
       "9       0.50  0.055370   0.0\n",
       "8       0.55  0.078198   0.0\n",
       "7       0.60  0.045945   0.0\n",
       "6       0.65  0.042305   0.0\n",
       "5       0.70  0.039091   0.0\n",
       "4       0.75  0.022369   0.0\n",
       "3       0.80  0.020706   0.0\n",
       "2       0.85  0.031792   0.0\n",
       "1       0.90  0.029666   0.0\n",
       "0       0.95  0.000000   0.0"
      ]
     },
     "execution_count": 85,
     "metadata": {},
     "output_type": "execute_result"
    }
   ],
   "source": [
    "lifts[\"logistic\"].head(20)"
   ]
  },
  {
   "cell_type": "code",
   "execution_count": 86,
   "metadata": {},
   "outputs": [
    {
     "data": {
      "image/png": "[encoded data removed]",
      "text/plain": [
       "<Figure size 720x360 with 1 Axes>"
      ]
     },
     "metadata": {
      "needs_background": "light"
     },
     "output_type": "display_data"
    }
   ],
   "source": [
    "\n",
    "plt.figure(figsize=(10,5))\n",
    "for model12 in models:\n",
    "    plt.plot(lifts[model12][\"Quantile\"], lifts[model12][\"Lift\"], label = model12)\n",
    "    plt.gca()\n",
    "    plt.xlabel(\"Quantile\")\n",
    "    plt.ylabel(\"lift\")\n",
    "    plt.title(\"Lift\")\n",
    "    plt.legend()"
   ]
  },
  {
   "cell_type": "code",
   "execution_count": null,
   "metadata": {},
   "outputs": [],
   "source": []
  },
  {
   "cell_type": "code",
   "execution_count": 87,
   "metadata": {},
   "outputs": [
    {
     "data": {
      "image/png": "[encoded data removed]",
      "text/plain": [
       "<Figure size 432x288 with 1 Axes>"
      ]
     },
     "metadata": {
      "needs_background": "light"
     },
     "output_type": "display_data"
    }
   ],
   "source": [
    "for model in models:\n",
    "    pyplot.plot(responses[model][\"Quantile\"], responses[model][\"Cumulative response\"], label = model)\n",
    "    pyplot.gca().invert_xaxis()\n",
    "    pyplot.xlabel(\"Quantile\")\n",
    "    pyplot.ylabel(\"Response\")\n",
    "    pyplot.title(\"Lift\")\n",
    "    pyplot.legend()"
   ]
  },
  {
   "cell_type": "code",
   "execution_count": 89,
   "metadata": {},
   "outputs": [
    {
     "data": {
      "image/png": "[encoded data removed]",
      "text/plain": [
       "<Figure size 432x288 with 1 Axes>"
      ]
     },
     "metadata": {
      "needs_background": "light"
     },
     "output_type": "display_data"
    }
   ],
   "source": [
    "for model in models:\n",
    "    pyplot.plot(gains[model][\"Quantile\"], gains[model][\"Cumulative gains\"], label = model)\n",
    "    pyplot.gca().invert_xaxis()\n",
    "    pyplot.xlabel(\"Quantile\")\n",
    "    pyplot.ylabel(\"Gains\")\n",
    "    pyplot.title(\"Gains\")\n",
    "    pyplot.legend()"
   ]
  },
  {
   "cell_type": "code",
   "execution_count": null,
   "metadata": {},
   "outputs": [],
   "source": []
  },
  {
   "cell_type": "code",
   "execution_count": null,
   "metadata": {},
   "outputs": [],
   "source": []
  }
 ],
 "metadata": {
  "interpreter": {
   "hash": "63fd5069d213b44bf678585dea6b12cceca9941eaf7f819626cde1f2670de90d"
  },
  "kernelspec": {
   "display_name": "Python 3 (ipykernel)",
   "language": "python",
   "name": "python3"
  },
  "language_info": {
   "codemirror_mode": {
    "name": "ipython",
    "version": 3
   },
   "file_extension": ".py",
   "mimetype": "text/x-python",
   "name": "python",
   "nbconvert_exporter": "python",
   "pygments_lexer": "ipython3",
   "version": "3.8.8"
  }
 },
 "nbformat": 4,
 "nbformat_minor": 2
}
