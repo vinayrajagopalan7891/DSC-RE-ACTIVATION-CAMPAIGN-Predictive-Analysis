{
 "cells": [
  {
   "cell_type": "code",
   "execution_count": 1100,
   "metadata": {},
   "outputs": [],
   "source": [
    "# Import libraries\n",
    "import numpy as np\n",
    "import pandas as pd\n",
    "import matplotlib.pyplot as plt\n",
    "import os\n",
    "import datetime\n",
    "from dateutil.relativedelta import relativedelta"
   ]
  },
  {
   "cell_type": "markdown",
   "metadata": {},
   "source": [
    "# Reading Data"
   ]
  },
  {
   "cell_type": "code",
   "execution_count": 1101,
   "metadata": {},
   "outputs": [],
   "source": [
    "campaigns = pd.read_csv('./data/campaigns.csv')\n",
    "\n",
    "donors = pd.read_csv('./data/donors.csv')\n",
    "\n",
    "gifts = pd.read_csv('./data/gifts.csv')\n",
    "\n",
    "campaigns_campaign_id = pd.read_csv('./data/selection campaign 6169.csv')"
   ]
  },
  {
   "cell_type": "code",
   "execution_count": 1102,
   "metadata": {},
   "outputs": [],
   "source": [
    "end_date_for_ind_variable = datetime.datetime(2018, 8, 4)\n",
    "campaign_launched = datetime.datetime(2018, 9, 4)\n",
    "end_date_tar_variable = datetime.datetime(2019, 6, 18)\n",
    "campaign_id = 6169"
   ]
  },
  {
   "cell_type": "markdown",
   "metadata": {},
   "source": [
    "# GIFTS"
   ]
  },
  {
   "cell_type": "markdown",
   "metadata": {},
   "source": [
    "### Checking data in gifts"
   ]
  },
  {
   "cell_type": "code",
   "execution_count": 1103,
   "metadata": {},
   "outputs": [
    {
     "name": "stdout",
     "output_type": "stream",
     "text": [
      "15637\n",
      "Unnamed: 0 0\n",
      "donorID 0\n",
      "campaignID 15637\n",
      "amount 0\n",
      "date 0\n",
      "<class 'pandas.core.frame.DataFrame'>\n",
      "RangeIndex: 216594 entries, 0 to 216593\n",
      "Data columns (total 5 columns):\n",
      " #   Column      Non-Null Count   Dtype  \n",
      "---  ------      --------------   -----  \n",
      " 0   Unnamed: 0  216594 non-null  int64  \n",
      " 1   donorID     216594 non-null  int64  \n",
      " 2   campaignID  200957 non-null  float64\n",
      " 3   amount      216594 non-null  object \n",
      " 4   date        216594 non-null  object \n",
      "dtypes: float64(1), int64(2), object(2)\n",
      "memory usage: 8.3+ MB\n"
     ]
    }
   ],
   "source": [
    "\n",
    "print(gifts.isna().sum().sum())\n",
    "for column in gifts.columns[0:]:\n",
    "    print(column + \" \" + str(gifts[column].isna().sum()))\n",
    "\n",
    "gifts.info()"
   ]
  },
  {
   "cell_type": "markdown",
   "metadata": {},
   "source": [
    "### Cleaning data in gifts"
   ]
  },
  {
   "cell_type": "code",
   "execution_count": 1104,
   "metadata": {},
   "outputs": [
    {
     "data": {
      "text/html": [
       "<div>\n",
       "<style scoped>\n",
       "    .dataframe tbody tr th:only-of-type {\n",
       "        vertical-align: middle;\n",
       "    }\n",
       "\n",
       "    .dataframe tbody tr th {\n",
       "        vertical-align: top;\n",
       "    }\n",
       "\n",
       "    .dataframe thead th {\n",
       "        text-align: right;\n",
       "    }\n",
       "</style>\n",
       "<table border=\"1\" class=\"dataframe\">\n",
       "  <thead>\n",
       "    <tr style=\"text-align: right;\">\n",
       "      <th></th>\n",
       "      <th>giftID</th>\n",
       "      <th>donorID</th>\n",
       "      <th>campaignID</th>\n",
       "      <th>amount</th>\n",
       "      <th>date</th>\n",
       "    </tr>\n",
       "  </thead>\n",
       "  <tbody>\n",
       "    <tr>\n",
       "      <th>0</th>\n",
       "      <td>0</td>\n",
       "      <td>100001</td>\n",
       "      <td>0</td>\n",
       "      <td>12.39</td>\n",
       "      <td>2004-03-23</td>\n",
       "    </tr>\n",
       "    <tr>\n",
       "      <th>1</th>\n",
       "      <td>1</td>\n",
       "      <td>100001</td>\n",
       "      <td>1577</td>\n",
       "      <td>12.39</td>\n",
       "      <td>2007-10-11</td>\n",
       "    </tr>\n",
       "    <tr>\n",
       "      <th>2</th>\n",
       "      <td>2</td>\n",
       "      <td>100001</td>\n",
       "      <td>1634</td>\n",
       "      <td>6.69</td>\n",
       "      <td>2007-12-28</td>\n",
       "    </tr>\n",
       "    <tr>\n",
       "      <th>3</th>\n",
       "      <td>3</td>\n",
       "      <td>100001</td>\n",
       "      <td>1778</td>\n",
       "      <td>24.79</td>\n",
       "      <td>2008-06-14</td>\n",
       "    </tr>\n",
       "    <tr>\n",
       "      <th>4</th>\n",
       "      <td>4</td>\n",
       "      <td>100001</td>\n",
       "      <td>1808</td>\n",
       "      <td>7.44</td>\n",
       "      <td>2008-07-09</td>\n",
       "    </tr>\n",
       "  </tbody>\n",
       "</table>\n",
       "</div>"
      ],
      "text/plain": [
       "   giftID  donorID  campaignID  amount       date\n",
       "0       0   100001           0   12.39 2004-03-23\n",
       "1       1   100001        1577   12.39 2007-10-11\n",
       "2       2   100001        1634    6.69 2007-12-28\n",
       "3       3   100001        1778   24.79 2008-06-14\n",
       "4       4   100001        1808    7.44 2008-07-09"
      ]
     },
     "execution_count": 1104,
     "metadata": {},
     "output_type": "execute_result"
    }
   ],
   "source": [
    "gifts['campaignID'] = gifts['campaignID'].fillna(0.0)\n",
    "gifts['campaignID'] = gifts['campaignID'].astype(int)\n",
    "gifts['amount'] = gifts['amount'].str.replace(\",\", \".\").astype(float)\n",
    "gifts['date'] = pd.to_datetime(gifts['date'])\n",
    "gifts.rename(columns={'Unnamed: 0' : 'giftID'}, inplace=True)\n",
    "gifts.head()"
   ]
  },
  {
   "cell_type": "markdown",
   "metadata": {},
   "source": [
    "### Adding columns to gift table"
   ]
  },
  {
   "cell_type": "code",
   "execution_count": 1105,
   "metadata": {},
   "outputs": [
    {
     "data": {
      "text/html": [
       "<div>\n",
       "<style scoped>\n",
       "    .dataframe tbody tr th:only-of-type {\n",
       "        vertical-align: middle;\n",
       "    }\n",
       "\n",
       "    .dataframe tbody tr th {\n",
       "        vertical-align: top;\n",
       "    }\n",
       "\n",
       "    .dataframe thead th {\n",
       "        text-align: right;\n",
       "    }\n",
       "</style>\n",
       "<table border=\"1\" class=\"dataframe\">\n",
       "  <thead>\n",
       "    <tr style=\"text-align: right;\">\n",
       "      <th></th>\n",
       "      <th>giftID</th>\n",
       "      <th>donorID</th>\n",
       "      <th>campaignID</th>\n",
       "      <th>amount</th>\n",
       "      <th>date</th>\n",
       "      <th>Quater</th>\n",
       "    </tr>\n",
       "  </thead>\n",
       "  <tbody>\n",
       "    <tr>\n",
       "      <th>0</th>\n",
       "      <td>0</td>\n",
       "      <td>100001</td>\n",
       "      <td>0</td>\n",
       "      <td>12.39</td>\n",
       "      <td>2004-03-23</td>\n",
       "      <td>Q1</td>\n",
       "    </tr>\n",
       "    <tr>\n",
       "      <th>1</th>\n",
       "      <td>1</td>\n",
       "      <td>100001</td>\n",
       "      <td>1577</td>\n",
       "      <td>12.39</td>\n",
       "      <td>2007-10-11</td>\n",
       "      <td>Q4</td>\n",
       "    </tr>\n",
       "    <tr>\n",
       "      <th>2</th>\n",
       "      <td>2</td>\n",
       "      <td>100001</td>\n",
       "      <td>1634</td>\n",
       "      <td>6.69</td>\n",
       "      <td>2007-12-28</td>\n",
       "      <td>Q4</td>\n",
       "    </tr>\n",
       "    <tr>\n",
       "      <th>3</th>\n",
       "      <td>3</td>\n",
       "      <td>100001</td>\n",
       "      <td>1778</td>\n",
       "      <td>24.79</td>\n",
       "      <td>2008-06-14</td>\n",
       "      <td>Q2</td>\n",
       "    </tr>\n",
       "    <tr>\n",
       "      <th>4</th>\n",
       "      <td>4</td>\n",
       "      <td>100001</td>\n",
       "      <td>1808</td>\n",
       "      <td>7.44</td>\n",
       "      <td>2008-07-09</td>\n",
       "      <td>Q3</td>\n",
       "    </tr>\n",
       "  </tbody>\n",
       "</table>\n",
       "</div>"
      ],
      "text/plain": [
       "   giftID  donorID  campaignID  amount       date Quater\n",
       "0       0   100001           0   12.39 2004-03-23     Q1\n",
       "1       1   100001        1577   12.39 2007-10-11     Q4\n",
       "2       2   100001        1634    6.69 2007-12-28     Q4\n",
       "3       3   100001        1778   24.79 2008-06-14     Q2\n",
       "4       4   100001        1808    7.44 2008-07-09     Q3"
      ]
     },
     "execution_count": 1105,
     "metadata": {},
     "output_type": "execute_result"
    }
   ],
   "source": [
    "gifts['Quater'] = np.where(gifts['date'].dt.month < 4, 'Q1', np.where(gifts['date'].dt.month < 7, 'Q2', np.where(gifts['date'].dt.month < 10, 'Q3','Q4')))\n",
    "gifts.head()\n"
   ]
  },
  {
   "cell_type": "markdown",
   "metadata": {},
   "source": [
    "# DONORS"
   ]
  },
  {
   "cell_type": "markdown",
   "metadata": {},
   "source": [
    "### Checking data in donors"
   ]
  },
  {
   "cell_type": "code",
   "execution_count": 1106,
   "metadata": {},
   "outputs": [
    {
     "name": "stdout",
     "output_type": "stream",
     "text": [
      "34\n",
      "Unnamed: 0 0\n",
      "donorID 0\n",
      "zipcode 2\n",
      "province 0\n",
      "region 0\n",
      "gender 32\n",
      "language 0\n",
      "dateOfBirth 0\n"
     ]
    },
    {
     "data": {
      "text/html": [
       "<div>\n",
       "<style scoped>\n",
       "    .dataframe tbody tr th:only-of-type {\n",
       "        vertical-align: middle;\n",
       "    }\n",
       "\n",
       "    .dataframe tbody tr th {\n",
       "        vertical-align: top;\n",
       "    }\n",
       "\n",
       "    .dataframe thead th {\n",
       "        text-align: right;\n",
       "    }\n",
       "</style>\n",
       "<table border=\"1\" class=\"dataframe\">\n",
       "  <thead>\n",
       "    <tr style=\"text-align: right;\">\n",
       "      <th></th>\n",
       "      <th>Unnamed: 0</th>\n",
       "      <th>donorID</th>\n",
       "      <th>zipcode</th>\n",
       "      <th>province</th>\n",
       "      <th>region</th>\n",
       "      <th>gender</th>\n",
       "      <th>language</th>\n",
       "      <th>dateOfBirth</th>\n",
       "    </tr>\n",
       "  </thead>\n",
       "  <tbody>\n",
       "    <tr>\n",
       "      <th>0</th>\n",
       "      <td>0</td>\n",
       "      <td>100001</td>\n",
       "      <td>1861.0</td>\n",
       "      <td>Flemish Brabant</td>\n",
       "      <td>Flanders</td>\n",
       "      <td>F</td>\n",
       "      <td>NL</td>\n",
       "      <td>12/24/1967</td>\n",
       "    </tr>\n",
       "    <tr>\n",
       "      <th>1</th>\n",
       "      <td>1</td>\n",
       "      <td>100002</td>\n",
       "      <td>2260.0</td>\n",
       "      <td>Antwerp</td>\n",
       "      <td>Flanders</td>\n",
       "      <td>M</td>\n",
       "      <td>NL</td>\n",
       "      <td>01/14/1952</td>\n",
       "    </tr>\n",
       "    <tr>\n",
       "      <th>2</th>\n",
       "      <td>2</td>\n",
       "      <td>100003</td>\n",
       "      <td>1780.0</td>\n",
       "      <td>Flemish Brabant</td>\n",
       "      <td>Flanders</td>\n",
       "      <td>M</td>\n",
       "      <td>NL</td>\n",
       "      <td>12/23/1986</td>\n",
       "    </tr>\n",
       "    <tr>\n",
       "      <th>3</th>\n",
       "      <td>3</td>\n",
       "      <td>100004</td>\n",
       "      <td>1020.0</td>\n",
       "      <td>Brussels</td>\n",
       "      <td>Brussels</td>\n",
       "      <td>F</td>\n",
       "      <td>FR</td>\n",
       "      <td>03/29/1952</td>\n",
       "    </tr>\n",
       "    <tr>\n",
       "      <th>4</th>\n",
       "      <td>4</td>\n",
       "      <td>100005</td>\n",
       "      <td>1020.0</td>\n",
       "      <td>Brussels</td>\n",
       "      <td>Brussels</td>\n",
       "      <td>F</td>\n",
       "      <td>FR</td>\n",
       "      <td>06/25/1986</td>\n",
       "    </tr>\n",
       "  </tbody>\n",
       "</table>\n",
       "</div>"
      ],
      "text/plain": [
       "   Unnamed: 0  donorID  zipcode         province    region gender language  \\\n",
       "0           0   100001   1861.0  Flemish Brabant  Flanders      F       NL   \n",
       "1           1   100002   2260.0          Antwerp  Flanders      M       NL   \n",
       "2           2   100003   1780.0  Flemish Brabant  Flanders      M       NL   \n",
       "3           3   100004   1020.0         Brussels  Brussels      F       FR   \n",
       "4           4   100005   1020.0         Brussels  Brussels      F       FR   \n",
       "\n",
       "  dateOfBirth  \n",
       "0  12/24/1967  \n",
       "1  01/14/1952  \n",
       "2  12/23/1986  \n",
       "3  03/29/1952  \n",
       "4  06/25/1986  "
      ]
     },
     "execution_count": 1106,
     "metadata": {},
     "output_type": "execute_result"
    }
   ],
   "source": [
    "print(donors.isna().sum().sum())\n",
    "for column in donors.columns[0:]:\n",
    "    print(column + \" \" + str(donors[column].isna().sum()))\n",
    "donors.head()"
   ]
  },
  {
   "cell_type": "markdown",
   "metadata": {},
   "source": [
    "### Cleaning data in donors"
   ]
  },
  {
   "cell_type": "code",
   "execution_count": 1107,
   "metadata": {},
   "outputs": [],
   "source": [
    "donors_zipcode_na = donors.loc[donors['zipcode'].isna(), :]\n",
    "donors_zipcode_na.head()\n",
    "donors['zipcode'] = donors['zipcode'].fillna(0)"
   ]
  },
  {
   "cell_type": "code",
   "execution_count": 1108,
   "metadata": {},
   "outputs": [],
   "source": [
    "donors_gender_na = donors.loc[donors['gender'].isna(), :]\n",
    "donors_gender_na.head()\n",
    "donors['gender'] = donors['gender'].fillna('Not Known')"
   ]
  },
  {
   "cell_type": "code",
   "execution_count": 1109,
   "metadata": {},
   "outputs": [
    {
     "name": "stdout",
     "output_type": "stream",
     "text": [
      "<class 'pandas.core.frame.DataFrame'>\n",
      "RangeIndex: 44691 entries, 0 to 44690\n",
      "Data columns (total 7 columns):\n",
      " #   Column       Non-Null Count  Dtype  \n",
      "---  ------       --------------  -----  \n",
      " 0   donorID      44691 non-null  int64  \n",
      " 1   zipcode      44691 non-null  float64\n",
      " 2   province     44691 non-null  object \n",
      " 3   region       44691 non-null  object \n",
      " 4   gender       44691 non-null  object \n",
      " 5   language     44691 non-null  object \n",
      " 6   dateOfBirth  44691 non-null  object \n",
      "dtypes: float64(1), int64(1), object(5)\n",
      "memory usage: 2.4+ MB\n"
     ]
    }
   ],
   "source": [
    "donors.drop(['Unnamed: 0'] , axis = 1, inplace=True)\n",
    "donors.info()"
   ]
  },
  {
   "cell_type": "markdown",
   "metadata": {},
   "source": [
    "# CAMPAIGNS"
   ]
  },
  {
   "cell_type": "markdown",
   "metadata": {},
   "source": [
    "### Checking data in campaigns"
   ]
  },
  {
   "cell_type": "code",
   "execution_count": 1110,
   "metadata": {},
   "outputs": [
    {
     "name": "stdout",
     "output_type": "stream",
     "text": [
      "0\n",
      "campaignID;date;lettersSent;CostUnit 0\n",
      "<class 'pandas.core.frame.DataFrame'>\n",
      "Index: 367 entries, 153;13/12/2004;6 873;0 to 7536;15/12/2019;37 187;0\n",
      "Data columns (total 1 columns):\n",
      " #   Column                                Non-Null Count  Dtype \n",
      "---  ------                                --------------  ----- \n",
      " 0   campaignID;date;lettersSent;CostUnit  367 non-null    object\n",
      "dtypes: object(1)\n",
      "memory usage: 5.7+ KB\n"
     ]
    }
   ],
   "source": [
    "print(campaigns.isna().sum().sum())\n",
    "for column in campaigns.columns[0:]:\n",
    "    print(column + \" \" + str(campaigns[column].isna().sum()))\n",
    "\n",
    "campaigns.info()"
   ]
  },
  {
   "cell_type": "code",
   "execution_count": 1111,
   "metadata": {},
   "outputs": [
    {
     "data": {
      "text/html": [
       "<div>\n",
       "<style scoped>\n",
       "    .dataframe tbody tr th:only-of-type {\n",
       "        vertical-align: middle;\n",
       "    }\n",
       "\n",
       "    .dataframe tbody tr th {\n",
       "        vertical-align: top;\n",
       "    }\n",
       "\n",
       "    .dataframe thead th {\n",
       "        text-align: right;\n",
       "    }\n",
       "</style>\n",
       "<table border=\"1\" class=\"dataframe\">\n",
       "  <thead>\n",
       "    <tr style=\"text-align: right;\">\n",
       "      <th></th>\n",
       "      <th>campaignID;date;lettersSent;CostUnit</th>\n",
       "    </tr>\n",
       "  </thead>\n",
       "  <tbody>\n",
       "    <tr>\n",
       "      <th>153;13/12/2004;6 873;0</th>\n",
       "      <td>17 €</td>\n",
       "    </tr>\n",
       "    <tr>\n",
       "      <th>154;01/01/2005;7 656;0</th>\n",
       "      <td>30 €</td>\n",
       "    </tr>\n",
       "    <tr>\n",
       "      <th>180;18/01/2005;9 933;0</th>\n",
       "      <td>20 €</td>\n",
       "    </tr>\n",
       "    <tr>\n",
       "      <th>433;29/01/2005;7 448;0</th>\n",
       "      <td>59 €</td>\n",
       "    </tr>\n",
       "    <tr>\n",
       "      <th>476;12/02/2005;6 605;0</th>\n",
       "      <td>51 €</td>\n",
       "    </tr>\n",
       "  </tbody>\n",
       "</table>\n",
       "</div>"
      ],
      "text/plain": [
       "                       campaignID;date;lettersSent;CostUnit\n",
       "153;13/12/2004;6 873;0                                 17 €\n",
       "154;01/01/2005;7 656;0                                 30 €\n",
       "180;18/01/2005;9 933;0                                 20 €\n",
       "433;29/01/2005;7 448;0                                 59 €\n",
       "476;12/02/2005;6 605;0                                 51 €"
      ]
     },
     "execution_count": 1111,
     "metadata": {},
     "output_type": "execute_result"
    }
   ],
   "source": [
    "campaigns.head()"
   ]
  },
  {
   "cell_type": "markdown",
   "metadata": {},
   "source": [
    "### Cleaning data in campaigns"
   ]
  },
  {
   "cell_type": "code",
   "execution_count": 1112,
   "metadata": {},
   "outputs": [
    {
     "data": {
      "text/html": [
       "<div>\n",
       "<style scoped>\n",
       "    .dataframe tbody tr th:only-of-type {\n",
       "        vertical-align: middle;\n",
       "    }\n",
       "\n",
       "    .dataframe tbody tr th {\n",
       "        vertical-align: top;\n",
       "    }\n",
       "\n",
       "    .dataframe thead th {\n",
       "        text-align: right;\n",
       "    }\n",
       "</style>\n",
       "<table border=\"1\" class=\"dataframe\">\n",
       "  <thead>\n",
       "    <tr style=\"text-align: right;\">\n",
       "      <th></th>\n",
       "      <th>campaignID</th>\n",
       "      <th>date</th>\n",
       "      <th>lettersSent</th>\n",
       "      <th>cost</th>\n",
       "    </tr>\n",
       "  </thead>\n",
       "  <tbody>\n",
       "    <tr>\n",
       "      <th>0</th>\n",
       "      <td>153</td>\n",
       "      <td>13/12/2004</td>\n",
       "      <td>6 873</td>\n",
       "      <td>17 €</td>\n",
       "    </tr>\n",
       "    <tr>\n",
       "      <th>1</th>\n",
       "      <td>154</td>\n",
       "      <td>01/01/2005</td>\n",
       "      <td>7 656</td>\n",
       "      <td>30 €</td>\n",
       "    </tr>\n",
       "    <tr>\n",
       "      <th>2</th>\n",
       "      <td>180</td>\n",
       "      <td>18/01/2005</td>\n",
       "      <td>9 933</td>\n",
       "      <td>20 €</td>\n",
       "    </tr>\n",
       "    <tr>\n",
       "      <th>3</th>\n",
       "      <td>433</td>\n",
       "      <td>29/01/2005</td>\n",
       "      <td>7 448</td>\n",
       "      <td>59 €</td>\n",
       "    </tr>\n",
       "    <tr>\n",
       "      <th>4</th>\n",
       "      <td>476</td>\n",
       "      <td>12/02/2005</td>\n",
       "      <td>6 605</td>\n",
       "      <td>51 €</td>\n",
       "    </tr>\n",
       "  </tbody>\n",
       "</table>\n",
       "</div>"
      ],
      "text/plain": [
       "  campaignID        date lettersSent  cost\n",
       "0        153  13/12/2004       6 873  17 €\n",
       "1        154  01/01/2005       7 656  30 €\n",
       "2        180  18/01/2005       9 933  20 €\n",
       "3        433  29/01/2005       7 448  59 €\n",
       "4        476  12/02/2005       6 605  51 €"
      ]
     },
     "execution_count": 1112,
     "metadata": {},
     "output_type": "execute_result"
    }
   ],
   "source": [
    "campaigns = pd.read_csv('./data/campaigns.csv')\n",
    "campaigns.rename(columns={campaigns.columns[0]: \"Cost\" }, inplace = True)\n",
    "campaigns.index.names = ['campaignID;date;lettersSent;CostUnit']\n",
    "campaigns_reset = campaigns.reset_index()\n",
    "campaigns_split = campaigns_reset['campaignID;date;lettersSent;CostUnit'].str.split(';', expand=True)\n",
    "campaigns_split['cost'] = campaigns_reset['Cost']\n",
    "campaigns_split.rename(columns={0: \"campaignID\" }, inplace = True)\n",
    "campaigns_split.rename(columns={1: \"date\" }, inplace = True)\n",
    "campaigns_split.rename(columns={2: \"lettersSent\" }, inplace = True)\n",
    "campaigns_split.drop([3] , axis = 1, inplace=True)\n",
    "campaigns_split.head()"
   ]
  },
  {
   "cell_type": "code",
   "execution_count": 1113,
   "metadata": {},
   "outputs": [
    {
     "data": {
      "text/html": [
       "<div>\n",
       "<style scoped>\n",
       "    .dataframe tbody tr th:only-of-type {\n",
       "        vertical-align: middle;\n",
       "    }\n",
       "\n",
       "    .dataframe tbody tr th {\n",
       "        vertical-align: top;\n",
       "    }\n",
       "\n",
       "    .dataframe thead th {\n",
       "        text-align: right;\n",
       "    }\n",
       "</style>\n",
       "<table border=\"1\" class=\"dataframe\">\n",
       "  <thead>\n",
       "    <tr style=\"text-align: right;\">\n",
       "      <th></th>\n",
       "      <th>campaignID</th>\n",
       "      <th>date</th>\n",
       "      <th>lettersSent</th>\n",
       "      <th>cost</th>\n",
       "    </tr>\n",
       "  </thead>\n",
       "  <tbody>\n",
       "    <tr>\n",
       "      <th>0</th>\n",
       "      <td>153</td>\n",
       "      <td>2004-12-13</td>\n",
       "      <td>6873</td>\n",
       "      <td>17</td>\n",
       "    </tr>\n",
       "    <tr>\n",
       "      <th>1</th>\n",
       "      <td>154</td>\n",
       "      <td>2005-01-01</td>\n",
       "      <td>7656</td>\n",
       "      <td>30</td>\n",
       "    </tr>\n",
       "    <tr>\n",
       "      <th>2</th>\n",
       "      <td>180</td>\n",
       "      <td>2005-01-18</td>\n",
       "      <td>9933</td>\n",
       "      <td>20</td>\n",
       "    </tr>\n",
       "    <tr>\n",
       "      <th>3</th>\n",
       "      <td>433</td>\n",
       "      <td>2005-01-29</td>\n",
       "      <td>7448</td>\n",
       "      <td>59</td>\n",
       "    </tr>\n",
       "    <tr>\n",
       "      <th>4</th>\n",
       "      <td>476</td>\n",
       "      <td>2005-12-02</td>\n",
       "      <td>6605</td>\n",
       "      <td>51</td>\n",
       "    </tr>\n",
       "  </tbody>\n",
       "</table>\n",
       "</div>"
      ],
      "text/plain": [
       "   campaignID       date  lettersSent  cost\n",
       "0         153 2004-12-13         6873    17\n",
       "1         154 2005-01-01         7656    30\n",
       "2         180 2005-01-18         9933    20\n",
       "3         433 2005-01-29         7448    59\n",
       "4         476 2005-12-02         6605    51"
      ]
     },
     "execution_count": 1113,
     "metadata": {},
     "output_type": "execute_result"
    }
   ],
   "source": [
    "campaigns_split['campaignID'] = campaigns_split['campaignID'].astype(int)\n",
    "campaigns_split['date'] = pd.to_datetime(campaigns_split['date'])\n",
    "campaigns_split['lettersSent'] = campaigns_split['lettersSent'].str.replace(\"\\u202f\", \"\").astype(int)\n",
    "campaigns_split['cost'] = campaigns_split['cost'].str.replace(\"\\xa0€\", \"\").astype(int)\n",
    "campaigns = campaigns_split\n",
    "campaigns.head()\n"
   ]
  },
  {
   "cell_type": "code",
   "execution_count": 1114,
   "metadata": {},
   "outputs": [
    {
     "name": "stdout",
     "output_type": "stream",
     "text": [
      "<class 'pandas.core.frame.DataFrame'>\n",
      "RangeIndex: 367 entries, 0 to 366\n",
      "Data columns (total 4 columns):\n",
      " #   Column       Non-Null Count  Dtype         \n",
      "---  ------       --------------  -----         \n",
      " 0   campaignID   367 non-null    int32         \n",
      " 1   date         367 non-null    datetime64[ns]\n",
      " 2   lettersSent  367 non-null    int32         \n",
      " 3   cost         367 non-null    int32         \n",
      "dtypes: datetime64[ns](1), int32(3)\n",
      "memory usage: 7.3 KB\n"
     ]
    }
   ],
   "source": [
    "campaigns.info()"
   ]
  },
  {
   "cell_type": "markdown",
   "metadata": {},
   "source": [
    "### Creating Features"
   ]
  },
  {
   "cell_type": "code",
   "execution_count": 1115,
   "metadata": {},
   "outputs": [
    {
     "name": "stderr",
     "output_type": "stream",
     "text": [
      "C:\\tools\\Anaconda3\\lib\\site-packages\\pandas\\core\\reshape\\merge.py:648: UserWarning: merging between different levels can give an unintended result (1 levels on the left,2 on the right)\n",
      "  warnings.warn(msg, UserWarning)\n"
     ]
    },
    {
     "data": {
      "text/html": [
       "<div>\n",
       "<style scoped>\n",
       "    .dataframe tbody tr th:only-of-type {\n",
       "        vertical-align: middle;\n",
       "    }\n",
       "\n",
       "    .dataframe tbody tr th {\n",
       "        vertical-align: top;\n",
       "    }\n",
       "\n",
       "    .dataframe thead th {\n",
       "        text-align: right;\n",
       "    }\n",
       "</style>\n",
       "<table border=\"1\" class=\"dataframe\">\n",
       "  <thead>\n",
       "    <tr style=\"text-align: right;\">\n",
       "      <th></th>\n",
       "      <th>donorID</th>\n",
       "      <th>zipcode</th>\n",
       "      <th>province</th>\n",
       "      <th>region</th>\n",
       "      <th>gender</th>\n",
       "      <th>language</th>\n",
       "      <th>dateOfBirth</th>\n",
       "      <th>number_of_campaigns</th>\n",
       "      <th>total_amount</th>\n",
       "      <th>last_date</th>\n",
       "      <th>Q1_Donations</th>\n",
       "      <th>Q2_Donations</th>\n",
       "      <th>Q3_Donations</th>\n",
       "      <th>Q4_Donations</th>\n",
       "      <th>days_since_contributed</th>\n",
       "    </tr>\n",
       "  </thead>\n",
       "  <tbody>\n",
       "    <tr>\n",
       "      <th>0</th>\n",
       "      <td>100001</td>\n",
       "      <td>1861.0</td>\n",
       "      <td>Flemish Brabant</td>\n",
       "      <td>Flanders</td>\n",
       "      <td>F</td>\n",
       "      <td>NL</td>\n",
       "      <td>12/24/1967</td>\n",
       "      <td>12.0</td>\n",
       "      <td>178.49</td>\n",
       "      <td>2011-12-30</td>\n",
       "      <td>3.0</td>\n",
       "      <td>3.0</td>\n",
       "      <td>1.0</td>\n",
       "      <td>5.0</td>\n",
       "      <td>2409 days</td>\n",
       "    </tr>\n",
       "    <tr>\n",
       "      <th>1</th>\n",
       "      <td>100002</td>\n",
       "      <td>2260.0</td>\n",
       "      <td>Antwerp</td>\n",
       "      <td>Flanders</td>\n",
       "      <td>M</td>\n",
       "      <td>NL</td>\n",
       "      <td>01/14/1952</td>\n",
       "      <td>1.0</td>\n",
       "      <td>20.00</td>\n",
       "      <td>2015-01-10</td>\n",
       "      <td>1.0</td>\n",
       "      <td>NaN</td>\n",
       "      <td>NaN</td>\n",
       "      <td>NaN</td>\n",
       "      <td>1302 days</td>\n",
       "    </tr>\n",
       "    <tr>\n",
       "      <th>2</th>\n",
       "      <td>100003</td>\n",
       "      <td>1780.0</td>\n",
       "      <td>Flemish Brabant</td>\n",
       "      <td>Flanders</td>\n",
       "      <td>M</td>\n",
       "      <td>NL</td>\n",
       "      <td>12/23/1986</td>\n",
       "      <td>5.0</td>\n",
       "      <td>18.00</td>\n",
       "      <td>2018-07-08</td>\n",
       "      <td>NaN</td>\n",
       "      <td>1.0</td>\n",
       "      <td>4.0</td>\n",
       "      <td>NaN</td>\n",
       "      <td>27 days</td>\n",
       "    </tr>\n",
       "    <tr>\n",
       "      <th>3</th>\n",
       "      <td>100004</td>\n",
       "      <td>1020.0</td>\n",
       "      <td>Brussels</td>\n",
       "      <td>Brussels</td>\n",
       "      <td>F</td>\n",
       "      <td>FR</td>\n",
       "      <td>03/29/1952</td>\n",
       "      <td>26.0</td>\n",
       "      <td>716.22</td>\n",
       "      <td>2011-06-03</td>\n",
       "      <td>8.0</td>\n",
       "      <td>4.0</td>\n",
       "      <td>4.0</td>\n",
       "      <td>10.0</td>\n",
       "      <td>2619 days</td>\n",
       "    </tr>\n",
       "    <tr>\n",
       "      <th>4</th>\n",
       "      <td>100005</td>\n",
       "      <td>1020.0</td>\n",
       "      <td>Brussels</td>\n",
       "      <td>Brussels</td>\n",
       "      <td>F</td>\n",
       "      <td>FR</td>\n",
       "      <td>06/25/1986</td>\n",
       "      <td>4.0</td>\n",
       "      <td>14.96</td>\n",
       "      <td>2018-06-19</td>\n",
       "      <td>NaN</td>\n",
       "      <td>1.0</td>\n",
       "      <td>NaN</td>\n",
       "      <td>3.0</td>\n",
       "      <td>46 days</td>\n",
       "    </tr>\n",
       "  </tbody>\n",
       "</table>\n",
       "</div>"
      ],
      "text/plain": [
       "   donorID  zipcode         province    region gender language dateOfBirth  \\\n",
       "0   100001   1861.0  Flemish Brabant  Flanders      F       NL  12/24/1967   \n",
       "1   100002   2260.0          Antwerp  Flanders      M       NL  01/14/1952   \n",
       "2   100003   1780.0  Flemish Brabant  Flanders      M       NL  12/23/1986   \n",
       "3   100004   1020.0         Brussels  Brussels      F       FR  03/29/1952   \n",
       "4   100005   1020.0         Brussels  Brussels      F       FR  06/25/1986   \n",
       "\n",
       "   number_of_campaigns  total_amount  last_date  Q1_Donations  Q2_Donations  \\\n",
       "0                 12.0        178.49 2011-12-30           3.0           3.0   \n",
       "1                  1.0         20.00 2015-01-10           1.0           NaN   \n",
       "2                  5.0         18.00 2018-07-08           NaN           1.0   \n",
       "3                 26.0        716.22 2011-06-03           8.0           4.0   \n",
       "4                  4.0         14.96 2018-06-19           NaN           1.0   \n",
       "\n",
       "   Q3_Donations  Q4_Donations days_since_contributed  \n",
       "0           1.0           5.0              2409 days  \n",
       "1           NaN           NaN              1302 days  \n",
       "2           4.0           NaN                27 days  \n",
       "3           4.0          10.0              2619 days  \n",
       "4           NaN           3.0                46 days  "
      ]
     },
     "execution_count": 1115,
     "metadata": {},
     "output_type": "execute_result"
    }
   ],
   "source": [
    "#Calculating summary for donors till Aug 4th 2018\n",
    "gifts_donor_campaignID = gifts[gifts['date'] < end_date_for_ind_variable].groupby('donorID', as_index=False)['campaignID'].agg({'number_of_campaigns':'count'})\n",
    "gifts_donor_total_amount = gifts[gifts['date'] < end_date_for_ind_variable].groupby('donorID', as_index=False)['amount'].agg({'total_amount':'sum'})\n",
    "gifts_donor_last_date = gifts[gifts['date'] < end_date_for_ind_variable].groupby('donorID', as_index=False)['date'].agg({'last_date':'max'})\n",
    "gifts_donor_last_date = gifts[gifts['date'] < end_date_for_ind_variable].groupby('donorID', as_index=False)['date'].agg({'last_date':'max'})\n",
    "gifts_donor_quater_contribution = gifts[gifts['date'] < end_date_for_ind_variable].groupby(['donorID', 'Quater'], as_index=False)['date'].agg({'count'}).unstack('Quater')\n",
    "\n",
    "\n",
    "donors = donors.merge(gifts_donor_campaignID, left_on = 'donorID', right_on = 'donorID', how = 'left')\n",
    "donors = donors.merge(gifts_donor_total_amount, left_on = 'donorID', right_on = 'donorID', how = 'left')\n",
    "donors = donors.merge(gifts_donor_last_date, left_on = 'donorID', right_on = 'donorID', how = 'left')\n",
    "donors = donors.merge(gifts_donor_quater_contribution, left_on = 'donorID', right_on = 'donorID', how = 'left')\n",
    "\n",
    "donors.rename(columns={('count', 'Q1') : 'Q1_Donations', ('count', 'Q2') : 'Q2_Donations', ('count', 'Q3') : 'Q3_Donations', ('count', 'Q4') : 'Q4_Donations'}, inplace = True)\n",
    "\n",
    "donors['days_since_contributed'] = end_date_for_ind_variable - donors['last_date'] \n",
    "donors.head() "
   ]
  },
  {
   "cell_type": "code",
   "execution_count": 1116,
   "metadata": {},
   "outputs": [
    {
     "name": "stdout",
     "output_type": "stream",
     "text": [
      "<class 'pandas.core.frame.DataFrame'>\n",
      "Int64Index: 44691 entries, 0 to 44690\n",
      "Data columns (total 34 columns):\n",
      " #   Column                  Non-Null Count  Dtype          \n",
      "---  ------                  --------------  -----          \n",
      " 0   donorID                 44691 non-null  int64          \n",
      " 1   zipcode                 44691 non-null  float64        \n",
      " 2   province                44691 non-null  object         \n",
      " 3   region                  44691 non-null  object         \n",
      " 4   gender                  44691 non-null  object         \n",
      " 5   language                44691 non-null  object         \n",
      " 6   dateOfBirth             44691 non-null  object         \n",
      " 7   number_of_campaigns     44686 non-null  float64        \n",
      " 8   total_amount            44686 non-null  float64        \n",
      " 9   last_date               44686 non-null  datetime64[ns] \n",
      " 10  Q1_Donations            24165 non-null  float64        \n",
      " 11  Q2_Donations            24288 non-null  float64        \n",
      " 12  Q3_Donations            20617 non-null  float64        \n",
      " 13  Q4_Donations            22895 non-null  float64        \n",
      " 14  days_since_contributed  44686 non-null  timedelta64[ns]\n",
      " 15  mean                    44686 non-null  float64        \n",
      " 16  min                     44686 non-null  float64        \n",
      " 17  max                     44686 non-null  float64        \n",
      " 18  (sum, Q1)               24165 non-null  float64        \n",
      " 19  (sum, Q2)               24288 non-null  float64        \n",
      " 20  (sum, Q3)               20617 non-null  float64        \n",
      " 21  (sum, Q4)               22895 non-null  float64        \n",
      " 22  (mean, Q1)              24165 non-null  float64        \n",
      " 23  (mean, Q2)              24288 non-null  float64        \n",
      " 24  (mean, Q3)              20617 non-null  float64        \n",
      " 25  (mean, Q4)              22895 non-null  float64        \n",
      " 26  (min, Q1)               24165 non-null  float64        \n",
      " 27  (min, Q2)               24288 non-null  float64        \n",
      " 28  (min, Q3)               20617 non-null  float64        \n",
      " 29  (min, Q4)               22895 non-null  float64        \n",
      " 30  (max, Q1)               24165 non-null  float64        \n",
      " 31  (max, Q2)               24288 non-null  float64        \n",
      " 32  (max, Q3)               20617 non-null  float64        \n",
      " 33  (max, Q4)               22895 non-null  float64        \n",
      "dtypes: datetime64[ns](1), float64(26), int64(1), object(5), timedelta64[ns](1)\n",
      "memory usage: 11.9+ MB\n"
     ]
    },
    {
     "name": "stderr",
     "output_type": "stream",
     "text": [
      "C:\\tools\\Anaconda3\\lib\\site-packages\\pandas\\core\\reshape\\merge.py:648: UserWarning: merging between different levels can give an unintended result (1 levels on the left,2 on the right)\n",
      "  warnings.warn(msg, UserWarning)\n"
     ]
    }
   ],
   "source": [
    "#Calculating summary for donors till Aug 4th 2018\n",
    "gifts_donor_summary = gifts[gifts['date'] < end_date_for_ind_variable].groupby(['donorID'], as_index=False)['amount'].agg(['mean', 'min', 'max'])\n",
    "gifts_donor_quater_spending = gifts[gifts['date'] < end_date_for_ind_variable].groupby(['donorID', 'Quater'], as_index=False)['amount'].agg({'mean', 'min', 'max', 'sum'}).unstack('Quater')\n",
    "\n",
    "donors = donors.merge(gifts_donor_summary, left_on = 'donorID', right_on = 'donorID', how = 'left')\n",
    "donors = donors.merge(gifts_donor_quater_spending, left_on = 'donorID', right_on = 'donorID', how = 'left')\n",
    "donors.head()\n",
    "donors.info()"
   ]
  },
  {
   "cell_type": "code",
   "execution_count": 1117,
   "metadata": {},
   "outputs": [
    {
     "data": {
      "text/html": [
       "<div>\n",
       "<style scoped>\n",
       "    .dataframe tbody tr th:only-of-type {\n",
       "        vertical-align: middle;\n",
       "    }\n",
       "\n",
       "    .dataframe tbody tr th {\n",
       "        vertical-align: top;\n",
       "    }\n",
       "\n",
       "    .dataframe thead th {\n",
       "        text-align: right;\n",
       "    }\n",
       "</style>\n",
       "<table border=\"1\" class=\"dataframe\">\n",
       "  <thead>\n",
       "    <tr style=\"text-align: right;\">\n",
       "      <th></th>\n",
       "      <th>donorID</th>\n",
       "      <th>zipcode</th>\n",
       "      <th>province</th>\n",
       "      <th>region</th>\n",
       "      <th>gender</th>\n",
       "      <th>language</th>\n",
       "      <th>dateOfBirth</th>\n",
       "      <th>number_of_campaigns</th>\n",
       "      <th>total_amount</th>\n",
       "      <th>last_date</th>\n",
       "      <th>...</th>\n",
       "      <th>(mean, Q3)</th>\n",
       "      <th>(mean, Q4)</th>\n",
       "      <th>(min, Q1)</th>\n",
       "      <th>(min, Q2)</th>\n",
       "      <th>(min, Q3)</th>\n",
       "      <th>(min, Q4)</th>\n",
       "      <th>(max, Q1)</th>\n",
       "      <th>(max, Q2)</th>\n",
       "      <th>(max, Q3)</th>\n",
       "      <th>(max, Q4)</th>\n",
       "    </tr>\n",
       "  </thead>\n",
       "  <tbody>\n",
       "    <tr>\n",
       "      <th>0</th>\n",
       "      <td>100001</td>\n",
       "      <td>1861.0</td>\n",
       "      <td>Flemish Brabant</td>\n",
       "      <td>Flanders</td>\n",
       "      <td>F</td>\n",
       "      <td>NL</td>\n",
       "      <td>12/24/1967</td>\n",
       "      <td>12.0</td>\n",
       "      <td>178.49</td>\n",
       "      <td>2011-12-30 00:00:00</td>\n",
       "      <td>...</td>\n",
       "      <td>7.44</td>\n",
       "      <td>12.774</td>\n",
       "      <td>10.00</td>\n",
       "      <td>10.00</td>\n",
       "      <td>7.44</td>\n",
       "      <td>6.69</td>\n",
       "      <td>20.0</td>\n",
       "      <td>30.00</td>\n",
       "      <td>7.44</td>\n",
       "      <td>24.79</td>\n",
       "    </tr>\n",
       "    <tr>\n",
       "      <th>1</th>\n",
       "      <td>100002</td>\n",
       "      <td>2260.0</td>\n",
       "      <td>Antwerp</td>\n",
       "      <td>Flanders</td>\n",
       "      <td>M</td>\n",
       "      <td>NL</td>\n",
       "      <td>01/14/1952</td>\n",
       "      <td>1.0</td>\n",
       "      <td>20.00</td>\n",
       "      <td>2015-01-10 00:00:00</td>\n",
       "      <td>...</td>\n",
       "      <td>0.00</td>\n",
       "      <td>0.000</td>\n",
       "      <td>20.00</td>\n",
       "      <td>0.00</td>\n",
       "      <td>0.00</td>\n",
       "      <td>0.00</td>\n",
       "      <td>20.0</td>\n",
       "      <td>0.00</td>\n",
       "      <td>0.00</td>\n",
       "      <td>0.00</td>\n",
       "    </tr>\n",
       "    <tr>\n",
       "      <th>2</th>\n",
       "      <td>100003</td>\n",
       "      <td>1780.0</td>\n",
       "      <td>Flemish Brabant</td>\n",
       "      <td>Flanders</td>\n",
       "      <td>M</td>\n",
       "      <td>NL</td>\n",
       "      <td>12/23/1986</td>\n",
       "      <td>5.0</td>\n",
       "      <td>18.00</td>\n",
       "      <td>2018-07-08 00:00:00</td>\n",
       "      <td>...</td>\n",
       "      <td>3.50</td>\n",
       "      <td>0.000</td>\n",
       "      <td>0.00</td>\n",
       "      <td>4.00</td>\n",
       "      <td>3.00</td>\n",
       "      <td>0.00</td>\n",
       "      <td>0.0</td>\n",
       "      <td>4.00</td>\n",
       "      <td>5.00</td>\n",
       "      <td>0.00</td>\n",
       "    </tr>\n",
       "    <tr>\n",
       "      <th>3</th>\n",
       "      <td>100004</td>\n",
       "      <td>1020.0</td>\n",
       "      <td>Brussels</td>\n",
       "      <td>Brussels</td>\n",
       "      <td>F</td>\n",
       "      <td>FR</td>\n",
       "      <td>03/29/1952</td>\n",
       "      <td>26.0</td>\n",
       "      <td>716.22</td>\n",
       "      <td>2011-06-03 00:00:00</td>\n",
       "      <td>...</td>\n",
       "      <td>24.79</td>\n",
       "      <td>28.311</td>\n",
       "      <td>24.79</td>\n",
       "      <td>24.79</td>\n",
       "      <td>24.79</td>\n",
       "      <td>24.79</td>\n",
       "      <td>30.0</td>\n",
       "      <td>30.00</td>\n",
       "      <td>24.79</td>\n",
       "      <td>49.58</td>\n",
       "    </tr>\n",
       "    <tr>\n",
       "      <th>4</th>\n",
       "      <td>100005</td>\n",
       "      <td>1020.0</td>\n",
       "      <td>Brussels</td>\n",
       "      <td>Brussels</td>\n",
       "      <td>F</td>\n",
       "      <td>FR</td>\n",
       "      <td>06/25/1986</td>\n",
       "      <td>4.0</td>\n",
       "      <td>14.96</td>\n",
       "      <td>2018-06-19 00:00:00</td>\n",
       "      <td>...</td>\n",
       "      <td>0.00</td>\n",
       "      <td>3.320</td>\n",
       "      <td>0.00</td>\n",
       "      <td>5.00</td>\n",
       "      <td>0.00</td>\n",
       "      <td>2.48</td>\n",
       "      <td>0.0</td>\n",
       "      <td>5.00</td>\n",
       "      <td>0.00</td>\n",
       "      <td>5.00</td>\n",
       "    </tr>\n",
       "    <tr>\n",
       "      <th>...</th>\n",
       "      <td>...</td>\n",
       "      <td>...</td>\n",
       "      <td>...</td>\n",
       "      <td>...</td>\n",
       "      <td>...</td>\n",
       "      <td>...</td>\n",
       "      <td>...</td>\n",
       "      <td>...</td>\n",
       "      <td>...</td>\n",
       "      <td>...</td>\n",
       "      <td>...</td>\n",
       "      <td>...</td>\n",
       "      <td>...</td>\n",
       "      <td>...</td>\n",
       "      <td>...</td>\n",
       "      <td>...</td>\n",
       "      <td>...</td>\n",
       "      <td>...</td>\n",
       "      <td>...</td>\n",
       "      <td>...</td>\n",
       "      <td>...</td>\n",
       "    </tr>\n",
       "    <tr>\n",
       "      <th>44686</th>\n",
       "      <td>144687</td>\n",
       "      <td>4900.0</td>\n",
       "      <td>Liege</td>\n",
       "      <td>Wallonia</td>\n",
       "      <td>M</td>\n",
       "      <td>FR</td>\n",
       "      <td>09/12/1970</td>\n",
       "      <td>1.0</td>\n",
       "      <td>10.00</td>\n",
       "      <td>2015-11-06 00:00:00</td>\n",
       "      <td>...</td>\n",
       "      <td>0.00</td>\n",
       "      <td>10.000</td>\n",
       "      <td>0.00</td>\n",
       "      <td>0.00</td>\n",
       "      <td>0.00</td>\n",
       "      <td>10.00</td>\n",
       "      <td>0.0</td>\n",
       "      <td>0.00</td>\n",
       "      <td>0.00</td>\n",
       "      <td>10.00</td>\n",
       "    </tr>\n",
       "    <tr>\n",
       "      <th>44687</th>\n",
       "      <td>144688</td>\n",
       "      <td>3600.0</td>\n",
       "      <td>Limburg</td>\n",
       "      <td>Flanders</td>\n",
       "      <td>M</td>\n",
       "      <td>NL</td>\n",
       "      <td>11/28/1972</td>\n",
       "      <td>7.0</td>\n",
       "      <td>48.56</td>\n",
       "      <td>2017-07-27 00:00:00</td>\n",
       "      <td>...</td>\n",
       "      <td>15.00</td>\n",
       "      <td>6.200</td>\n",
       "      <td>5.00</td>\n",
       "      <td>2.48</td>\n",
       "      <td>15.00</td>\n",
       "      <td>6.20</td>\n",
       "      <td>5.0</td>\n",
       "      <td>7.44</td>\n",
       "      <td>15.00</td>\n",
       "      <td>6.20</td>\n",
       "    </tr>\n",
       "    <tr>\n",
       "      <th>44688</th>\n",
       "      <td>144689</td>\n",
       "      <td>3061.0</td>\n",
       "      <td>Flemish Brabant</td>\n",
       "      <td>Flanders</td>\n",
       "      <td>M</td>\n",
       "      <td>NL</td>\n",
       "      <td>04/21/1967</td>\n",
       "      <td>2.0</td>\n",
       "      <td>124.79</td>\n",
       "      <td>2018-06-25 00:00:00</td>\n",
       "      <td>...</td>\n",
       "      <td>24.79</td>\n",
       "      <td>0.000</td>\n",
       "      <td>0.00</td>\n",
       "      <td>100.00</td>\n",
       "      <td>24.79</td>\n",
       "      <td>0.00</td>\n",
       "      <td>0.0</td>\n",
       "      <td>100.00</td>\n",
       "      <td>24.79</td>\n",
       "      <td>0.00</td>\n",
       "    </tr>\n",
       "    <tr>\n",
       "      <th>44689</th>\n",
       "      <td>144690</td>\n",
       "      <td>1950.0</td>\n",
       "      <td>Flemish Brabant</td>\n",
       "      <td>Flanders</td>\n",
       "      <td>M</td>\n",
       "      <td>FR</td>\n",
       "      <td>05/07/1976</td>\n",
       "      <td>1.0</td>\n",
       "      <td>40.00</td>\n",
       "      <td>2014-12-30 00:00:00</td>\n",
       "      <td>...</td>\n",
       "      <td>0.00</td>\n",
       "      <td>40.000</td>\n",
       "      <td>0.00</td>\n",
       "      <td>0.00</td>\n",
       "      <td>0.00</td>\n",
       "      <td>40.00</td>\n",
       "      <td>0.0</td>\n",
       "      <td>0.00</td>\n",
       "      <td>0.00</td>\n",
       "      <td>40.00</td>\n",
       "    </tr>\n",
       "    <tr>\n",
       "      <th>44690</th>\n",
       "      <td>144691</td>\n",
       "      <td>1160.0</td>\n",
       "      <td>Brussels</td>\n",
       "      <td>Brussels</td>\n",
       "      <td>M</td>\n",
       "      <td>FR</td>\n",
       "      <td>06/05/1987</td>\n",
       "      <td>1.0</td>\n",
       "      <td>39.00</td>\n",
       "      <td>2015-12-03 00:00:00</td>\n",
       "      <td>...</td>\n",
       "      <td>0.00</td>\n",
       "      <td>39.000</td>\n",
       "      <td>0.00</td>\n",
       "      <td>0.00</td>\n",
       "      <td>0.00</td>\n",
       "      <td>39.00</td>\n",
       "      <td>0.0</td>\n",
       "      <td>0.00</td>\n",
       "      <td>0.00</td>\n",
       "      <td>39.00</td>\n",
       "    </tr>\n",
       "  </tbody>\n",
       "</table>\n",
       "<p>44691 rows × 34 columns</p>\n",
       "</div>"
      ],
      "text/plain": [
       "       donorID  zipcode         province    region gender language  \\\n",
       "0       100001   1861.0  Flemish Brabant  Flanders      F       NL   \n",
       "1       100002   2260.0          Antwerp  Flanders      M       NL   \n",
       "2       100003   1780.0  Flemish Brabant  Flanders      M       NL   \n",
       "3       100004   1020.0         Brussels  Brussels      F       FR   \n",
       "4       100005   1020.0         Brussels  Brussels      F       FR   \n",
       "...        ...      ...              ...       ...    ...      ...   \n",
       "44686   144687   4900.0            Liege  Wallonia      M       FR   \n",
       "44687   144688   3600.0          Limburg  Flanders      M       NL   \n",
       "44688   144689   3061.0  Flemish Brabant  Flanders      M       NL   \n",
       "44689   144690   1950.0  Flemish Brabant  Flanders      M       FR   \n",
       "44690   144691   1160.0         Brussels  Brussels      M       FR   \n",
       "\n",
       "      dateOfBirth  number_of_campaigns  total_amount            last_date  \\\n",
       "0      12/24/1967                 12.0        178.49  2011-12-30 00:00:00   \n",
       "1      01/14/1952                  1.0         20.00  2015-01-10 00:00:00   \n",
       "2      12/23/1986                  5.0         18.00  2018-07-08 00:00:00   \n",
       "3      03/29/1952                 26.0        716.22  2011-06-03 00:00:00   \n",
       "4      06/25/1986                  4.0         14.96  2018-06-19 00:00:00   \n",
       "...           ...                  ...           ...                  ...   \n",
       "44686  09/12/1970                  1.0         10.00  2015-11-06 00:00:00   \n",
       "44687  11/28/1972                  7.0         48.56  2017-07-27 00:00:00   \n",
       "44688  04/21/1967                  2.0        124.79  2018-06-25 00:00:00   \n",
       "44689  05/07/1976                  1.0         40.00  2014-12-30 00:00:00   \n",
       "44690  06/05/1987                  1.0         39.00  2015-12-03 00:00:00   \n",
       "\n",
       "       ...  (mean, Q3)  (mean, Q4)  (min, Q1)  (min, Q2)  (min, Q3)  \\\n",
       "0      ...        7.44      12.774      10.00      10.00       7.44   \n",
       "1      ...        0.00       0.000      20.00       0.00       0.00   \n",
       "2      ...        3.50       0.000       0.00       4.00       3.00   \n",
       "3      ...       24.79      28.311      24.79      24.79      24.79   \n",
       "4      ...        0.00       3.320       0.00       5.00       0.00   \n",
       "...    ...         ...         ...        ...        ...        ...   \n",
       "44686  ...        0.00      10.000       0.00       0.00       0.00   \n",
       "44687  ...       15.00       6.200       5.00       2.48      15.00   \n",
       "44688  ...       24.79       0.000       0.00     100.00      24.79   \n",
       "44689  ...        0.00      40.000       0.00       0.00       0.00   \n",
       "44690  ...        0.00      39.000       0.00       0.00       0.00   \n",
       "\n",
       "       (min, Q4)  (max, Q1)  (max, Q2)  (max, Q3)  (max, Q4)  \n",
       "0           6.69       20.0      30.00       7.44      24.79  \n",
       "1           0.00       20.0       0.00       0.00       0.00  \n",
       "2           0.00        0.0       4.00       5.00       0.00  \n",
       "3          24.79       30.0      30.00      24.79      49.58  \n",
       "4           2.48        0.0       5.00       0.00       5.00  \n",
       "...          ...        ...        ...        ...        ...  \n",
       "44686      10.00        0.0       0.00       0.00      10.00  \n",
       "44687       6.20        5.0       7.44      15.00       6.20  \n",
       "44688       0.00        0.0     100.00      24.79       0.00  \n",
       "44689      40.00        0.0       0.00       0.00      40.00  \n",
       "44690      39.00        0.0       0.00       0.00      39.00  \n",
       "\n",
       "[44691 rows x 34 columns]"
      ]
     },
     "execution_count": 1117,
     "metadata": {},
     "output_type": "execute_result"
    }
   ],
   "source": [
    "donors['days_since_contributed'] = donors['days_since_contributed'].dt.days\n",
    "donors.fillna(0)"
   ]
  },
  {
   "cell_type": "code",
   "execution_count": 1118,
   "metadata": {},
   "outputs": [
    {
     "data": {
      "text/html": [
       "<div>\n",
       "<style scoped>\n",
       "    .dataframe tbody tr th:only-of-type {\n",
       "        vertical-align: middle;\n",
       "    }\n",
       "\n",
       "    .dataframe tbody tr th {\n",
       "        vertical-align: top;\n",
       "    }\n",
       "\n",
       "    .dataframe thead th {\n",
       "        text-align: right;\n",
       "    }\n",
       "</style>\n",
       "<table border=\"1\" class=\"dataframe\">\n",
       "  <thead>\n",
       "    <tr style=\"text-align: right;\">\n",
       "      <th></th>\n",
       "      <th>donorID</th>\n",
       "      <th>zipcode</th>\n",
       "      <th>province</th>\n",
       "      <th>region</th>\n",
       "      <th>gender</th>\n",
       "      <th>language</th>\n",
       "      <th>dateOfBirth</th>\n",
       "      <th>number_of_campaigns</th>\n",
       "      <th>total_amount</th>\n",
       "      <th>last_date</th>\n",
       "      <th>...</th>\n",
       "      <th>(min, Q1)</th>\n",
       "      <th>(min, Q2)</th>\n",
       "      <th>(min, Q3)</th>\n",
       "      <th>(min, Q4)</th>\n",
       "      <th>(max, Q1)</th>\n",
       "      <th>(max, Q2)</th>\n",
       "      <th>(max, Q3)</th>\n",
       "      <th>(max, Q4)</th>\n",
       "      <th>age</th>\n",
       "      <th>age-group</th>\n",
       "    </tr>\n",
       "  </thead>\n",
       "  <tbody>\n",
       "    <tr>\n",
       "      <th>0</th>\n",
       "      <td>100001</td>\n",
       "      <td>1861.0</td>\n",
       "      <td>Flemish Brabant</td>\n",
       "      <td>Flanders</td>\n",
       "      <td>F</td>\n",
       "      <td>NL</td>\n",
       "      <td>12/24/1967</td>\n",
       "      <td>12.0</td>\n",
       "      <td>178.49</td>\n",
       "      <td>2011-12-30</td>\n",
       "      <td>...</td>\n",
       "      <td>10.00</td>\n",
       "      <td>10.00</td>\n",
       "      <td>7.44</td>\n",
       "      <td>6.69</td>\n",
       "      <td>20.0</td>\n",
       "      <td>30.0</td>\n",
       "      <td>7.44</td>\n",
       "      <td>24.79</td>\n",
       "      <td>51</td>\n",
       "      <td>50</td>\n",
       "    </tr>\n",
       "    <tr>\n",
       "      <th>1</th>\n",
       "      <td>100002</td>\n",
       "      <td>2260.0</td>\n",
       "      <td>Antwerp</td>\n",
       "      <td>Flanders</td>\n",
       "      <td>M</td>\n",
       "      <td>NL</td>\n",
       "      <td>01/14/1952</td>\n",
       "      <td>1.0</td>\n",
       "      <td>20.00</td>\n",
       "      <td>2015-01-10</td>\n",
       "      <td>...</td>\n",
       "      <td>20.00</td>\n",
       "      <td>NaN</td>\n",
       "      <td>NaN</td>\n",
       "      <td>NaN</td>\n",
       "      <td>20.0</td>\n",
       "      <td>NaN</td>\n",
       "      <td>NaN</td>\n",
       "      <td>NaN</td>\n",
       "      <td>66</td>\n",
       "      <td>60</td>\n",
       "    </tr>\n",
       "    <tr>\n",
       "      <th>2</th>\n",
       "      <td>100003</td>\n",
       "      <td>1780.0</td>\n",
       "      <td>Flemish Brabant</td>\n",
       "      <td>Flanders</td>\n",
       "      <td>M</td>\n",
       "      <td>NL</td>\n",
       "      <td>12/23/1986</td>\n",
       "      <td>5.0</td>\n",
       "      <td>18.00</td>\n",
       "      <td>2018-07-08</td>\n",
       "      <td>...</td>\n",
       "      <td>NaN</td>\n",
       "      <td>4.00</td>\n",
       "      <td>3.00</td>\n",
       "      <td>NaN</td>\n",
       "      <td>NaN</td>\n",
       "      <td>4.0</td>\n",
       "      <td>5.00</td>\n",
       "      <td>NaN</td>\n",
       "      <td>32</td>\n",
       "      <td>30</td>\n",
       "    </tr>\n",
       "    <tr>\n",
       "      <th>3</th>\n",
       "      <td>100004</td>\n",
       "      <td>1020.0</td>\n",
       "      <td>Brussels</td>\n",
       "      <td>Brussels</td>\n",
       "      <td>F</td>\n",
       "      <td>FR</td>\n",
       "      <td>03/29/1952</td>\n",
       "      <td>26.0</td>\n",
       "      <td>716.22</td>\n",
       "      <td>2011-06-03</td>\n",
       "      <td>...</td>\n",
       "      <td>24.79</td>\n",
       "      <td>24.79</td>\n",
       "      <td>24.79</td>\n",
       "      <td>24.79</td>\n",
       "      <td>30.0</td>\n",
       "      <td>30.0</td>\n",
       "      <td>24.79</td>\n",
       "      <td>49.58</td>\n",
       "      <td>66</td>\n",
       "      <td>60</td>\n",
       "    </tr>\n",
       "    <tr>\n",
       "      <th>4</th>\n",
       "      <td>100005</td>\n",
       "      <td>1020.0</td>\n",
       "      <td>Brussels</td>\n",
       "      <td>Brussels</td>\n",
       "      <td>F</td>\n",
       "      <td>FR</td>\n",
       "      <td>06/25/1986</td>\n",
       "      <td>4.0</td>\n",
       "      <td>14.96</td>\n",
       "      <td>2018-06-19</td>\n",
       "      <td>...</td>\n",
       "      <td>NaN</td>\n",
       "      <td>5.00</td>\n",
       "      <td>NaN</td>\n",
       "      <td>2.48</td>\n",
       "      <td>NaN</td>\n",
       "      <td>5.0</td>\n",
       "      <td>NaN</td>\n",
       "      <td>5.00</td>\n",
       "      <td>32</td>\n",
       "      <td>30</td>\n",
       "    </tr>\n",
       "  </tbody>\n",
       "</table>\n",
       "<p>5 rows × 36 columns</p>\n",
       "</div>"
      ],
      "text/plain": [
       "   donorID  zipcode         province    region gender language dateOfBirth  \\\n",
       "0   100001   1861.0  Flemish Brabant  Flanders      F       NL  12/24/1967   \n",
       "1   100002   2260.0          Antwerp  Flanders      M       NL  01/14/1952   \n",
       "2   100003   1780.0  Flemish Brabant  Flanders      M       NL  12/23/1986   \n",
       "3   100004   1020.0         Brussels  Brussels      F       FR  03/29/1952   \n",
       "4   100005   1020.0         Brussels  Brussels      F       FR  06/25/1986   \n",
       "\n",
       "   number_of_campaigns  total_amount  last_date  ...  (min, Q1)  (min, Q2)  \\\n",
       "0                 12.0        178.49 2011-12-30  ...      10.00      10.00   \n",
       "1                  1.0         20.00 2015-01-10  ...      20.00        NaN   \n",
       "2                  5.0         18.00 2018-07-08  ...        NaN       4.00   \n",
       "3                 26.0        716.22 2011-06-03  ...      24.79      24.79   \n",
       "4                  4.0         14.96 2018-06-19  ...        NaN       5.00   \n",
       "\n",
       "   (min, Q3)  (min, Q4)  (max, Q1)  (max, Q2)  (max, Q3)  (max, Q4)  age  \\\n",
       "0       7.44       6.69       20.0       30.0       7.44      24.79   51   \n",
       "1        NaN        NaN       20.0        NaN        NaN        NaN   66   \n",
       "2       3.00        NaN        NaN        4.0       5.00        NaN   32   \n",
       "3      24.79      24.79       30.0       30.0      24.79      49.58   66   \n",
       "4        NaN       2.48        NaN        5.0        NaN       5.00   32   \n",
       "\n",
       "   age-group  \n",
       "0         50  \n",
       "1         60  \n",
       "2         30  \n",
       "3         60  \n",
       "4         30  \n",
       "\n",
       "[5 rows x 36 columns]"
      ]
     },
     "execution_count": 1118,
     "metadata": {},
     "output_type": "execute_result"
    }
   ],
   "source": [
    "#Calculating age for donors till Aug 4th 2018\n",
    "donors.loc[:,'age'] = donors['dateOfBirth'].apply(lambda x : end_date_for_ind_variable.year - pd.to_datetime(x).year)\n",
    "donors.loc[:,'age-group'] = donors['age'] // 10 * 10\n",
    "donors.head()"
   ]
  },
  {
   "cell_type": "code",
   "execution_count": 1119,
   "metadata": {},
   "outputs": [
    {
     "data": {
      "text/html": [
       "<div>\n",
       "<style scoped>\n",
       "    .dataframe tbody tr th:only-of-type {\n",
       "        vertical-align: middle;\n",
       "    }\n",
       "\n",
       "    .dataframe tbody tr th {\n",
       "        vertical-align: top;\n",
       "    }\n",
       "\n",
       "    .dataframe thead th {\n",
       "        text-align: right;\n",
       "    }\n",
       "</style>\n",
       "<table border=\"1\" class=\"dataframe\">\n",
       "  <thead>\n",
       "    <tr style=\"text-align: right;\">\n",
       "      <th></th>\n",
       "      <th>giftID</th>\n",
       "      <th>donorID</th>\n",
       "      <th>campaignID</th>\n",
       "      <th>amount</th>\n",
       "      <th>date</th>\n",
       "      <th>Quater</th>\n",
       "    </tr>\n",
       "  </thead>\n",
       "  <tbody>\n",
       "    <tr>\n",
       "      <th>0</th>\n",
       "      <td>0</td>\n",
       "      <td>100001</td>\n",
       "      <td>0</td>\n",
       "      <td>12.39</td>\n",
       "      <td>2004-03-23</td>\n",
       "      <td>Q1</td>\n",
       "    </tr>\n",
       "    <tr>\n",
       "      <th>1</th>\n",
       "      <td>1</td>\n",
       "      <td>100001</td>\n",
       "      <td>1577</td>\n",
       "      <td>12.39</td>\n",
       "      <td>2007-10-11</td>\n",
       "      <td>Q4</td>\n",
       "    </tr>\n",
       "    <tr>\n",
       "      <th>2</th>\n",
       "      <td>2</td>\n",
       "      <td>100001</td>\n",
       "      <td>1634</td>\n",
       "      <td>6.69</td>\n",
       "      <td>2007-12-28</td>\n",
       "      <td>Q4</td>\n",
       "    </tr>\n",
       "    <tr>\n",
       "      <th>3</th>\n",
       "      <td>3</td>\n",
       "      <td>100001</td>\n",
       "      <td>1778</td>\n",
       "      <td>24.79</td>\n",
       "      <td>2008-06-14</td>\n",
       "      <td>Q2</td>\n",
       "    </tr>\n",
       "    <tr>\n",
       "      <th>4</th>\n",
       "      <td>4</td>\n",
       "      <td>100001</td>\n",
       "      <td>1808</td>\n",
       "      <td>7.44</td>\n",
       "      <td>2008-07-09</td>\n",
       "      <td>Q3</td>\n",
       "    </tr>\n",
       "  </tbody>\n",
       "</table>\n",
       "</div>"
      ],
      "text/plain": [
       "   giftID  donorID  campaignID  amount       date Quater\n",
       "0       0   100001           0   12.39 2004-03-23     Q1\n",
       "1       1   100001        1577   12.39 2007-10-11     Q4\n",
       "2       2   100001        1634    6.69 2007-12-28     Q4\n",
       "3       3   100001        1778   24.79 2008-06-14     Q2\n",
       "4       4   100001        1808    7.44 2008-07-09     Q3"
      ]
     },
     "execution_count": 1119,
     "metadata": {},
     "output_type": "execute_result"
    }
   ],
   "source": [
    "gifts.head()"
   ]
  },
  {
   "cell_type": "code",
   "execution_count": 1120,
   "metadata": {},
   "outputs": [
    {
     "data": {
      "text/plain": [
       "donorID    34888\n",
       "dtype: int64"
      ]
     },
     "execution_count": 1120,
     "metadata": {},
     "output_type": "execute_result"
    }
   ],
   "source": [
    "campaigns_campaign_id.nunique()"
   ]
  },
  {
   "cell_type": "code",
   "execution_count": 1121,
   "metadata": {},
   "outputs": [
    {
     "name": "stdout",
     "output_type": "stream",
     "text": [
      "<class 'pandas.core.frame.DataFrame'>\n",
      "Int64Index: 34874 entries, 0 to 34873\n",
      "Data columns (total 36 columns):\n",
      " #   Column                  Non-Null Count  Dtype         \n",
      "---  ------                  --------------  -----         \n",
      " 0   donorID                 34874 non-null  int64         \n",
      " 1   zipcode                 34874 non-null  float64       \n",
      " 2   province                34874 non-null  object        \n",
      " 3   region                  34874 non-null  object        \n",
      " 4   gender                  34874 non-null  object        \n",
      " 5   language                34874 non-null  object        \n",
      " 6   dateOfBirth             34874 non-null  object        \n",
      " 7   number_of_campaigns     34869 non-null  float64       \n",
      " 8   total_amount            34869 non-null  float64       \n",
      " 9   last_date               34869 non-null  datetime64[ns]\n",
      " 10  Q1_Donations            18769 non-null  float64       \n",
      " 11  Q2_Donations            18686 non-null  float64       \n",
      " 12  Q3_Donations            13955 non-null  float64       \n",
      " 13  Q4_Donations            17576 non-null  float64       \n",
      " 14  days_since_contributed  34869 non-null  float64       \n",
      " 15  mean                    34869 non-null  float64       \n",
      " 16  min                     34869 non-null  float64       \n",
      " 17  max                     34869 non-null  float64       \n",
      " 18  (sum, Q1)               18769 non-null  float64       \n",
      " 19  (sum, Q2)               18686 non-null  float64       \n",
      " 20  (sum, Q3)               13955 non-null  float64       \n",
      " 21  (sum, Q4)               17576 non-null  float64       \n",
      " 22  (mean, Q1)              18769 non-null  float64       \n",
      " 23  (mean, Q2)              18686 non-null  float64       \n",
      " 24  (mean, Q3)              13955 non-null  float64       \n",
      " 25  (mean, Q4)              17576 non-null  float64       \n",
      " 26  (min, Q1)               18769 non-null  float64       \n",
      " 27  (min, Q2)               18686 non-null  float64       \n",
      " 28  (min, Q3)               13955 non-null  float64       \n",
      " 29  (min, Q4)               17576 non-null  float64       \n",
      " 30  (max, Q1)               18769 non-null  float64       \n",
      " 31  (max, Q2)               18686 non-null  float64       \n",
      " 32  (max, Q3)               13955 non-null  float64       \n",
      " 33  (max, Q4)               17576 non-null  float64       \n",
      " 34  age                     34874 non-null  int64         \n",
      " 35  age-group               34874 non-null  int64         \n",
      "dtypes: datetime64[ns](1), float64(27), int64(3), object(5)\n",
      "memory usage: 9.8+ MB\n"
     ]
    }
   ],
   "source": [
    "selected_donors = donors.merge(campaigns_campaign_id, left_on='donorID', right_on='donorID', how = 'inner')\n",
    "selected_donors.head()\n",
    "selected_donors.info()"
   ]
  },
  {
   "cell_type": "code",
   "execution_count": 1122,
   "metadata": {},
   "outputs": [
    {
     "data": {
      "text/html": [
       "<div>\n",
       "<style scoped>\n",
       "    .dataframe tbody tr th:only-of-type {\n",
       "        vertical-align: middle;\n",
       "    }\n",
       "\n",
       "    .dataframe tbody tr th {\n",
       "        vertical-align: top;\n",
       "    }\n",
       "\n",
       "    .dataframe thead th {\n",
       "        text-align: right;\n",
       "    }\n",
       "</style>\n",
       "<table border=\"1\" class=\"dataframe\">\n",
       "  <thead>\n",
       "    <tr style=\"text-align: right;\">\n",
       "      <th></th>\n",
       "      <th>donorID</th>\n",
       "      <th>zipcode</th>\n",
       "      <th>province</th>\n",
       "      <th>region</th>\n",
       "      <th>gender</th>\n",
       "      <th>language</th>\n",
       "      <th>dateOfBirth</th>\n",
       "      <th>number_of_campaigns</th>\n",
       "      <th>total_amount</th>\n",
       "      <th>last_date</th>\n",
       "      <th>...</th>\n",
       "      <th>(min, Q1)</th>\n",
       "      <th>(min, Q2)</th>\n",
       "      <th>(min, Q3)</th>\n",
       "      <th>(min, Q4)</th>\n",
       "      <th>(max, Q1)</th>\n",
       "      <th>(max, Q2)</th>\n",
       "      <th>(max, Q3)</th>\n",
       "      <th>(max, Q4)</th>\n",
       "      <th>age</th>\n",
       "      <th>age-group</th>\n",
       "    </tr>\n",
       "  </thead>\n",
       "  <tbody>\n",
       "    <tr>\n",
       "      <th>0</th>\n",
       "      <td>100001</td>\n",
       "      <td>1861.0</td>\n",
       "      <td>Flemish Brabant</td>\n",
       "      <td>Flanders</td>\n",
       "      <td>F</td>\n",
       "      <td>NL</td>\n",
       "      <td>12/24/1967</td>\n",
       "      <td>12.0</td>\n",
       "      <td>178.49</td>\n",
       "      <td>2011-12-30</td>\n",
       "      <td>...</td>\n",
       "      <td>10.00</td>\n",
       "      <td>10.00</td>\n",
       "      <td>7.44</td>\n",
       "      <td>6.69</td>\n",
       "      <td>20.0</td>\n",
       "      <td>30.00</td>\n",
       "      <td>7.44</td>\n",
       "      <td>24.79</td>\n",
       "      <td>51</td>\n",
       "      <td>50</td>\n",
       "    </tr>\n",
       "    <tr>\n",
       "      <th>1</th>\n",
       "      <td>100002</td>\n",
       "      <td>2260.0</td>\n",
       "      <td>Antwerp</td>\n",
       "      <td>Flanders</td>\n",
       "      <td>M</td>\n",
       "      <td>NL</td>\n",
       "      <td>01/14/1952</td>\n",
       "      <td>1.0</td>\n",
       "      <td>20.00</td>\n",
       "      <td>2015-01-10</td>\n",
       "      <td>...</td>\n",
       "      <td>20.00</td>\n",
       "      <td>NaN</td>\n",
       "      <td>NaN</td>\n",
       "      <td>NaN</td>\n",
       "      <td>20.0</td>\n",
       "      <td>NaN</td>\n",
       "      <td>NaN</td>\n",
       "      <td>NaN</td>\n",
       "      <td>66</td>\n",
       "      <td>60</td>\n",
       "    </tr>\n",
       "    <tr>\n",
       "      <th>2</th>\n",
       "      <td>100003</td>\n",
       "      <td>1780.0</td>\n",
       "      <td>Flemish Brabant</td>\n",
       "      <td>Flanders</td>\n",
       "      <td>M</td>\n",
       "      <td>NL</td>\n",
       "      <td>12/23/1986</td>\n",
       "      <td>5.0</td>\n",
       "      <td>18.00</td>\n",
       "      <td>2018-07-08</td>\n",
       "      <td>...</td>\n",
       "      <td>NaN</td>\n",
       "      <td>4.00</td>\n",
       "      <td>3.00</td>\n",
       "      <td>NaN</td>\n",
       "      <td>NaN</td>\n",
       "      <td>4.00</td>\n",
       "      <td>5.00</td>\n",
       "      <td>NaN</td>\n",
       "      <td>32</td>\n",
       "      <td>30</td>\n",
       "    </tr>\n",
       "    <tr>\n",
       "      <th>3</th>\n",
       "      <td>100004</td>\n",
       "      <td>1020.0</td>\n",
       "      <td>Brussels</td>\n",
       "      <td>Brussels</td>\n",
       "      <td>F</td>\n",
       "      <td>FR</td>\n",
       "      <td>03/29/1952</td>\n",
       "      <td>26.0</td>\n",
       "      <td>716.22</td>\n",
       "      <td>2011-06-03</td>\n",
       "      <td>...</td>\n",
       "      <td>24.79</td>\n",
       "      <td>24.79</td>\n",
       "      <td>24.79</td>\n",
       "      <td>24.79</td>\n",
       "      <td>30.0</td>\n",
       "      <td>30.00</td>\n",
       "      <td>24.79</td>\n",
       "      <td>49.58</td>\n",
       "      <td>66</td>\n",
       "      <td>60</td>\n",
       "    </tr>\n",
       "    <tr>\n",
       "      <th>4</th>\n",
       "      <td>100005</td>\n",
       "      <td>1020.0</td>\n",
       "      <td>Brussels</td>\n",
       "      <td>Brussels</td>\n",
       "      <td>F</td>\n",
       "      <td>FR</td>\n",
       "      <td>06/25/1986</td>\n",
       "      <td>4.0</td>\n",
       "      <td>14.96</td>\n",
       "      <td>2018-06-19</td>\n",
       "      <td>...</td>\n",
       "      <td>NaN</td>\n",
       "      <td>5.00</td>\n",
       "      <td>NaN</td>\n",
       "      <td>2.48</td>\n",
       "      <td>NaN</td>\n",
       "      <td>5.00</td>\n",
       "      <td>NaN</td>\n",
       "      <td>5.00</td>\n",
       "      <td>32</td>\n",
       "      <td>30</td>\n",
       "    </tr>\n",
       "    <tr>\n",
       "      <th>...</th>\n",
       "      <td>...</td>\n",
       "      <td>...</td>\n",
       "      <td>...</td>\n",
       "      <td>...</td>\n",
       "      <td>...</td>\n",
       "      <td>...</td>\n",
       "      <td>...</td>\n",
       "      <td>...</td>\n",
       "      <td>...</td>\n",
       "      <td>...</td>\n",
       "      <td>...</td>\n",
       "      <td>...</td>\n",
       "      <td>...</td>\n",
       "      <td>...</td>\n",
       "      <td>...</td>\n",
       "      <td>...</td>\n",
       "      <td>...</td>\n",
       "      <td>...</td>\n",
       "      <td>...</td>\n",
       "      <td>...</td>\n",
       "      <td>...</td>\n",
       "    </tr>\n",
       "    <tr>\n",
       "      <th>44686</th>\n",
       "      <td>144687</td>\n",
       "      <td>4900.0</td>\n",
       "      <td>Liege</td>\n",
       "      <td>Wallonia</td>\n",
       "      <td>M</td>\n",
       "      <td>FR</td>\n",
       "      <td>09/12/1970</td>\n",
       "      <td>1.0</td>\n",
       "      <td>10.00</td>\n",
       "      <td>2015-11-06</td>\n",
       "      <td>...</td>\n",
       "      <td>NaN</td>\n",
       "      <td>NaN</td>\n",
       "      <td>NaN</td>\n",
       "      <td>10.00</td>\n",
       "      <td>NaN</td>\n",
       "      <td>NaN</td>\n",
       "      <td>NaN</td>\n",
       "      <td>10.00</td>\n",
       "      <td>48</td>\n",
       "      <td>40</td>\n",
       "    </tr>\n",
       "    <tr>\n",
       "      <th>44687</th>\n",
       "      <td>144688</td>\n",
       "      <td>3600.0</td>\n",
       "      <td>Limburg</td>\n",
       "      <td>Flanders</td>\n",
       "      <td>M</td>\n",
       "      <td>NL</td>\n",
       "      <td>11/28/1972</td>\n",
       "      <td>7.0</td>\n",
       "      <td>48.56</td>\n",
       "      <td>2017-07-27</td>\n",
       "      <td>...</td>\n",
       "      <td>5.00</td>\n",
       "      <td>2.48</td>\n",
       "      <td>15.00</td>\n",
       "      <td>6.20</td>\n",
       "      <td>5.0</td>\n",
       "      <td>7.44</td>\n",
       "      <td>15.00</td>\n",
       "      <td>6.20</td>\n",
       "      <td>46</td>\n",
       "      <td>40</td>\n",
       "    </tr>\n",
       "    <tr>\n",
       "      <th>44688</th>\n",
       "      <td>144689</td>\n",
       "      <td>3061.0</td>\n",
       "      <td>Flemish Brabant</td>\n",
       "      <td>Flanders</td>\n",
       "      <td>M</td>\n",
       "      <td>NL</td>\n",
       "      <td>04/21/1967</td>\n",
       "      <td>2.0</td>\n",
       "      <td>124.79</td>\n",
       "      <td>2018-06-25</td>\n",
       "      <td>...</td>\n",
       "      <td>NaN</td>\n",
       "      <td>100.00</td>\n",
       "      <td>24.79</td>\n",
       "      <td>NaN</td>\n",
       "      <td>NaN</td>\n",
       "      <td>100.00</td>\n",
       "      <td>24.79</td>\n",
       "      <td>NaN</td>\n",
       "      <td>51</td>\n",
       "      <td>50</td>\n",
       "    </tr>\n",
       "    <tr>\n",
       "      <th>44689</th>\n",
       "      <td>144690</td>\n",
       "      <td>1950.0</td>\n",
       "      <td>Flemish Brabant</td>\n",
       "      <td>Flanders</td>\n",
       "      <td>M</td>\n",
       "      <td>FR</td>\n",
       "      <td>05/07/1976</td>\n",
       "      <td>1.0</td>\n",
       "      <td>40.00</td>\n",
       "      <td>2014-12-30</td>\n",
       "      <td>...</td>\n",
       "      <td>NaN</td>\n",
       "      <td>NaN</td>\n",
       "      <td>NaN</td>\n",
       "      <td>40.00</td>\n",
       "      <td>NaN</td>\n",
       "      <td>NaN</td>\n",
       "      <td>NaN</td>\n",
       "      <td>40.00</td>\n",
       "      <td>42</td>\n",
       "      <td>40</td>\n",
       "    </tr>\n",
       "    <tr>\n",
       "      <th>44690</th>\n",
       "      <td>144691</td>\n",
       "      <td>1160.0</td>\n",
       "      <td>Brussels</td>\n",
       "      <td>Brussels</td>\n",
       "      <td>M</td>\n",
       "      <td>FR</td>\n",
       "      <td>06/05/1987</td>\n",
       "      <td>1.0</td>\n",
       "      <td>39.00</td>\n",
       "      <td>2015-12-03</td>\n",
       "      <td>...</td>\n",
       "      <td>NaN</td>\n",
       "      <td>NaN</td>\n",
       "      <td>NaN</td>\n",
       "      <td>39.00</td>\n",
       "      <td>NaN</td>\n",
       "      <td>NaN</td>\n",
       "      <td>NaN</td>\n",
       "      <td>39.00</td>\n",
       "      <td>31</td>\n",
       "      <td>30</td>\n",
       "    </tr>\n",
       "  </tbody>\n",
       "</table>\n",
       "<p>44691 rows × 36 columns</p>\n",
       "</div>"
      ],
      "text/plain": [
       "       donorID  zipcode         province    region gender language  \\\n",
       "0       100001   1861.0  Flemish Brabant  Flanders      F       NL   \n",
       "1       100002   2260.0          Antwerp  Flanders      M       NL   \n",
       "2       100003   1780.0  Flemish Brabant  Flanders      M       NL   \n",
       "3       100004   1020.0         Brussels  Brussels      F       FR   \n",
       "4       100005   1020.0         Brussels  Brussels      F       FR   \n",
       "...        ...      ...              ...       ...    ...      ...   \n",
       "44686   144687   4900.0            Liege  Wallonia      M       FR   \n",
       "44687   144688   3600.0          Limburg  Flanders      M       NL   \n",
       "44688   144689   3061.0  Flemish Brabant  Flanders      M       NL   \n",
       "44689   144690   1950.0  Flemish Brabant  Flanders      M       FR   \n",
       "44690   144691   1160.0         Brussels  Brussels      M       FR   \n",
       "\n",
       "      dateOfBirth  number_of_campaigns  total_amount  last_date  ...  \\\n",
       "0      12/24/1967                 12.0        178.49 2011-12-30  ...   \n",
       "1      01/14/1952                  1.0         20.00 2015-01-10  ...   \n",
       "2      12/23/1986                  5.0         18.00 2018-07-08  ...   \n",
       "3      03/29/1952                 26.0        716.22 2011-06-03  ...   \n",
       "4      06/25/1986                  4.0         14.96 2018-06-19  ...   \n",
       "...           ...                  ...           ...        ...  ...   \n",
       "44686  09/12/1970                  1.0         10.00 2015-11-06  ...   \n",
       "44687  11/28/1972                  7.0         48.56 2017-07-27  ...   \n",
       "44688  04/21/1967                  2.0        124.79 2018-06-25  ...   \n",
       "44689  05/07/1976                  1.0         40.00 2014-12-30  ...   \n",
       "44690  06/05/1987                  1.0         39.00 2015-12-03  ...   \n",
       "\n",
       "       (min, Q1)  (min, Q2)  (min, Q3)  (min, Q4)  (max, Q1)  (max, Q2)  \\\n",
       "0          10.00      10.00       7.44       6.69       20.0      30.00   \n",
       "1          20.00        NaN        NaN        NaN       20.0        NaN   \n",
       "2            NaN       4.00       3.00        NaN        NaN       4.00   \n",
       "3          24.79      24.79      24.79      24.79       30.0      30.00   \n",
       "4            NaN       5.00        NaN       2.48        NaN       5.00   \n",
       "...          ...        ...        ...        ...        ...        ...   \n",
       "44686        NaN        NaN        NaN      10.00        NaN        NaN   \n",
       "44687       5.00       2.48      15.00       6.20        5.0       7.44   \n",
       "44688        NaN     100.00      24.79        NaN        NaN     100.00   \n",
       "44689        NaN        NaN        NaN      40.00        NaN        NaN   \n",
       "44690        NaN        NaN        NaN      39.00        NaN        NaN   \n",
       "\n",
       "       (max, Q3)  (max, Q4)  age  age-group  \n",
       "0           7.44      24.79   51         50  \n",
       "1            NaN        NaN   66         60  \n",
       "2           5.00        NaN   32         30  \n",
       "3          24.79      49.58   66         60  \n",
       "4            NaN       5.00   32         30  \n",
       "...          ...        ...  ...        ...  \n",
       "44686        NaN      10.00   48         40  \n",
       "44687      15.00       6.20   46         40  \n",
       "44688      24.79        NaN   51         50  \n",
       "44689        NaN      40.00   42         40  \n",
       "44690        NaN      39.00   31         30  \n",
       "\n",
       "[44691 rows x 36 columns]"
      ]
     },
     "execution_count": 1122,
     "metadata": {},
     "output_type": "execute_result"
    }
   ],
   "source": [
    "donors "
   ]
  },
  {
   "cell_type": "code",
   "execution_count": 1123,
   "metadata": {},
   "outputs": [],
   "source": [
    "# Checking for mutiple donations for campaign campaign_id\n",
    "gifts1 = gifts[gifts['campaignID'] == campaign_id]\n",
    "agg_gifts = gifts1.groupby(['donorID'])['date'].agg(['count']).sort_values(by = 'count', ascending =False)\n"
   ]
  },
  {
   "cell_type": "code",
   "execution_count": 1124,
   "metadata": {},
   "outputs": [],
   "source": [
    "selected_donors = selected_donors.merge(gifts1, left_on='donorID', right_on='donorID', how = 'left')\n",
    "# If Contribution made after May 18 "
   ]
  },
  {
   "cell_type": "code",
   "execution_count": 1125,
   "metadata": {},
   "outputs": [
    {
     "data": {
      "text/html": [
       "<div>\n",
       "<style scoped>\n",
       "    .dataframe tbody tr th:only-of-type {\n",
       "        vertical-align: middle;\n",
       "    }\n",
       "\n",
       "    .dataframe tbody tr th {\n",
       "        vertical-align: top;\n",
       "    }\n",
       "\n",
       "    .dataframe thead th {\n",
       "        text-align: right;\n",
       "    }\n",
       "</style>\n",
       "<table border=\"1\" class=\"dataframe\">\n",
       "  <thead>\n",
       "    <tr style=\"text-align: right;\">\n",
       "      <th></th>\n",
       "      <th>donorID</th>\n",
       "      <th>zipcode</th>\n",
       "      <th>province</th>\n",
       "      <th>region</th>\n",
       "      <th>gender</th>\n",
       "      <th>language</th>\n",
       "      <th>dateOfBirth</th>\n",
       "      <th>number_of_campaigns</th>\n",
       "      <th>total_amount</th>\n",
       "      <th>last_date</th>\n",
       "      <th>...</th>\n",
       "      <th>(max, Q3)</th>\n",
       "      <th>(max, Q4)</th>\n",
       "      <th>age</th>\n",
       "      <th>age-group</th>\n",
       "      <th>giftID</th>\n",
       "      <th>campaignID</th>\n",
       "      <th>amount</th>\n",
       "      <th>date</th>\n",
       "      <th>Quater</th>\n",
       "      <th>has_contributed</th>\n",
       "    </tr>\n",
       "  </thead>\n",
       "  <tbody>\n",
       "    <tr>\n",
       "      <th>0</th>\n",
       "      <td>100001</td>\n",
       "      <td>1861.0</td>\n",
       "      <td>Flemish Brabant</td>\n",
       "      <td>Flanders</td>\n",
       "      <td>F</td>\n",
       "      <td>NL</td>\n",
       "      <td>12/24/1967</td>\n",
       "      <td>12.0</td>\n",
       "      <td>178.49</td>\n",
       "      <td>2011-12-30</td>\n",
       "      <td>...</td>\n",
       "      <td>7.44</td>\n",
       "      <td>24.79</td>\n",
       "      <td>51</td>\n",
       "      <td>50</td>\n",
       "      <td>NaN</td>\n",
       "      <td>NaN</td>\n",
       "      <td>NaN</td>\n",
       "      <td>NaT</td>\n",
       "      <td>NaN</td>\n",
       "      <td>0</td>\n",
       "    </tr>\n",
       "    <tr>\n",
       "      <th>1</th>\n",
       "      <td>100002</td>\n",
       "      <td>2260.0</td>\n",
       "      <td>Antwerp</td>\n",
       "      <td>Flanders</td>\n",
       "      <td>M</td>\n",
       "      <td>NL</td>\n",
       "      <td>01/14/1952</td>\n",
       "      <td>1.0</td>\n",
       "      <td>20.00</td>\n",
       "      <td>2015-01-10</td>\n",
       "      <td>...</td>\n",
       "      <td>NaN</td>\n",
       "      <td>NaN</td>\n",
       "      <td>66</td>\n",
       "      <td>60</td>\n",
       "      <td>NaN</td>\n",
       "      <td>NaN</td>\n",
       "      <td>NaN</td>\n",
       "      <td>NaT</td>\n",
       "      <td>NaN</td>\n",
       "      <td>0</td>\n",
       "    </tr>\n",
       "    <tr>\n",
       "      <th>2</th>\n",
       "      <td>100004</td>\n",
       "      <td>1020.0</td>\n",
       "      <td>Brussels</td>\n",
       "      <td>Brussels</td>\n",
       "      <td>F</td>\n",
       "      <td>FR</td>\n",
       "      <td>03/29/1952</td>\n",
       "      <td>26.0</td>\n",
       "      <td>716.22</td>\n",
       "      <td>2011-06-03</td>\n",
       "      <td>...</td>\n",
       "      <td>24.79</td>\n",
       "      <td>49.58</td>\n",
       "      <td>66</td>\n",
       "      <td>60</td>\n",
       "      <td>NaN</td>\n",
       "      <td>NaN</td>\n",
       "      <td>NaN</td>\n",
       "      <td>NaT</td>\n",
       "      <td>NaN</td>\n",
       "      <td>0</td>\n",
       "    </tr>\n",
       "    <tr>\n",
       "      <th>3</th>\n",
       "      <td>100008</td>\n",
       "      <td>1780.0</td>\n",
       "      <td>Flemish Brabant</td>\n",
       "      <td>Flanders</td>\n",
       "      <td>M</td>\n",
       "      <td>FR</td>\n",
       "      <td>08/30/1937</td>\n",
       "      <td>3.0</td>\n",
       "      <td>124.37</td>\n",
       "      <td>2011-10-28</td>\n",
       "      <td>...</td>\n",
       "      <td>NaN</td>\n",
       "      <td>50.00</td>\n",
       "      <td>81</td>\n",
       "      <td>80</td>\n",
       "      <td>NaN</td>\n",
       "      <td>NaN</td>\n",
       "      <td>NaN</td>\n",
       "      <td>NaT</td>\n",
       "      <td>NaN</td>\n",
       "      <td>0</td>\n",
       "    </tr>\n",
       "    <tr>\n",
       "      <th>4</th>\n",
       "      <td>100009</td>\n",
       "      <td>1020.0</td>\n",
       "      <td>Brussels</td>\n",
       "      <td>Brussels</td>\n",
       "      <td>M</td>\n",
       "      <td>FR</td>\n",
       "      <td>01/20/1932</td>\n",
       "      <td>19.0</td>\n",
       "      <td>326.78</td>\n",
       "      <td>2012-03-25</td>\n",
       "      <td>...</td>\n",
       "      <td>25.00</td>\n",
       "      <td>20.00</td>\n",
       "      <td>86</td>\n",
       "      <td>80</td>\n",
       "      <td>NaN</td>\n",
       "      <td>NaN</td>\n",
       "      <td>NaN</td>\n",
       "      <td>NaT</td>\n",
       "      <td>NaN</td>\n",
       "      <td>0</td>\n",
       "    </tr>\n",
       "  </tbody>\n",
       "</table>\n",
       "<p>5 rows × 42 columns</p>\n",
       "</div>"
      ],
      "text/plain": [
       "   donorID  zipcode         province    region gender language dateOfBirth  \\\n",
       "0   100001   1861.0  Flemish Brabant  Flanders      F       NL  12/24/1967   \n",
       "1   100002   2260.0          Antwerp  Flanders      M       NL  01/14/1952   \n",
       "2   100004   1020.0         Brussels  Brussels      F       FR  03/29/1952   \n",
       "3   100008   1780.0  Flemish Brabant  Flanders      M       FR  08/30/1937   \n",
       "4   100009   1020.0         Brussels  Brussels      M       FR  01/20/1932   \n",
       "\n",
       "   number_of_campaigns  total_amount  last_date  ...  (max, Q3)  (max, Q4)  \\\n",
       "0                 12.0        178.49 2011-12-30  ...       7.44      24.79   \n",
       "1                  1.0         20.00 2015-01-10  ...        NaN        NaN   \n",
       "2                 26.0        716.22 2011-06-03  ...      24.79      49.58   \n",
       "3                  3.0        124.37 2011-10-28  ...        NaN      50.00   \n",
       "4                 19.0        326.78 2012-03-25  ...      25.00      20.00   \n",
       "\n",
       "   age  age-group  giftID  campaignID  amount  date  Quater  has_contributed  \n",
       "0   51         50     NaN         NaN     NaN   NaT     NaN                0  \n",
       "1   66         60     NaN         NaN     NaN   NaT     NaN                0  \n",
       "2   66         60     NaN         NaN     NaN   NaT     NaN                0  \n",
       "3   81         80     NaN         NaN     NaN   NaT     NaN                0  \n",
       "4   86         80     NaN         NaN     NaN   NaT     NaN                0  \n",
       "\n",
       "[5 rows x 42 columns]"
      ]
     },
     "execution_count": 1125,
     "metadata": {},
     "output_type": "execute_result"
    }
   ],
   "source": [
    "selected_donors['amount'].fillna(0)\n",
    "#selected_donors.loc[(selected_donors['amount'] > 30) and (selected_donors['date'] > campaign_launched) and (selected_donors['date'] < end_date_tar_variable), 'has_contributed'] = 1\n",
    "\n",
    "selected_donors['has_contributed'] = np.where((selected_donors['amount'] > 30) & (selected_donors['date'] > campaign_launched) & (selected_donors['date'] < end_date_tar_variable),1, 0)\n",
    "\n",
    "selected_donors.head()"
   ]
  },
  {
   "cell_type": "code",
   "execution_count": 1126,
   "metadata": {},
   "outputs": [
    {
     "name": "stdout",
     "output_type": "stream",
     "text": [
      "donorID\n",
      "zipcode\n",
      "province\n",
      "region\n",
      "gender\n",
      "language\n",
      "dateOfBirth\n",
      "number_of_campaigns\n",
      "total_amount\n",
      "last_date\n",
      "Q1_Donations\n",
      "Q2_Donations\n",
      "Q3_Donations\n",
      "Q4_Donations\n",
      "days_since_contributed\n",
      "mean\n",
      "min\n",
      "max\n",
      "('sum', 'Q1')\n",
      "('sum', 'Q2')\n",
      "('sum', 'Q3')\n",
      "('sum', 'Q4')\n",
      "('mean', 'Q1')\n",
      "('mean', 'Q2')\n",
      "('mean', 'Q3')\n",
      "('mean', 'Q4')\n",
      "('min', 'Q1')\n",
      "('min', 'Q2')\n",
      "('min', 'Q3')\n",
      "('min', 'Q4')\n",
      "('max', 'Q1')\n",
      "('max', 'Q2')\n",
      "('max', 'Q3')\n",
      "('max', 'Q4')\n",
      "age\n",
      "age-group\n",
      "giftID\n",
      "campaignID\n",
      "amount\n",
      "date\n",
      "Quater\n",
      "has_contributed\n"
     ]
    }
   ],
   "source": [
    "for column in selected_donors.columns:\n",
    "    print(column)"
   ]
  },
  {
   "cell_type": "code",
   "execution_count": 1127,
   "metadata": {},
   "outputs": [
    {
     "data": {
      "image/png": "[encoded data removed]",
      "text/plain": [
       "<Figure size 432x288 with 1 Axes>"
      ]
     },
     "metadata": {
      "needs_background": "light"
     },
     "output_type": "display_data"
    }
   ],
   "source": [
    "selected_donors.loc[selected_donors['has_contributed'] == 1, :].hist('days_since_contributed', bins = 4)\n",
    "\n",
    "selected_donors['class_based_on_last_contribution_day'] = np.where(selected_donors['days_since_contributed'] > 4500, 'D', np.where(selected_donors['days_since_contributed'] > 3000, 'C',  np.where(selected_donors['days_since_contributed'] > 1700, 'A', 'B')))"
   ]
  },
  {
   "cell_type": "code",
   "execution_count": 1128,
   "metadata": {},
   "outputs": [
    {
     "data": {
      "text/html": [
       "<div>\n",
       "<style scoped>\n",
       "    .dataframe tbody tr th:only-of-type {\n",
       "        vertical-align: middle;\n",
       "    }\n",
       "\n",
       "    .dataframe tbody tr th {\n",
       "        vertical-align: top;\n",
       "    }\n",
       "\n",
       "    .dataframe thead th {\n",
       "        text-align: right;\n",
       "    }\n",
       "</style>\n",
       "<table border=\"1\" class=\"dataframe\">\n",
       "  <thead>\n",
       "    <tr style=\"text-align: right;\">\n",
       "      <th></th>\n",
       "      <th>days_since_contributed</th>\n",
       "      <th>class_based_on_last_contribution_day</th>\n",
       "    </tr>\n",
       "  </thead>\n",
       "  <tbody>\n",
       "    <tr>\n",
       "      <th>0</th>\n",
       "      <td>2409.0</td>\n",
       "      <td>A</td>\n",
       "    </tr>\n",
       "    <tr>\n",
       "      <th>1</th>\n",
       "      <td>1302.0</td>\n",
       "      <td>B</td>\n",
       "    </tr>\n",
       "    <tr>\n",
       "      <th>2</th>\n",
       "      <td>2619.0</td>\n",
       "      <td>A</td>\n",
       "    </tr>\n",
       "    <tr>\n",
       "      <th>3</th>\n",
       "      <td>2472.0</td>\n",
       "      <td>A</td>\n",
       "    </tr>\n",
       "    <tr>\n",
       "      <th>4</th>\n",
       "      <td>2323.0</td>\n",
       "      <td>A</td>\n",
       "    </tr>\n",
       "    <tr>\n",
       "      <th>...</th>\n",
       "      <td>...</td>\n",
       "      <td>...</td>\n",
       "    </tr>\n",
       "    <tr>\n",
       "      <th>34869</th>\n",
       "      <td>1194.0</td>\n",
       "      <td>B</td>\n",
       "    </tr>\n",
       "    <tr>\n",
       "      <th>34870</th>\n",
       "      <td>1002.0</td>\n",
       "      <td>B</td>\n",
       "    </tr>\n",
       "    <tr>\n",
       "      <th>34871</th>\n",
       "      <td>40.0</td>\n",
       "      <td>B</td>\n",
       "    </tr>\n",
       "    <tr>\n",
       "      <th>34872</th>\n",
       "      <td>1313.0</td>\n",
       "      <td>B</td>\n",
       "    </tr>\n",
       "    <tr>\n",
       "      <th>34873</th>\n",
       "      <td>975.0</td>\n",
       "      <td>B</td>\n",
       "    </tr>\n",
       "  </tbody>\n",
       "</table>\n",
       "<p>34874 rows × 2 columns</p>\n",
       "</div>"
      ],
      "text/plain": [
       "       days_since_contributed class_based_on_last_contribution_day\n",
       "0                      2409.0                                    A\n",
       "1                      1302.0                                    B\n",
       "2                      2619.0                                    A\n",
       "3                      2472.0                                    A\n",
       "4                      2323.0                                    A\n",
       "...                       ...                                  ...\n",
       "34869                  1194.0                                    B\n",
       "34870                  1002.0                                    B\n",
       "34871                    40.0                                    B\n",
       "34872                  1313.0                                    B\n",
       "34873                   975.0                                    B\n",
       "\n",
       "[34874 rows x 2 columns]"
      ]
     },
     "execution_count": 1128,
     "metadata": {},
     "output_type": "execute_result"
    }
   ],
   "source": [
    "selected_donors.loc[:,['days_since_contributed','class_based_on_last_contribution_day']]"
   ]
  },
  {
   "cell_type": "code",
   "execution_count": 1129,
   "metadata": {},
   "outputs": [
    {
     "data": {
      "image/png": "[encoded data removed]",
      "text/plain": [
       "<Figure size 432x288 with 1 Axes>"
      ]
     },
     "metadata": {
      "needs_background": "light"
     },
     "output_type": "display_data"
    }
   ],
   "source": [
    "selected_donors.loc[selected_donors['has_contributed'] == 1, :].hist('number_of_campaigns', bins = 3)\n",
    "selected_donors['class_based_on_num_campaigns'] = np.where(selected_donors['number_of_campaigns'] < 25, 'A', np.where(selected_donors['number_of_campaigns'] < 50, 'B', 'C'))"
   ]
  },
  {
   "cell_type": "code",
   "execution_count": 1130,
   "metadata": {},
   "outputs": [
    {
     "data": {
      "text/html": [
       "<div>\n",
       "<style scoped>\n",
       "    .dataframe tbody tr th:only-of-type {\n",
       "        vertical-align: middle;\n",
       "    }\n",
       "\n",
       "    .dataframe tbody tr th {\n",
       "        vertical-align: top;\n",
       "    }\n",
       "\n",
       "    .dataframe thead th {\n",
       "        text-align: right;\n",
       "    }\n",
       "</style>\n",
       "<table border=\"1\" class=\"dataframe\">\n",
       "  <thead>\n",
       "    <tr style=\"text-align: right;\">\n",
       "      <th></th>\n",
       "      <th>number_of_campaigns</th>\n",
       "      <th>class_based_on_last_contribution_day</th>\n",
       "    </tr>\n",
       "  </thead>\n",
       "  <tbody>\n",
       "    <tr>\n",
       "      <th>0</th>\n",
       "      <td>12.0</td>\n",
       "      <td>A</td>\n",
       "    </tr>\n",
       "    <tr>\n",
       "      <th>1</th>\n",
       "      <td>1.0</td>\n",
       "      <td>B</td>\n",
       "    </tr>\n",
       "    <tr>\n",
       "      <th>2</th>\n",
       "      <td>26.0</td>\n",
       "      <td>A</td>\n",
       "    </tr>\n",
       "    <tr>\n",
       "      <th>3</th>\n",
       "      <td>3.0</td>\n",
       "      <td>A</td>\n",
       "    </tr>\n",
       "    <tr>\n",
       "      <th>4</th>\n",
       "      <td>19.0</td>\n",
       "      <td>A</td>\n",
       "    </tr>\n",
       "    <tr>\n",
       "      <th>...</th>\n",
       "      <td>...</td>\n",
       "      <td>...</td>\n",
       "    </tr>\n",
       "    <tr>\n",
       "      <th>34869</th>\n",
       "      <td>1.0</td>\n",
       "      <td>B</td>\n",
       "    </tr>\n",
       "    <tr>\n",
       "      <th>34870</th>\n",
       "      <td>1.0</td>\n",
       "      <td>B</td>\n",
       "    </tr>\n",
       "    <tr>\n",
       "      <th>34871</th>\n",
       "      <td>2.0</td>\n",
       "      <td>B</td>\n",
       "    </tr>\n",
       "    <tr>\n",
       "      <th>34872</th>\n",
       "      <td>1.0</td>\n",
       "      <td>B</td>\n",
       "    </tr>\n",
       "    <tr>\n",
       "      <th>34873</th>\n",
       "      <td>1.0</td>\n",
       "      <td>B</td>\n",
       "    </tr>\n",
       "  </tbody>\n",
       "</table>\n",
       "<p>34874 rows × 2 columns</p>\n",
       "</div>"
      ],
      "text/plain": [
       "       number_of_campaigns class_based_on_last_contribution_day\n",
       "0                     12.0                                    A\n",
       "1                      1.0                                    B\n",
       "2                     26.0                                    A\n",
       "3                      3.0                                    A\n",
       "4                     19.0                                    A\n",
       "...                    ...                                  ...\n",
       "34869                  1.0                                    B\n",
       "34870                  1.0                                    B\n",
       "34871                  2.0                                    B\n",
       "34872                  1.0                                    B\n",
       "34873                  1.0                                    B\n",
       "\n",
       "[34874 rows x 2 columns]"
      ]
     },
     "execution_count": 1130,
     "metadata": {},
     "output_type": "execute_result"
    }
   ],
   "source": [
    "selected_donors.loc[:,['number_of_campaigns','class_based_on_last_contribution_day']]"
   ]
  },
  {
   "cell_type": "code",
   "execution_count": 1131,
   "metadata": {},
   "outputs": [],
   "source": [
    "def assignlables_3bins(column, l1, l2):\n",
    "    column_name = 'class_based_on_' + str(column)\n",
    "    selected_donors.loc[selected_donors['has_contributed'] == 1, :].hist(column, bins = 3)\n",
    "    selected_donors[column_name] = np.where(selected_donors[column] < l1, 'A', np.where(selected_donors[column] < l2, 'B', 'C'))\n",
    "    print(selected_donors.loc[:,[column, column_name]])"
   ]
  },
  {
   "cell_type": "code",
   "execution_count": 1132,
   "metadata": {},
   "outputs": [],
   "source": [
    "def assignlables_4bins(column, l1, l2, l3):\n",
    "    column_name = 'class_based_on_' + str(column)\n",
    "    selected_donors.loc[selected_donors['has_contributed'] == 1, :].hist(column, bins = 4)\n",
    "    selected_donors[column_name] = np.where(selected_donors[column] < l1, 'A', np.where(selected_donors[column] < l2, 'B', np.where(selected_donors[column] < l3, 'C', 'D')))\n",
    "    print(selected_donors.loc[:,[column, column_name]])"
   ]
  },
  {
   "cell_type": "code",
   "execution_count": 1133,
   "metadata": {},
   "outputs": [],
   "source": [
    "def assignlables_2bins(column, l1):\n",
    "    column_name = 'class_based_on_' + str(column)\n",
    "    selected_donors.loc[selected_donors['has_contributed'] == 1, :].hist(column, bins = 2)\n",
    "    selected_donors[column_name] = np.where(selected_donors[column] < l1, 'A', 'B')\n",
    "    print(selected_donors.loc[:,[column, column_name]])"
   ]
  },
  {
   "cell_type": "code",
   "execution_count": 1134,
   "metadata": {},
   "outputs": [
    {
     "name": "stdout",
     "output_type": "stream",
     "text": [
      "       Q1_Donations class_based_on_Q1_Donations\n",
      "0               3.0                           A\n",
      "1               1.0                           A\n",
      "2               8.0                           A\n",
      "3               NaN                           B\n",
      "4               5.0                           A\n",
      "...             ...                         ...\n",
      "34869           NaN                           B\n",
      "34870           NaN                           B\n",
      "34871           NaN                           B\n",
      "34872           NaN                           B\n",
      "34873           NaN                           B\n",
      "\n",
      "[34874 rows x 2 columns]\n"
     ]
    },
    {
     "data": {
      "image/png": "[encoded data removed]",
      "text/plain": [
       "<Figure size 432x288 with 1 Axes>"
      ]
     },
     "metadata": {
      "needs_background": "light"
     },
     "output_type": "display_data"
    }
   ],
   "source": [
    "assignlables_2bins('Q1_Donations', 9) "
   ]
  },
  {
   "cell_type": "code",
   "execution_count": 1135,
   "metadata": {},
   "outputs": [
    {
     "name": "stdout",
     "output_type": "stream",
     "text": [
      "       Q2_Donations class_based_on_Q2_Donations\n",
      "0               3.0                           A\n",
      "1               NaN                           B\n",
      "2               4.0                           A\n",
      "3               1.0                           A\n",
      "4               4.0                           A\n",
      "...             ...                         ...\n",
      "34869           1.0                           A\n",
      "34870           NaN                           B\n",
      "34871           1.0                           A\n",
      "34872           NaN                           B\n",
      "34873           NaN                           B\n",
      "\n",
      "[34874 rows x 2 columns]\n"
     ]
    },
    {
     "data": {
      "image/png": "[encoded data removed]",
      "text/plain": [
       "<Figure size 432x288 with 1 Axes>"
      ]
     },
     "metadata": {
      "needs_background": "light"
     },
     "output_type": "display_data"
    }
   ],
   "source": [
    "assignlables_2bins('Q2_Donations', 9)"
   ]
  },
  {
   "cell_type": "code",
   "execution_count": 1136,
   "metadata": {},
   "outputs": [
    {
     "name": "stdout",
     "output_type": "stream",
     "text": [
      "       Q3_Donations class_based_on_Q3_Donations\n",
      "0               1.0                           A\n",
      "1               NaN                           C\n",
      "2               4.0                           A\n",
      "3               NaN                           C\n",
      "4               4.0                           A\n",
      "...             ...                         ...\n",
      "34869           NaN                           C\n",
      "34870           NaN                           C\n",
      "34871           1.0                           A\n",
      "34872           NaN                           C\n",
      "34873           NaN                           C\n",
      "\n",
      "[34874 rows x 2 columns]\n"
     ]
    },
    {
     "data": {
      "image/png": "[encoded data removed]",
      "text/plain": [
       "<Figure size 432x288 with 1 Axes>"
      ]
     },
     "metadata": {
      "needs_background": "light"
     },
     "output_type": "display_data"
    }
   ],
   "source": [
    "assignlables_3bins('Q3_Donations', 8, 17) # 0-7 = A,  7-16 = B, C"
   ]
  },
  {
   "cell_type": "code",
   "execution_count": 1137,
   "metadata": {},
   "outputs": [
    {
     "name": "stdout",
     "output_type": "stream",
     "text": [
      "       Q4_Donations class_based_on_Q4_Donations\n",
      "0               5.0                           A\n",
      "1               NaN                           C\n",
      "2              10.0                           B\n",
      "3               2.0                           A\n",
      "4               6.0                           B\n",
      "...             ...                         ...\n",
      "34869           NaN                           C\n",
      "34870           1.0                           A\n",
      "34871           NaN                           C\n",
      "34872           1.0                           A\n",
      "34873           1.0                           A\n",
      "\n",
      "[34874 rows x 2 columns]\n"
     ]
    },
    {
     "data": {
      "image/png": "[encoded data removed]",
      "text/plain": [
       "<Figure size 432x288 with 1 Axes>"
      ]
     },
     "metadata": {
      "needs_background": "light"
     },
     "output_type": "display_data"
    }
   ],
   "source": [
    "assignlables_3bins('Q4_Donations',6, 14) # 0-5 = A,  5-13 = B, C"
   ]
  },
  {
   "cell_type": "code",
   "execution_count": 1138,
   "metadata": {},
   "outputs": [
    {
     "name": "stdout",
     "output_type": "stream",
     "text": [
      "       total_amount class_based_on_total_amount\n",
      "0            178.49                           A\n",
      "1             20.00                           A\n",
      "2            716.22                           A\n",
      "3            124.37                           A\n",
      "4            326.78                           A\n",
      "...             ...                         ...\n",
      "34869         50.00                           A\n",
      "34870         10.00                           A\n",
      "34871        124.79                           A\n",
      "34872         40.00                           A\n",
      "34873         39.00                           A\n",
      "\n",
      "[34874 rows x 2 columns]\n"
     ]
    },
    {
     "data": {
      "image/png": "[encoded data removed]",
      "text/plain": [
       "<Figure size 432x288 with 1 Axes>"
      ]
     },
     "metadata": {
      "needs_background": "light"
     },
     "output_type": "display_data"
    }
   ],
   "source": [
    "assignlables_2bins('total_amount',2100) "
   ]
  },
  {
   "cell_type": "code",
   "execution_count": 1139,
   "metadata": {},
   "outputs": [
    {
     "name": "stdout",
     "output_type": "stream",
     "text": [
      "       age class_based_on_age\n",
      "0       51                  B\n",
      "1       66                  B\n",
      "2       66                  B\n",
      "3       81                  C\n",
      "4       86                  C\n",
      "...    ...                ...\n",
      "34869   54                  B\n",
      "34870   48                  A\n",
      "34871   51                  B\n",
      "34872   42                  A\n",
      "34873   31                  A\n",
      "\n",
      "[34874 rows x 2 columns]\n"
     ]
    },
    {
     "data": {
      "image/png": "[encoded data removed]",
      "text/plain": [
       "<Figure size 432x288 with 1 Axes>"
      ]
     },
     "metadata": {
      "needs_background": "light"
     },
     "output_type": "display_data"
    }
   ],
   "source": [
    "assignlables_3bins('age',50, 72)"
   ]
  },
  {
   "cell_type": "code",
   "execution_count": 1140,
   "metadata": {},
   "outputs": [
    {
     "name": "stdout",
     "output_type": "stream",
     "text": [
      "       age-group class_based_on_age-group\n",
      "0             50                        B\n",
      "1             60                        B\n",
      "2             60                        B\n",
      "3             80                        C\n",
      "4             80                        C\n",
      "...          ...                      ...\n",
      "34869         50                        B\n",
      "34870         40                        A\n",
      "34871         50                        B\n",
      "34872         40                        A\n",
      "34873         30                        A\n",
      "\n",
      "[34874 rows x 2 columns]\n"
     ]
    },
    {
     "data": {
      "image/png": "[encoded data removed]",
      "text/plain": [
       "<Figure size 432x288 with 1 Axes>"
      ]
     },
     "metadata": {
      "needs_background": "light"
     },
     "output_type": "display_data"
    }
   ],
   "source": [
    "assignlables_3bins('age-group',45, 65)"
   ]
  },
  {
   "cell_type": "code",
   "execution_count": 1141,
   "metadata": {},
   "outputs": [
    {
     "name": "stderr",
     "output_type": "stream",
     "text": [
      "C:\\tools\\Anaconda3\\lib\\site-packages\\numpy\\core\\_asarray.py:102: VisibleDeprecationWarning: Creating an ndarray from ragged nested sequences (which is a list-or-tuple of lists-or-tuples-or ndarrays with different lengths or shapes) is deprecated. If you meant to do this, you must specify 'dtype=object' when creating the ndarray.\n",
      "  return array(a, dtype, copy=False, order=order)\n"
     ]
    },
    {
     "name": "stdout",
     "output_type": "stream",
     "text": [
      "       (sum, Q1) class_based_on_('sum', 'Q1')\n",
      "0          42.39                            A\n",
      "1          20.00                            A\n",
      "2         219.16                            A\n",
      "3            NaN                            C\n",
      "4          79.78                            A\n",
      "...          ...                          ...\n",
      "34869        NaN                            C\n",
      "34870        NaN                            C\n",
      "34871        NaN                            C\n",
      "34872        NaN                            C\n",
      "34873        NaN                            C\n",
      "\n",
      "[34874 rows x 2 columns]\n"
     ]
    },
    {
     "data": {
      "image/png": "[encoded data removed]",
      "text/plain": [
       "<Figure size 432x288 with 1 Axes>"
      ]
     },
     "metadata": {
      "needs_background": "light"
     },
     "output_type": "display_data"
    }
   ],
   "source": [
    "assignlables_3bins(('sum', 'Q1'),250, 620)"
   ]
  },
  {
   "cell_type": "code",
   "execution_count": 1142,
   "metadata": {},
   "outputs": [
    {
     "name": "stderr",
     "output_type": "stream",
     "text": [
      "C:\\tools\\Anaconda3\\lib\\site-packages\\numpy\\core\\_asarray.py:102: VisibleDeprecationWarning: Creating an ndarray from ragged nested sequences (which is a list-or-tuple of lists-or-tuples-or ndarrays with different lengths or shapes) is deprecated. If you meant to do this, you must specify 'dtype=object' when creating the ndarray.\n",
      "  return array(a, dtype, copy=False, order=order)\n"
     ]
    },
    {
     "name": "stdout",
     "output_type": "stream",
     "text": [
      "       (sum, Q2) class_based_on_('sum', 'Q2')\n",
      "0          64.79                            A\n",
      "1            NaN                            C\n",
      "2         114.79                            A\n",
      "3          49.58                            A\n",
      "4          67.39                            A\n",
      "...          ...                          ...\n",
      "34869      50.00                            A\n",
      "34870        NaN                            C\n",
      "34871     100.00                            A\n",
      "34872        NaN                            C\n",
      "34873        NaN                            C\n",
      "\n",
      "[34874 rows x 2 columns]\n"
     ]
    },
    {
     "data": {
      "image/png": "[encoded data removed]",
      "text/plain": [
       "<Figure size 432x288 with 1 Axes>"
      ]
     },
     "metadata": {
      "needs_background": "light"
     },
     "output_type": "display_data"
    }
   ],
   "source": [
    "assignlables_3bins(('sum', 'Q2'),450, 1000)"
   ]
  },
  {
   "cell_type": "code",
   "execution_count": 1143,
   "metadata": {},
   "outputs": [
    {
     "name": "stderr",
     "output_type": "stream",
     "text": [
      "C:\\tools\\Anaconda3\\lib\\site-packages\\numpy\\core\\_asarray.py:102: VisibleDeprecationWarning: Creating an ndarray from ragged nested sequences (which is a list-or-tuple of lists-or-tuples-or ndarrays with different lengths or shapes) is deprecated. If you meant to do this, you must specify 'dtype=object' when creating the ndarray.\n",
      "  return array(a, dtype, copy=False, order=order)\n"
     ]
    },
    {
     "name": "stdout",
     "output_type": "stream",
     "text": [
      "       (sum, Q3) class_based_on_('sum', 'Q3')\n",
      "0           7.44                            A\n",
      "1            NaN                            C\n",
      "2          99.16                            A\n",
      "3            NaN                            C\n",
      "4          95.00                            A\n",
      "...          ...                          ...\n",
      "34869        NaN                            C\n",
      "34870        NaN                            C\n",
      "34871      24.79                            A\n",
      "34872        NaN                            C\n",
      "34873        NaN                            C\n",
      "\n",
      "[34874 rows x 2 columns]\n"
     ]
    },
    {
     "data": {
      "image/png": "[encoded data removed]",
      "text/plain": [
       "<Figure size 432x288 with 1 Axes>"
      ]
     },
     "metadata": {
      "needs_background": "light"
     },
     "output_type": "display_data"
    }
   ],
   "source": [
    "assignlables_3bins(('sum', 'Q3'),250, 450)"
   ]
  },
  {
   "cell_type": "code",
   "execution_count": 1144,
   "metadata": {},
   "outputs": [
    {
     "name": "stderr",
     "output_type": "stream",
     "text": [
      "C:\\tools\\Anaconda3\\lib\\site-packages\\numpy\\core\\_asarray.py:102: VisibleDeprecationWarning: Creating an ndarray from ragged nested sequences (which is a list-or-tuple of lists-or-tuples-or ndarrays with different lengths or shapes) is deprecated. If you meant to do this, you must specify 'dtype=object' when creating the ndarray.\n",
      "  return array(a, dtype, copy=False, order=order)\n"
     ]
    },
    {
     "name": "stdout",
     "output_type": "stream",
     "text": [
      "       (sum, Q4) class_based_on_('sum', 'Q4')\n",
      "0          63.87                            A\n",
      "1            NaN                            C\n",
      "2         283.11                            B\n",
      "3          74.79                            A\n",
      "4          84.61                            A\n",
      "...          ...                          ...\n",
      "34869        NaN                            C\n",
      "34870      10.00                            A\n",
      "34871        NaN                            C\n",
      "34872      40.00                            A\n",
      "34873      39.00                            A\n",
      "\n",
      "[34874 rows x 2 columns]\n"
     ]
    },
    {
     "data": {
      "image/png": "[encoded data removed]",
      "text/plain": [
       "<Figure size 432x288 with 1 Axes>"
      ]
     },
     "metadata": {
      "needs_background": "light"
     },
     "output_type": "display_data"
    }
   ],
   "source": [
    "assignlables_3bins(('sum', 'Q4'),250, 650)"
   ]
  },
  {
   "cell_type": "code",
   "execution_count": 1145,
   "metadata": {},
   "outputs": [
    {
     "name": "stderr",
     "output_type": "stream",
     "text": [
      "C:\\tools\\Anaconda3\\lib\\site-packages\\numpy\\core\\_asarray.py:102: VisibleDeprecationWarning: Creating an ndarray from ragged nested sequences (which is a list-or-tuple of lists-or-tuples-or ndarrays with different lengths or shapes) is deprecated. If you meant to do this, you must specify 'dtype=object' when creating the ndarray.\n",
      "  return array(a, dtype, copy=False, order=order)\n"
     ]
    },
    {
     "name": "stdout",
     "output_type": "stream",
     "text": [
      "       (min, Q1) class_based_on_('min', 'Q1')\n",
      "0          10.00                            A\n",
      "1          20.00                            A\n",
      "2          24.79                            A\n",
      "3            NaN                            C\n",
      "4          12.39                            A\n",
      "...          ...                          ...\n",
      "34869        NaN                            C\n",
      "34870        NaN                            C\n",
      "34871        NaN                            C\n",
      "34872        NaN                            C\n",
      "34873        NaN                            C\n",
      "\n",
      "[34874 rows x 2 columns]\n"
     ]
    },
    {
     "data": {
      "image/png": "[encoded data removed]",
      "text/plain": [
       "<Figure size 432x288 with 1 Axes>"
      ]
     },
     "metadata": {
      "needs_background": "light"
     },
     "output_type": "display_data"
    }
   ],
   "source": [
    "assignlables_3bins(('min', 'Q1'),55, 110)"
   ]
  },
  {
   "cell_type": "code",
   "execution_count": 1146,
   "metadata": {},
   "outputs": [
    {
     "name": "stderr",
     "output_type": "stream",
     "text": [
      "C:\\tools\\Anaconda3\\lib\\site-packages\\numpy\\core\\_asarray.py:102: VisibleDeprecationWarning: Creating an ndarray from ragged nested sequences (which is a list-or-tuple of lists-or-tuples-or ndarrays with different lengths or shapes) is deprecated. If you meant to do this, you must specify 'dtype=object' when creating the ndarray.\n",
      "  return array(a, dtype, copy=False, order=order)\n"
     ]
    },
    {
     "name": "stdout",
     "output_type": "stream",
     "text": [
      "       (min, Q2) class_based_on_('min', 'Q2')\n",
      "0          10.00                            A\n",
      "1            NaN                            C\n",
      "2          24.79                            A\n",
      "3          49.58                            B\n",
      "4          10.00                            A\n",
      "...          ...                          ...\n",
      "34869      50.00                            B\n",
      "34870        NaN                            C\n",
      "34871     100.00                            C\n",
      "34872        NaN                            C\n",
      "34873        NaN                            C\n",
      "\n",
      "[34874 rows x 2 columns]\n"
     ]
    },
    {
     "data": {
      "image/png": "[encoded data removed]",
      "text/plain": [
       "<Figure size 432x288 with 1 Axes>"
      ]
     },
     "metadata": {
      "needs_background": "light"
     },
     "output_type": "display_data"
    }
   ],
   "source": [
    "assignlables_3bins(('min', 'Q2'),43, 83)"
   ]
  },
  {
   "cell_type": "code",
   "execution_count": 1147,
   "metadata": {},
   "outputs": [
    {
     "name": "stderr",
     "output_type": "stream",
     "text": [
      "C:\\tools\\Anaconda3\\lib\\site-packages\\numpy\\core\\_asarray.py:102: VisibleDeprecationWarning: Creating an ndarray from ragged nested sequences (which is a list-or-tuple of lists-or-tuples-or ndarrays with different lengths or shapes) is deprecated. If you meant to do this, you must specify 'dtype=object' when creating the ndarray.\n",
      "  return array(a, dtype, copy=False, order=order)\n"
     ]
    },
    {
     "name": "stdout",
     "output_type": "stream",
     "text": [
      "       (min, Q3) class_based_on_('min', 'Q3')\n",
      "0           7.44                            A\n",
      "1            NaN                            B\n",
      "2          24.79                            A\n",
      "3            NaN                            B\n",
      "4          20.00                            A\n",
      "...          ...                          ...\n",
      "34869        NaN                            B\n",
      "34870        NaN                            B\n",
      "34871      24.79                            A\n",
      "34872        NaN                            B\n",
      "34873        NaN                            B\n",
      "\n",
      "[34874 rows x 2 columns]\n"
     ]
    },
    {
     "data": {
      "image/png": "[encoded data removed]",
      "text/plain": [
       "<Figure size 432x288 with 1 Axes>"
      ]
     },
     "metadata": {
      "needs_background": "light"
     },
     "output_type": "display_data"
    }
   ],
   "source": [
    "assignlables_2bins(('min', 'Q3'),300)"
   ]
  },
  {
   "cell_type": "code",
   "execution_count": 1148,
   "metadata": {},
   "outputs": [
    {
     "name": "stderr",
     "output_type": "stream",
     "text": [
      "C:\\tools\\Anaconda3\\lib\\site-packages\\numpy\\core\\_asarray.py:102: VisibleDeprecationWarning: Creating an ndarray from ragged nested sequences (which is a list-or-tuple of lists-or-tuples-or ndarrays with different lengths or shapes) is deprecated. If you meant to do this, you must specify 'dtype=object' when creating the ndarray.\n",
      "  return array(a, dtype, copy=False, order=order)\n"
     ]
    },
    {
     "name": "stdout",
     "output_type": "stream",
     "text": [
      "       (min, Q4) class_based_on_('min', 'Q4')\n",
      "0           6.69                            A\n",
      "1            NaN                            C\n",
      "2          24.79                            A\n",
      "3          24.79                            A\n",
      "4           7.44                            A\n",
      "...          ...                          ...\n",
      "34869        NaN                            C\n",
      "34870      10.00                            A\n",
      "34871        NaN                            C\n",
      "34872      40.00                            A\n",
      "34873      39.00                            A\n",
      "\n",
      "[34874 rows x 2 columns]\n"
     ]
    },
    {
     "data": {
      "image/png": "[encoded data removed]",
      "text/plain": [
       "<Figure size 432x288 with 1 Axes>"
      ]
     },
     "metadata": {
      "needs_background": "light"
     },
     "output_type": "display_data"
    }
   ],
   "source": [
    "assignlables_3bins(('min', 'Q4'),300, 650)"
   ]
  },
  {
   "cell_type": "code",
   "execution_count": 1149,
   "metadata": {},
   "outputs": [
    {
     "name": "stderr",
     "output_type": "stream",
     "text": [
      "C:\\tools\\Anaconda3\\lib\\site-packages\\numpy\\core\\_asarray.py:102: VisibleDeprecationWarning: Creating an ndarray from ragged nested sequences (which is a list-or-tuple of lists-or-tuples-or ndarrays with different lengths or shapes) is deprecated. If you meant to do this, you must specify 'dtype=object' when creating the ndarray.\n",
      "  return array(a, dtype, copy=False, order=order)\n"
     ]
    },
    {
     "name": "stdout",
     "output_type": "stream",
     "text": [
      "       (max, Q1) class_based_on_('max', 'Q1')\n",
      "0           20.0                            A\n",
      "1           20.0                            A\n",
      "2           30.0                            A\n",
      "3            NaN                            C\n",
      "4           20.0                            A\n",
      "...          ...                          ...\n",
      "34869        NaN                            C\n",
      "34870        NaN                            C\n",
      "34871        NaN                            C\n",
      "34872        NaN                            C\n",
      "34873        NaN                            C\n",
      "\n",
      "[34874 rows x 2 columns]\n"
     ]
    },
    {
     "data": {
      "image/png": "[encoded data removed]",
      "text/plain": [
       "<Figure size 432x288 with 1 Axes>"
      ]
     },
     "metadata": {
      "needs_background": "light"
     },
     "output_type": "display_data"
    }
   ],
   "source": [
    "assignlables_3bins(('max', 'Q1'),110, 220)"
   ]
  },
  {
   "cell_type": "code",
   "execution_count": 1150,
   "metadata": {},
   "outputs": [
    {
     "name": "stderr",
     "output_type": "stream",
     "text": [
      "C:\\tools\\Anaconda3\\lib\\site-packages\\numpy\\core\\_asarray.py:102: VisibleDeprecationWarning: Creating an ndarray from ragged nested sequences (which is a list-or-tuple of lists-or-tuples-or ndarrays with different lengths or shapes) is deprecated. If you meant to do this, you must specify 'dtype=object' when creating the ndarray.\n",
      "  return array(a, dtype, copy=False, order=order)\n"
     ]
    },
    {
     "name": "stdout",
     "output_type": "stream",
     "text": [
      "       (max, Q2) class_based_on_('max', 'Q2')\n",
      "0          30.00                            A\n",
      "1            NaN                            B\n",
      "2          30.00                            A\n",
      "3          49.58                            A\n",
      "4          25.00                            A\n",
      "...          ...                          ...\n",
      "34869      50.00                            A\n",
      "34870        NaN                            B\n",
      "34871     100.00                            A\n",
      "34872        NaN                            B\n",
      "34873        NaN                            B\n",
      "\n",
      "[34874 rows x 2 columns]\n"
     ]
    },
    {
     "data": {
      "image/png": "[encoded data removed]",
      "text/plain": [
       "<Figure size 432x288 with 1 Axes>"
      ]
     },
     "metadata": {
      "needs_background": "light"
     },
     "output_type": "display_data"
    }
   ],
   "source": [
    "assignlables_2bins(('max', 'Q2'),300)"
   ]
  },
  {
   "cell_type": "code",
   "execution_count": 1151,
   "metadata": {},
   "outputs": [
    {
     "name": "stderr",
     "output_type": "stream",
     "text": [
      "C:\\tools\\Anaconda3\\lib\\site-packages\\numpy\\core\\_asarray.py:102: VisibleDeprecationWarning: Creating an ndarray from ragged nested sequences (which is a list-or-tuple of lists-or-tuples-or ndarrays with different lengths or shapes) is deprecated. If you meant to do this, you must specify 'dtype=object' when creating the ndarray.\n",
      "  return array(a, dtype, copy=False, order=order)\n"
     ]
    },
    {
     "name": "stdout",
     "output_type": "stream",
     "text": [
      "       (max, Q3) class_based_on_('max', 'Q3')\n",
      "0           7.44                            A\n",
      "1            NaN                            C\n",
      "2          24.79                            A\n",
      "3            NaN                            C\n",
      "4          25.00                            A\n",
      "...          ...                          ...\n",
      "34869        NaN                            C\n",
      "34870        NaN                            C\n",
      "34871      24.79                            A\n",
      "34872        NaN                            C\n",
      "34873        NaN                            C\n",
      "\n",
      "[34874 rows x 2 columns]\n"
     ]
    },
    {
     "data": {
      "image/png": "[encoded data removed]",
      "text/plain": [
       "<Figure size 432x288 with 1 Axes>"
      ]
     },
     "metadata": {
      "needs_background": "light"
     },
     "output_type": "display_data"
    }
   ],
   "source": [
    "assignlables_3bins(('max', 'Q3'),210, 410)"
   ]
  },
  {
   "cell_type": "code",
   "execution_count": 1152,
   "metadata": {},
   "outputs": [
    {
     "name": "stderr",
     "output_type": "stream",
     "text": [
      "C:\\tools\\Anaconda3\\lib\\site-packages\\numpy\\core\\_asarray.py:102: VisibleDeprecationWarning: Creating an ndarray from ragged nested sequences (which is a list-or-tuple of lists-or-tuples-or ndarrays with different lengths or shapes) is deprecated. If you meant to do this, you must specify 'dtype=object' when creating the ndarray.\n",
      "  return array(a, dtype, copy=False, order=order)\n"
     ]
    },
    {
     "name": "stdout",
     "output_type": "stream",
     "text": [
      "       (max, Q4) class_based_on_('max', 'Q4')\n",
      "0          24.79                            A\n",
      "1            NaN                            B\n",
      "2          49.58                            A\n",
      "3          50.00                            A\n",
      "4          20.00                            A\n",
      "...          ...                          ...\n",
      "34869        NaN                            B\n",
      "34870      10.00                            A\n",
      "34871        NaN                            B\n",
      "34872      40.00                            A\n",
      "34873      39.00                            A\n",
      "\n",
      "[34874 rows x 2 columns]\n"
     ]
    },
    {
     "data": {
      "image/png": "[encoded data removed]",
      "text/plain": [
       "<Figure size 432x288 with 1 Axes>"
      ]
     },
     "metadata": {
      "needs_background": "light"
     },
     "output_type": "display_data"
    }
   ],
   "source": [
    "assignlables_2bins(('max', 'Q4'),450)"
   ]
  },
  {
   "cell_type": "code",
   "execution_count": 1153,
   "metadata": {},
   "outputs": [
    {
     "name": "stderr",
     "output_type": "stream",
     "text": [
      "C:\\tools\\Anaconda3\\lib\\site-packages\\numpy\\core\\_asarray.py:102: VisibleDeprecationWarning: Creating an ndarray from ragged nested sequences (which is a list-or-tuple of lists-or-tuples-or ndarrays with different lengths or shapes) is deprecated. If you meant to do this, you must specify 'dtype=object' when creating the ndarray.\n",
      "  return array(a, dtype, copy=False, order=order)\n"
     ]
    },
    {
     "name": "stdout",
     "output_type": "stream",
     "text": [
      "       (mean, Q1) class_based_on_('mean', 'Q1')\n",
      "0          14.130                             A\n",
      "1          20.000                             A\n",
      "2          27.395                             A\n",
      "3             NaN                             B\n",
      "4          15.956                             A\n",
      "...           ...                           ...\n",
      "34869         NaN                             B\n",
      "34870         NaN                             B\n",
      "34871         NaN                             B\n",
      "34872         NaN                             B\n",
      "34873         NaN                             B\n",
      "\n",
      "[34874 rows x 2 columns]\n"
     ]
    },
    {
     "data": {
      "image/png": "[encoded data removed]",
      "text/plain": [
       "<Figure size 432x288 with 1 Axes>"
      ]
     },
     "metadata": {
      "needs_background": "light"
     },
     "output_type": "display_data"
    }
   ],
   "source": [
    "assignlables_2bins(('mean', 'Q1'),110)"
   ]
  },
  {
   "cell_type": "code",
   "execution_count": 1154,
   "metadata": {},
   "outputs": [
    {
     "name": "stderr",
     "output_type": "stream",
     "text": [
      "C:\\tools\\Anaconda3\\lib\\site-packages\\numpy\\core\\_asarray.py:102: VisibleDeprecationWarning: Creating an ndarray from ragged nested sequences (which is a list-or-tuple of lists-or-tuples-or ndarrays with different lengths or shapes) is deprecated. If you meant to do this, you must specify 'dtype=object' when creating the ndarray.\n",
      "  return array(a, dtype, copy=False, order=order)\n"
     ]
    },
    {
     "name": "stdout",
     "output_type": "stream",
     "text": [
      "       (mean, Q1) class_based_on_('mean', 'Q1')\n",
      "0          14.130                             A\n",
      "1          20.000                             A\n",
      "2          27.395                             A\n",
      "3             NaN                             B\n",
      "4          15.956                             A\n",
      "...           ...                           ...\n",
      "34869         NaN                             B\n",
      "34870         NaN                             B\n",
      "34871         NaN                             B\n",
      "34872         NaN                             B\n",
      "34873         NaN                             B\n",
      "\n",
      "[34874 rows x 2 columns]\n"
     ]
    },
    {
     "data": {
      "image/png": "[encoded data removed]",
      "text/plain": [
       "<Figure size 432x288 with 1 Axes>"
      ]
     },
     "metadata": {
      "needs_background": "light"
     },
     "output_type": "display_data"
    }
   ],
   "source": [
    "assignlables_2bins(('mean', 'Q1'),110)"
   ]
  },
  {
   "cell_type": "code",
   "execution_count": 1155,
   "metadata": {},
   "outputs": [
    {
     "name": "stderr",
     "output_type": "stream",
     "text": [
      "C:\\tools\\Anaconda3\\lib\\site-packages\\numpy\\core\\_asarray.py:102: VisibleDeprecationWarning: Creating an ndarray from ragged nested sequences (which is a list-or-tuple of lists-or-tuples-or ndarrays with different lengths or shapes) is deprecated. If you meant to do this, you must specify 'dtype=object' when creating the ndarray.\n",
      "  return array(a, dtype, copy=False, order=order)\n"
     ]
    },
    {
     "name": "stdout",
     "output_type": "stream",
     "text": [
      "       (mean, Q2) class_based_on_('mean', 'Q2')\n",
      "0       21.596667                             A\n",
      "1             NaN                             B\n",
      "2       28.697500                             A\n",
      "3       49.580000                             A\n",
      "4       16.847500                             A\n",
      "...           ...                           ...\n",
      "34869   50.000000                             A\n",
      "34870         NaN                             B\n",
      "34871  100.000000                             A\n",
      "34872         NaN                             B\n",
      "34873         NaN                             B\n",
      "\n",
      "[34874 rows x 2 columns]\n"
     ]
    },
    {
     "data": {
      "image/png": "[encoded data removed]",
      "text/plain": [
       "<Figure size 432x288 with 1 Axes>"
      ]
     },
     "metadata": {
      "needs_background": "light"
     },
     "output_type": "display_data"
    }
   ],
   "source": [
    "assignlables_2bins(('mean', 'Q2'),130)"
   ]
  },
  {
   "cell_type": "code",
   "execution_count": 1156,
   "metadata": {},
   "outputs": [
    {
     "name": "stderr",
     "output_type": "stream",
     "text": [
      "C:\\tools\\Anaconda3\\lib\\site-packages\\numpy\\core\\_asarray.py:102: VisibleDeprecationWarning: Creating an ndarray from ragged nested sequences (which is a list-or-tuple of lists-or-tuples-or ndarrays with different lengths or shapes) is deprecated. If you meant to do this, you must specify 'dtype=object' when creating the ndarray.\n",
      "  return array(a, dtype, copy=False, order=order)\n"
     ]
    },
    {
     "name": "stdout",
     "output_type": "stream",
     "text": [
      "       (mean, Q3) class_based_on_('mean', 'Q3')\n",
      "0            7.44                             A\n",
      "1             NaN                             B\n",
      "2           24.79                             A\n",
      "3             NaN                             B\n",
      "4           23.75                             A\n",
      "...           ...                           ...\n",
      "34869         NaN                             B\n",
      "34870         NaN                             B\n",
      "34871       24.79                             A\n",
      "34872         NaN                             B\n",
      "34873         NaN                             B\n",
      "\n",
      "[34874 rows x 2 columns]\n"
     ]
    },
    {
     "data": {
      "image/png": "[encoded data removed]",
      "text/plain": [
       "<Figure size 432x288 with 1 Axes>"
      ]
     },
     "metadata": {
      "needs_background": "light"
     },
     "output_type": "display_data"
    }
   ],
   "source": [
    "assignlables_2bins(('mean', 'Q3'),310)"
   ]
  },
  {
   "cell_type": "code",
   "execution_count": 1157,
   "metadata": {},
   "outputs": [
    {
     "name": "stderr",
     "output_type": "stream",
     "text": [
      "C:\\tools\\Anaconda3\\lib\\site-packages\\numpy\\core\\_asarray.py:102: VisibleDeprecationWarning: Creating an ndarray from ragged nested sequences (which is a list-or-tuple of lists-or-tuples-or ndarrays with different lengths or shapes) is deprecated. If you meant to do this, you must specify 'dtype=object' when creating the ndarray.\n",
      "  return array(a, dtype, copy=False, order=order)\n"
     ]
    },
    {
     "name": "stdout",
     "output_type": "stream",
     "text": [
      "       (mean, Q4) class_based_on_('mean', 'Q4')\n",
      "0       12.774000                             A\n",
      "1             NaN                             B\n",
      "2       28.311000                             A\n",
      "3       37.395000                             A\n",
      "4       14.101667                             A\n",
      "...           ...                           ...\n",
      "34869         NaN                             B\n",
      "34870   10.000000                             A\n",
      "34871         NaN                             B\n",
      "34872   40.000000                             A\n",
      "34873   39.000000                             A\n",
      "\n",
      "[34874 rows x 2 columns]\n"
     ]
    },
    {
     "data": {
      "image/png": "[encoded data removed]",
      "text/plain": [
       "<Figure size 432x288 with 1 Axes>"
      ]
     },
     "metadata": {
      "needs_background": "light"
     },
     "output_type": "display_data"
    }
   ],
   "source": [
    "assignlables_2bins(('mean', 'Q4'),450)"
   ]
  },
  {
   "cell_type": "code",
   "execution_count": 1158,
   "metadata": {},
   "outputs": [
    {
     "name": "stdout",
     "output_type": "stream",
     "text": [
      "donorID\n",
      "zipcode\n",
      "province\n",
      "region\n",
      "gender\n",
      "language\n",
      "dateOfBirth\n",
      "number_of_campaigns\n",
      "total_amount\n",
      "last_date\n",
      "Q1_Donations\n",
      "Q2_Donations\n",
      "Q3_Donations\n",
      "Q4_Donations\n",
      "days_since_contributed\n",
      "mean\n",
      "min\n",
      "max\n",
      "('sum', 'Q1')\n",
      "('sum', 'Q2')\n",
      "('sum', 'Q3')\n",
      "('sum', 'Q4')\n",
      "('mean', 'Q1')\n",
      "('mean', 'Q2')\n",
      "('mean', 'Q3')\n",
      "('mean', 'Q4')\n",
      "('min', 'Q1')\n",
      "('min', 'Q2')\n",
      "('min', 'Q3')\n",
      "('min', 'Q4')\n",
      "('max', 'Q1')\n",
      "('max', 'Q2')\n",
      "('max', 'Q3')\n",
      "('max', 'Q4')\n",
      "age\n",
      "age-group\n",
      "giftID\n",
      "campaignID\n",
      "amount\n",
      "date\n",
      "Quater\n",
      "has_contributed\n",
      "class_based_on_last_contribution_day\n",
      "class_based_on_num_campaigns\n",
      "class_based_on_Q1_Donations\n",
      "class_based_on_Q2_Donations\n",
      "class_based_on_Q3_Donations\n",
      "class_based_on_Q4_Donations\n",
      "class_based_on_total_amount\n",
      "class_based_on_age\n",
      "class_based_on_age-group\n",
      "class_based_on_('sum', 'Q1')\n",
      "class_based_on_('sum', 'Q2')\n",
      "class_based_on_('sum', 'Q3')\n",
      "class_based_on_('sum', 'Q4')\n",
      "class_based_on_('min', 'Q1')\n",
      "class_based_on_('min', 'Q2')\n",
      "class_based_on_('min', 'Q3')\n",
      "class_based_on_('min', 'Q4')\n",
      "class_based_on_('max', 'Q1')\n",
      "class_based_on_('max', 'Q2')\n",
      "class_based_on_('max', 'Q3')\n",
      "class_based_on_('max', 'Q4')\n",
      "class_based_on_('mean', 'Q1')\n",
      "class_based_on_('mean', 'Q2')\n",
      "class_based_on_('mean', 'Q3')\n",
      "class_based_on_('mean', 'Q4')\n"
     ]
    }
   ],
   "source": [
    "for column in selected_donors[0:]:\n",
    "    print(column)"
   ]
  },
  {
   "cell_type": "code",
   "execution_count": 1159,
   "metadata": {},
   "outputs": [],
   "source": [
    "selected_donors.province = np.where(selected_donors.province == 'ANTWERP', 'Antwerp', selected_donors.province)\n",
    "\n",
    "number_of_cont_per_district = selected_donors.loc[selected_donors['has_contributed'] == 1, :].groupby('province')['donorID'].count()\n",
    "\n",
    "selected_donors = selected_donors.merge(number_of_cont_per_district, left_on = 'province', right_on = 'province', how = 'left')\n"
   ]
  },
  {
   "cell_type": "code",
   "execution_count": 1160,
   "metadata": {},
   "outputs": [
    {
     "name": "stdout",
     "output_type": "stream",
     "text": [
      "       donorID_y class_based_on_donorID_y\n",
      "0            124                        C\n",
      "1            177                        D\n",
      "2             15                        A\n",
      "3            124                        C\n",
      "4             15                        A\n",
      "...          ...                      ...\n",
      "34869        177                        D\n",
      "34870         12                        A\n",
      "34871        124                        C\n",
      "34872        124                        C\n",
      "34873         15                        A\n",
      "\n",
      "[34874 rows x 2 columns]\n"
     ]
    },
    {
     "data": {
      "image/png": "[encoded data removed]",
      "text/plain": [
       "<Figure size 432x288 with 1 Axes>"
      ]
     },
     "metadata": {
      "needs_background": "light"
     },
     "output_type": "display_data"
    }
   ],
   "source": [
    "assignlables_4bins('donorID_y', 40, 80, 130)"
   ]
  },
  {
   "cell_type": "code",
   "execution_count": 1161,
   "metadata": {},
   "outputs": [
    {
     "data": {
      "text/html": [
       "<div>\n",
       "<style scoped>\n",
       "    .dataframe tbody tr th:only-of-type {\n",
       "        vertical-align: middle;\n",
       "    }\n",
       "\n",
       "    .dataframe tbody tr th {\n",
       "        vertical-align: top;\n",
       "    }\n",
       "\n",
       "    .dataframe thead th {\n",
       "        text-align: right;\n",
       "    }\n",
       "</style>\n",
       "<table border=\"1\" class=\"dataframe\">\n",
       "  <thead>\n",
       "    <tr style=\"text-align: right;\">\n",
       "      <th></th>\n",
       "      <th>donorID_x</th>\n",
       "      <th>zipcode</th>\n",
       "      <th>province</th>\n",
       "      <th>region</th>\n",
       "      <th>gender</th>\n",
       "      <th>language</th>\n",
       "      <th>dateOfBirth</th>\n",
       "      <th>number_of_campaigns</th>\n",
       "      <th>total_amount</th>\n",
       "      <th>last_date</th>\n",
       "      <th>...</th>\n",
       "      <th>class_based_on_('max', 'Q1')</th>\n",
       "      <th>class_based_on_('max', 'Q2')</th>\n",
       "      <th>class_based_on_('max', 'Q3')</th>\n",
       "      <th>class_based_on_('max', 'Q4')</th>\n",
       "      <th>class_based_on_('mean', 'Q1')</th>\n",
       "      <th>class_based_on_('mean', 'Q2')</th>\n",
       "      <th>class_based_on_('mean', 'Q3')</th>\n",
       "      <th>class_based_on_('mean', 'Q4')</th>\n",
       "      <th>donorID_y</th>\n",
       "      <th>class_based_on_donorID_y</th>\n",
       "    </tr>\n",
       "  </thead>\n",
       "  <tbody>\n",
       "    <tr>\n",
       "      <th>0</th>\n",
       "      <td>100001</td>\n",
       "      <td>1861.0</td>\n",
       "      <td>Flemish Brabant</td>\n",
       "      <td>Flanders</td>\n",
       "      <td>F</td>\n",
       "      <td>NL</td>\n",
       "      <td>12/24/1967</td>\n",
       "      <td>12.0</td>\n",
       "      <td>178.49</td>\n",
       "      <td>2011-12-30</td>\n",
       "      <td>...</td>\n",
       "      <td>A</td>\n",
       "      <td>A</td>\n",
       "      <td>A</td>\n",
       "      <td>A</td>\n",
       "      <td>A</td>\n",
       "      <td>A</td>\n",
       "      <td>A</td>\n",
       "      <td>A</td>\n",
       "      <td>124</td>\n",
       "      <td>C</td>\n",
       "    </tr>\n",
       "    <tr>\n",
       "      <th>1</th>\n",
       "      <td>100002</td>\n",
       "      <td>2260.0</td>\n",
       "      <td>Antwerp</td>\n",
       "      <td>Flanders</td>\n",
       "      <td>M</td>\n",
       "      <td>NL</td>\n",
       "      <td>01/14/1952</td>\n",
       "      <td>1.0</td>\n",
       "      <td>20.00</td>\n",
       "      <td>2015-01-10</td>\n",
       "      <td>...</td>\n",
       "      <td>A</td>\n",
       "      <td>B</td>\n",
       "      <td>C</td>\n",
       "      <td>B</td>\n",
       "      <td>A</td>\n",
       "      <td>B</td>\n",
       "      <td>B</td>\n",
       "      <td>B</td>\n",
       "      <td>177</td>\n",
       "      <td>D</td>\n",
       "    </tr>\n",
       "    <tr>\n",
       "      <th>2</th>\n",
       "      <td>100004</td>\n",
       "      <td>1020.0</td>\n",
       "      <td>Brussels</td>\n",
       "      <td>Brussels</td>\n",
       "      <td>F</td>\n",
       "      <td>FR</td>\n",
       "      <td>03/29/1952</td>\n",
       "      <td>26.0</td>\n",
       "      <td>716.22</td>\n",
       "      <td>2011-06-03</td>\n",
       "      <td>...</td>\n",
       "      <td>A</td>\n",
       "      <td>A</td>\n",
       "      <td>A</td>\n",
       "      <td>A</td>\n",
       "      <td>A</td>\n",
       "      <td>A</td>\n",
       "      <td>A</td>\n",
       "      <td>A</td>\n",
       "      <td>15</td>\n",
       "      <td>A</td>\n",
       "    </tr>\n",
       "    <tr>\n",
       "      <th>3</th>\n",
       "      <td>100008</td>\n",
       "      <td>1780.0</td>\n",
       "      <td>Flemish Brabant</td>\n",
       "      <td>Flanders</td>\n",
       "      <td>M</td>\n",
       "      <td>FR</td>\n",
       "      <td>08/30/1937</td>\n",
       "      <td>3.0</td>\n",
       "      <td>124.37</td>\n",
       "      <td>2011-10-28</td>\n",
       "      <td>...</td>\n",
       "      <td>C</td>\n",
       "      <td>A</td>\n",
       "      <td>C</td>\n",
       "      <td>A</td>\n",
       "      <td>B</td>\n",
       "      <td>A</td>\n",
       "      <td>B</td>\n",
       "      <td>A</td>\n",
       "      <td>124</td>\n",
       "      <td>C</td>\n",
       "    </tr>\n",
       "    <tr>\n",
       "      <th>4</th>\n",
       "      <td>100009</td>\n",
       "      <td>1020.0</td>\n",
       "      <td>Brussels</td>\n",
       "      <td>Brussels</td>\n",
       "      <td>M</td>\n",
       "      <td>FR</td>\n",
       "      <td>01/20/1932</td>\n",
       "      <td>19.0</td>\n",
       "      <td>326.78</td>\n",
       "      <td>2012-03-25</td>\n",
       "      <td>...</td>\n",
       "      <td>A</td>\n",
       "      <td>A</td>\n",
       "      <td>A</td>\n",
       "      <td>A</td>\n",
       "      <td>A</td>\n",
       "      <td>A</td>\n",
       "      <td>A</td>\n",
       "      <td>A</td>\n",
       "      <td>15</td>\n",
       "      <td>A</td>\n",
       "    </tr>\n",
       "  </tbody>\n",
       "</table>\n",
       "<p>5 rows × 69 columns</p>\n",
       "</div>"
      ],
      "text/plain": [
       "   donorID_x  zipcode         province    region gender language dateOfBirth  \\\n",
       "0     100001   1861.0  Flemish Brabant  Flanders      F       NL  12/24/1967   \n",
       "1     100002   2260.0          Antwerp  Flanders      M       NL  01/14/1952   \n",
       "2     100004   1020.0         Brussels  Brussels      F       FR  03/29/1952   \n",
       "3     100008   1780.0  Flemish Brabant  Flanders      M       FR  08/30/1937   \n",
       "4     100009   1020.0         Brussels  Brussels      M       FR  01/20/1932   \n",
       "\n",
       "   number_of_campaigns  total_amount  last_date  ...  \\\n",
       "0                 12.0        178.49 2011-12-30  ...   \n",
       "1                  1.0         20.00 2015-01-10  ...   \n",
       "2                 26.0        716.22 2011-06-03  ...   \n",
       "3                  3.0        124.37 2011-10-28  ...   \n",
       "4                 19.0        326.78 2012-03-25  ...   \n",
       "\n",
       "   class_based_on_('max', 'Q1')  class_based_on_('max', 'Q2')  \\\n",
       "0                             A                             A   \n",
       "1                             A                             B   \n",
       "2                             A                             A   \n",
       "3                             C                             A   \n",
       "4                             A                             A   \n",
       "\n",
       "   class_based_on_('max', 'Q3')  class_based_on_('max', 'Q4')  \\\n",
       "0                             A                             A   \n",
       "1                             C                             B   \n",
       "2                             A                             A   \n",
       "3                             C                             A   \n",
       "4                             A                             A   \n",
       "\n",
       "   class_based_on_('mean', 'Q1')  class_based_on_('mean', 'Q2')  \\\n",
       "0                              A                              A   \n",
       "1                              A                              B   \n",
       "2                              A                              A   \n",
       "3                              B                              A   \n",
       "4                              A                              A   \n",
       "\n",
       "   class_based_on_('mean', 'Q3')  class_based_on_('mean', 'Q4')  donorID_y  \\\n",
       "0                              A                              A        124   \n",
       "1                              B                              B        177   \n",
       "2                              A                              A         15   \n",
       "3                              B                              A        124   \n",
       "4                              A                              A         15   \n",
       "\n",
       "   class_based_on_donorID_y  \n",
       "0                         C  \n",
       "1                         D  \n",
       "2                         A  \n",
       "3                         C  \n",
       "4                         A  \n",
       "\n",
       "[5 rows x 69 columns]"
      ]
     },
     "execution_count": 1161,
     "metadata": {},
     "output_type": "execute_result"
    }
   ],
   "source": [
    "selected_donors.head()"
   ]
  },
  {
   "cell_type": "code",
   "execution_count": 1162,
   "metadata": {},
   "outputs": [
    {
     "name": "stdout",
     "output_type": "stream",
     "text": [
      "<class 'pandas.core.frame.DataFrame'>\n",
      "Int64Index: 34874 entries, 0 to 34873\n",
      "Data columns (total 70 columns):\n",
      " #   Column                                Non-Null Count  Dtype         \n",
      "---  ------                                --------------  -----         \n",
      " 0   donorID_x                             34874 non-null  int64         \n",
      " 1   zipcode                               34874 non-null  float64       \n",
      " 2   province                              34874 non-null  object        \n",
      " 3   region                                34874 non-null  object        \n",
      " 4   gender                                34874 non-null  object        \n",
      " 5   language                              34874 non-null  object        \n",
      " 6   dateOfBirth                           34874 non-null  object        \n",
      " 7   number_of_campaigns                   34869 non-null  float64       \n",
      " 8   total_amount                          34869 non-null  float64       \n",
      " 9   last_date                             34869 non-null  datetime64[ns]\n",
      " 10  Q1_Donations                          18769 non-null  float64       \n",
      " 11  Q2_Donations                          18686 non-null  float64       \n",
      " 12  Q3_Donations                          13955 non-null  float64       \n",
      " 13  Q4_Donations                          17576 non-null  float64       \n",
      " 14  days_since_contributed                34869 non-null  float64       \n",
      " 15  mean                                  34869 non-null  float64       \n",
      " 16  min                                   34869 non-null  float64       \n",
      " 17  max                                   34869 non-null  float64       \n",
      " 18  (sum, Q1)                             18769 non-null  float64       \n",
      " 19  (sum, Q2)                             18686 non-null  float64       \n",
      " 20  (sum, Q3)                             13955 non-null  float64       \n",
      " 21  (sum, Q4)                             17576 non-null  float64       \n",
      " 22  (mean, Q1)                            18769 non-null  float64       \n",
      " 23  (mean, Q2)                            18686 non-null  float64       \n",
      " 24  (mean, Q3)                            13955 non-null  float64       \n",
      " 25  (mean, Q4)                            17576 non-null  float64       \n",
      " 26  (min, Q1)                             18769 non-null  float64       \n",
      " 27  (min, Q2)                             18686 non-null  float64       \n",
      " 28  (min, Q3)                             13955 non-null  float64       \n",
      " 29  (min, Q4)                             17576 non-null  float64       \n",
      " 30  (max, Q1)                             18769 non-null  float64       \n",
      " 31  (max, Q2)                             18686 non-null  float64       \n",
      " 32  (max, Q3)                             13955 non-null  float64       \n",
      " 33  (max, Q4)                             17576 non-null  float64       \n",
      " 34  age                                   34874 non-null  int64         \n",
      " 35  age-group                             34874 non-null  int64         \n",
      " 36  giftID                                1177 non-null   float64       \n",
      " 37  campaignID                            1177 non-null   float64       \n",
      " 38  amount                                1177 non-null   float64       \n",
      " 39  date                                  1177 non-null   datetime64[ns]\n",
      " 40  Quater                                1177 non-null   object        \n",
      " 41  has_contributed                       34874 non-null  int32         \n",
      " 42  class_based_on_last_contribution_day  34874 non-null  object        \n",
      " 43  class_based_on_num_campaigns          34874 non-null  object        \n",
      " 44  class_based_on_Q1_Donations           34874 non-null  object        \n",
      " 45  class_based_on_Q2_Donations           34874 non-null  object        \n",
      " 46  class_based_on_Q3_Donations           34874 non-null  object        \n",
      " 47  class_based_on_Q4_Donations           34874 non-null  object        \n",
      " 48  class_based_on_total_amount           34874 non-null  object        \n",
      " 49  class_based_on_age                    34874 non-null  object        \n",
      " 50  class_based_on_age-group              34874 non-null  object        \n",
      " 51  class_based_on_('sum', 'Q1')          34874 non-null  object        \n",
      " 52  class_based_on_('sum', 'Q2')          34874 non-null  object        \n",
      " 53  class_based_on_('sum', 'Q3')          34874 non-null  object        \n",
      " 54  class_based_on_('sum', 'Q4')          34874 non-null  object        \n",
      " 55  class_based_on_('min', 'Q1')          34874 non-null  object        \n",
      " 56  class_based_on_('min', 'Q2')          34874 non-null  object        \n",
      " 57  class_based_on_('min', 'Q3')          34874 non-null  object        \n",
      " 58  class_based_on_('min', 'Q4')          34874 non-null  object        \n",
      " 59  class_based_on_('max', 'Q1')          34874 non-null  object        \n",
      " 60  class_based_on_('max', 'Q2')          34874 non-null  object        \n",
      " 61  class_based_on_('max', 'Q3')          34874 non-null  object        \n",
      " 62  class_based_on_('max', 'Q4')          34874 non-null  object        \n",
      " 63  class_based_on_('mean', 'Q1')         34874 non-null  object        \n",
      " 64  class_based_on_('mean', 'Q2')         34874 non-null  object        \n",
      " 65  class_based_on_('mean', 'Q3')         34874 non-null  object        \n",
      " 66  class_based_on_('mean', 'Q4')         34874 non-null  object        \n",
      " 67  donorID_y                             34874 non-null  int64         \n",
      " 68  class_based_on_donorID_y              34874 non-null  object        \n",
      " 69  class_based_on_region                 34874 non-null  object        \n",
      "dtypes: datetime64[ns](2), float64(30), int32(1), int64(4), object(33)\n",
      "memory usage: 18.8+ MB\n"
     ]
    }
   ],
   "source": [
    "selected_donors['class_based_on_region'] = np.where(selected_donors.region == 'Flanders', 'A', np.where(selected_donors.region == 'Wallonia', 'B', np.where(selected_donors.region == 'Brussels', 'C', 'D')))\n",
    "\n",
    "selected_donors.info()"
   ]
  },
  {
   "cell_type": "code",
   "execution_count": 1163,
   "metadata": {},
   "outputs": [
    {
     "data": {
      "text/plain": [
       "language\n",
       "EN      1\n",
       "FR     42\n",
       "NL    691\n",
       "Name: donorID_y, dtype: int64"
      ]
     },
     "execution_count": 1163,
     "metadata": {},
     "output_type": "execute_result"
    }
   ],
   "source": [
    "number_of_cont_per_language = selected_donors.loc[selected_donors['has_contributed'] == 1, :].groupby('language')['donorID_y'].count()\n",
    "number_of_cont_per_language"
   ]
  },
  {
   "cell_type": "code",
   "execution_count": 1164,
   "metadata": {},
   "outputs": [
    {
     "name": "stdout",
     "output_type": "stream",
     "text": [
      "<class 'pandas.core.frame.DataFrame'>\n",
      "Int64Index: 34874 entries, 0 to 34873\n",
      "Data columns (total 70 columns):\n",
      " #   Column                                Non-Null Count  Dtype         \n",
      "---  ------                                --------------  -----         \n",
      " 0   donorID_x                             34874 non-null  int64         \n",
      " 1   zipcode                               34874 non-null  float64       \n",
      " 2   province                              34874 non-null  object        \n",
      " 3   region                                34874 non-null  object        \n",
      " 4   gender                                34874 non-null  object        \n",
      " 5   language                              34874 non-null  object        \n",
      " 6   dateOfBirth                           34874 non-null  object        \n",
      " 7   number_of_campaigns                   34869 non-null  float64       \n",
      " 8   total_amount                          34869 non-null  float64       \n",
      " 9   last_date                             34869 non-null  datetime64[ns]\n",
      " 10  Q1_Donations                          18769 non-null  float64       \n",
      " 11  Q2_Donations                          18686 non-null  float64       \n",
      " 12  Q3_Donations                          13955 non-null  float64       \n",
      " 13  Q4_Donations                          17576 non-null  float64       \n",
      " 14  days_since_contributed                34869 non-null  float64       \n",
      " 15  mean                                  34869 non-null  float64       \n",
      " 16  min                                   34869 non-null  float64       \n",
      " 17  max                                   34869 non-null  float64       \n",
      " 18  (sum, Q1)                             18769 non-null  float64       \n",
      " 19  (sum, Q2)                             18686 non-null  float64       \n",
      " 20  (sum, Q3)                             13955 non-null  float64       \n",
      " 21  (sum, Q4)                             17576 non-null  float64       \n",
      " 22  (mean, Q1)                            18769 non-null  float64       \n",
      " 23  (mean, Q2)                            18686 non-null  float64       \n",
      " 24  (mean, Q3)                            13955 non-null  float64       \n",
      " 25  (mean, Q4)                            17576 non-null  float64       \n",
      " 26  (min, Q1)                             18769 non-null  float64       \n",
      " 27  (min, Q2)                             18686 non-null  float64       \n",
      " 28  (min, Q3)                             13955 non-null  float64       \n",
      " 29  (min, Q4)                             17576 non-null  float64       \n",
      " 30  (max, Q1)                             18769 non-null  float64       \n",
      " 31  (max, Q2)                             18686 non-null  float64       \n",
      " 32  (max, Q3)                             13955 non-null  float64       \n",
      " 33  (max, Q4)                             17576 non-null  float64       \n",
      " 34  age                                   34874 non-null  int64         \n",
      " 35  age-group                             34874 non-null  int64         \n",
      " 36  giftID                                1177 non-null   float64       \n",
      " 37  campaignID                            1177 non-null   float64       \n",
      " 38  amount                                1177 non-null   float64       \n",
      " 39  date                                  1177 non-null   datetime64[ns]\n",
      " 40  Quater                                1177 non-null   object        \n",
      " 41  has_contributed                       34874 non-null  int32         \n",
      " 42  class_based_on_last_contribution_day  34874 non-null  object        \n",
      " 43  class_based_on_num_campaigns          34874 non-null  object        \n",
      " 44  class_based_on_Q1_Donations           34874 non-null  object        \n",
      " 45  class_based_on_Q2_Donations           34874 non-null  object        \n",
      " 46  class_based_on_Q3_Donations           34874 non-null  object        \n",
      " 47  class_based_on_Q4_Donations           34874 non-null  object        \n",
      " 48  class_based_on_total_amount           34874 non-null  object        \n",
      " 49  class_based_on_age                    34874 non-null  object        \n",
      " 50  class_based_on_age-group              34874 non-null  object        \n",
      " 51  class_based_on_('sum', 'Q1')          34874 non-null  object        \n",
      " 52  class_based_on_('sum', 'Q2')          34874 non-null  object        \n",
      " 53  class_based_on_('sum', 'Q3')          34874 non-null  object        \n",
      " 54  class_based_on_('sum', 'Q4')          34874 non-null  object        \n",
      " 55  class_based_on_('min', 'Q1')          34874 non-null  object        \n",
      " 56  class_based_on_('min', 'Q2')          34874 non-null  object        \n",
      " 57  class_based_on_('min', 'Q3')          34874 non-null  object        \n",
      " 58  class_based_on_('min', 'Q4')          34874 non-null  object        \n",
      " 59  class_based_on_('max', 'Q1')          34874 non-null  object        \n",
      " 60  class_based_on_('max', 'Q2')          34874 non-null  object        \n",
      " 61  class_based_on_('max', 'Q3')          34874 non-null  object        \n",
      " 62  class_based_on_('max', 'Q4')          34874 non-null  object        \n",
      " 63  class_based_on_('mean', 'Q1')         34874 non-null  object        \n",
      " 64  class_based_on_('mean', 'Q2')         34874 non-null  object        \n",
      " 65  class_based_on_('mean', 'Q3')         34874 non-null  object        \n",
      " 66  class_based_on_('mean', 'Q4')         34874 non-null  object        \n",
      " 67  donorID_y                             34874 non-null  int64         \n",
      " 68  class_based_on_donorID_y              34874 non-null  object        \n",
      " 69  class_based_on_region                 34874 non-null  object        \n",
      "dtypes: datetime64[ns](2), float64(30), int32(1), int64(4), object(33)\n",
      "memory usage: 18.8+ MB\n"
     ]
    }
   ],
   "source": [
    "selected_donors['language'] = np.where(selected_donors.language == 'EN', 'C', np.where(selected_donors.language == 'FR', 'B','A'))\n",
    "\n",
    "selected_donors.info()"
   ]
  },
  {
   "cell_type": "code",
   "execution_count": 1165,
   "metadata": {},
   "outputs": [
    {
     "name": "stdout",
     "output_type": "stream",
     "text": [
      "   donorID_x  zipcode         province    region gender language  \\\n",
      "0     100001   1861.0  Flemish Brabant  Flanders      F        A   \n",
      "1     100002   2260.0          Antwerp  Flanders      M        A   \n",
      "2     100004   1020.0         Brussels  Brussels      F        B   \n",
      "3     100008   1780.0  Flemish Brabant  Flanders      M        B   \n",
      "4     100009   1020.0         Brussels  Brussels      M        B   \n",
      "\n",
      "   number_of_campaigns  total_amount  Q1_Donations  Q2_Donations  ...  \\\n",
      "0                 12.0        178.49           3.0           3.0  ...   \n",
      "1                  1.0         20.00           1.0           NaN  ...   \n",
      "2                 26.0        716.22           8.0           4.0  ...   \n",
      "3                  3.0        124.37           NaN           1.0  ...   \n",
      "4                 19.0        326.78           5.0           4.0  ...   \n",
      "\n",
      "   class_based_on_('max', 'Q2')  class_based_on_('max', 'Q3')  \\\n",
      "0                             A                             A   \n",
      "1                             B                             C   \n",
      "2                             A                             A   \n",
      "3                             A                             C   \n",
      "4                             A                             A   \n",
      "\n",
      "   class_based_on_('max', 'Q4')  class_based_on_('mean', 'Q1')  \\\n",
      "0                             A                              A   \n",
      "1                             B                              A   \n",
      "2                             A                              A   \n",
      "3                             A                              B   \n",
      "4                             A                              A   \n",
      "\n",
      "   class_based_on_('mean', 'Q2')  class_based_on_('mean', 'Q3')  \\\n",
      "0                              A                              A   \n",
      "1                              B                              B   \n",
      "2                              A                              A   \n",
      "3                              A                              B   \n",
      "4                              A                              A   \n",
      "\n",
      "   class_based_on_('mean', 'Q4')  donorID_y  class_based_on_donorID_y  \\\n",
      "0                              A        124                         C   \n",
      "1                              B        177                         D   \n",
      "2                              A         15                         A   \n",
      "3                              A        124                         C   \n",
      "4                              A         15                         A   \n",
      "\n",
      "   class_based_on_region  \n",
      "0                      A  \n",
      "1                      A  \n",
      "2                      C  \n",
      "3                      A  \n",
      "4                      C  \n",
      "\n",
      "[5 rows x 66 columns]\n"
     ]
    },
    {
     "data": {
      "text/html": [
       "<div>\n",
       "<style scoped>\n",
       "    .dataframe tbody tr th:only-of-type {\n",
       "        vertical-align: middle;\n",
       "    }\n",
       "\n",
       "    .dataframe tbody tr th {\n",
       "        vertical-align: top;\n",
       "    }\n",
       "\n",
       "    .dataframe thead th {\n",
       "        text-align: right;\n",
       "    }\n",
       "</style>\n",
       "<table border=\"1\" class=\"dataframe\">\n",
       "  <thead>\n",
       "    <tr style=\"text-align: right;\">\n",
       "      <th></th>\n",
       "      <th>donorID_x</th>\n",
       "      <th>zipcode</th>\n",
       "      <th>province</th>\n",
       "      <th>region</th>\n",
       "      <th>gender</th>\n",
       "      <th>language</th>\n",
       "      <th>number_of_campaigns</th>\n",
       "      <th>total_amount</th>\n",
       "      <th>Q1_Donations</th>\n",
       "      <th>Q2_Donations</th>\n",
       "      <th>...</th>\n",
       "      <th>class_based_on_('max', 'Q2')</th>\n",
       "      <th>class_based_on_('max', 'Q3')</th>\n",
       "      <th>class_based_on_('max', 'Q4')</th>\n",
       "      <th>class_based_on_('mean', 'Q1')</th>\n",
       "      <th>class_based_on_('mean', 'Q2')</th>\n",
       "      <th>class_based_on_('mean', 'Q3')</th>\n",
       "      <th>class_based_on_('mean', 'Q4')</th>\n",
       "      <th>donorID_y</th>\n",
       "      <th>class_based_on_donorID_y</th>\n",
       "      <th>class_based_on_region</th>\n",
       "    </tr>\n",
       "  </thead>\n",
       "  <tbody>\n",
       "    <tr>\n",
       "      <th>0</th>\n",
       "      <td>100001</td>\n",
       "      <td>1861.0</td>\n",
       "      <td>3</td>\n",
       "      <td>1</td>\n",
       "      <td>0</td>\n",
       "      <td>0</td>\n",
       "      <td>12.0</td>\n",
       "      <td>178.49</td>\n",
       "      <td>3.0</td>\n",
       "      <td>3.0</td>\n",
       "      <td>...</td>\n",
       "      <td>0</td>\n",
       "      <td>0</td>\n",
       "      <td>0</td>\n",
       "      <td>0</td>\n",
       "      <td>0</td>\n",
       "      <td>0</td>\n",
       "      <td>0</td>\n",
       "      <td>124</td>\n",
       "      <td>2</td>\n",
       "      <td>0</td>\n",
       "    </tr>\n",
       "    <tr>\n",
       "      <th>1</th>\n",
       "      <td>100002</td>\n",
       "      <td>2260.0</td>\n",
       "      <td>0</td>\n",
       "      <td>1</td>\n",
       "      <td>1</td>\n",
       "      <td>0</td>\n",
       "      <td>1.0</td>\n",
       "      <td>20.00</td>\n",
       "      <td>1.0</td>\n",
       "      <td>0.0</td>\n",
       "      <td>...</td>\n",
       "      <td>1</td>\n",
       "      <td>2</td>\n",
       "      <td>1</td>\n",
       "      <td>0</td>\n",
       "      <td>1</td>\n",
       "      <td>1</td>\n",
       "      <td>1</td>\n",
       "      <td>177</td>\n",
       "      <td>3</td>\n",
       "      <td>0</td>\n",
       "    </tr>\n",
       "    <tr>\n",
       "      <th>2</th>\n",
       "      <td>100004</td>\n",
       "      <td>1020.0</td>\n",
       "      <td>1</td>\n",
       "      <td>0</td>\n",
       "      <td>0</td>\n",
       "      <td>1</td>\n",
       "      <td>26.0</td>\n",
       "      <td>716.22</td>\n",
       "      <td>8.0</td>\n",
       "      <td>4.0</td>\n",
       "      <td>...</td>\n",
       "      <td>0</td>\n",
       "      <td>0</td>\n",
       "      <td>0</td>\n",
       "      <td>0</td>\n",
       "      <td>0</td>\n",
       "      <td>0</td>\n",
       "      <td>0</td>\n",
       "      <td>15</td>\n",
       "      <td>0</td>\n",
       "      <td>2</td>\n",
       "    </tr>\n",
       "    <tr>\n",
       "      <th>3</th>\n",
       "      <td>100008</td>\n",
       "      <td>1780.0</td>\n",
       "      <td>3</td>\n",
       "      <td>1</td>\n",
       "      <td>1</td>\n",
       "      <td>1</td>\n",
       "      <td>3.0</td>\n",
       "      <td>124.37</td>\n",
       "      <td>0.0</td>\n",
       "      <td>1.0</td>\n",
       "      <td>...</td>\n",
       "      <td>0</td>\n",
       "      <td>2</td>\n",
       "      <td>0</td>\n",
       "      <td>1</td>\n",
       "      <td>0</td>\n",
       "      <td>1</td>\n",
       "      <td>0</td>\n",
       "      <td>124</td>\n",
       "      <td>2</td>\n",
       "      <td>0</td>\n",
       "    </tr>\n",
       "    <tr>\n",
       "      <th>4</th>\n",
       "      <td>100009</td>\n",
       "      <td>1020.0</td>\n",
       "      <td>1</td>\n",
       "      <td>0</td>\n",
       "      <td>1</td>\n",
       "      <td>1</td>\n",
       "      <td>19.0</td>\n",
       "      <td>326.78</td>\n",
       "      <td>5.0</td>\n",
       "      <td>4.0</td>\n",
       "      <td>...</td>\n",
       "      <td>0</td>\n",
       "      <td>0</td>\n",
       "      <td>0</td>\n",
       "      <td>0</td>\n",
       "      <td>0</td>\n",
       "      <td>0</td>\n",
       "      <td>0</td>\n",
       "      <td>15</td>\n",
       "      <td>0</td>\n",
       "      <td>2</td>\n",
       "    </tr>\n",
       "    <tr>\n",
       "      <th>...</th>\n",
       "      <td>...</td>\n",
       "      <td>...</td>\n",
       "      <td>...</td>\n",
       "      <td>...</td>\n",
       "      <td>...</td>\n",
       "      <td>...</td>\n",
       "      <td>...</td>\n",
       "      <td>...</td>\n",
       "      <td>...</td>\n",
       "      <td>...</td>\n",
       "      <td>...</td>\n",
       "      <td>...</td>\n",
       "      <td>...</td>\n",
       "      <td>...</td>\n",
       "      <td>...</td>\n",
       "      <td>...</td>\n",
       "      <td>...</td>\n",
       "      <td>...</td>\n",
       "      <td>...</td>\n",
       "      <td>...</td>\n",
       "      <td>...</td>\n",
       "    </tr>\n",
       "    <tr>\n",
       "      <th>34869</th>\n",
       "      <td>144686</td>\n",
       "      <td>2440.0</td>\n",
       "      <td>0</td>\n",
       "      <td>1</td>\n",
       "      <td>0</td>\n",
       "      <td>0</td>\n",
       "      <td>1.0</td>\n",
       "      <td>50.00</td>\n",
       "      <td>0.0</td>\n",
       "      <td>1.0</td>\n",
       "      <td>...</td>\n",
       "      <td>0</td>\n",
       "      <td>2</td>\n",
       "      <td>1</td>\n",
       "      <td>1</td>\n",
       "      <td>0</td>\n",
       "      <td>1</td>\n",
       "      <td>1</td>\n",
       "      <td>177</td>\n",
       "      <td>3</td>\n",
       "      <td>0</td>\n",
       "    </tr>\n",
       "    <tr>\n",
       "      <th>34870</th>\n",
       "      <td>144687</td>\n",
       "      <td>4900.0</td>\n",
       "      <td>5</td>\n",
       "      <td>3</td>\n",
       "      <td>1</td>\n",
       "      <td>1</td>\n",
       "      <td>1.0</td>\n",
       "      <td>10.00</td>\n",
       "      <td>0.0</td>\n",
       "      <td>0.0</td>\n",
       "      <td>...</td>\n",
       "      <td>1</td>\n",
       "      <td>2</td>\n",
       "      <td>0</td>\n",
       "      <td>1</td>\n",
       "      <td>1</td>\n",
       "      <td>1</td>\n",
       "      <td>0</td>\n",
       "      <td>12</td>\n",
       "      <td>0</td>\n",
       "      <td>1</td>\n",
       "    </tr>\n",
       "    <tr>\n",
       "      <th>34871</th>\n",
       "      <td>144689</td>\n",
       "      <td>3061.0</td>\n",
       "      <td>3</td>\n",
       "      <td>1</td>\n",
       "      <td>1</td>\n",
       "      <td>0</td>\n",
       "      <td>2.0</td>\n",
       "      <td>124.79</td>\n",
       "      <td>0.0</td>\n",
       "      <td>1.0</td>\n",
       "      <td>...</td>\n",
       "      <td>0</td>\n",
       "      <td>0</td>\n",
       "      <td>1</td>\n",
       "      <td>1</td>\n",
       "      <td>0</td>\n",
       "      <td>0</td>\n",
       "      <td>1</td>\n",
       "      <td>124</td>\n",
       "      <td>2</td>\n",
       "      <td>0</td>\n",
       "    </tr>\n",
       "    <tr>\n",
       "      <th>34872</th>\n",
       "      <td>144690</td>\n",
       "      <td>1950.0</td>\n",
       "      <td>3</td>\n",
       "      <td>1</td>\n",
       "      <td>1</td>\n",
       "      <td>1</td>\n",
       "      <td>1.0</td>\n",
       "      <td>40.00</td>\n",
       "      <td>0.0</td>\n",
       "      <td>0.0</td>\n",
       "      <td>...</td>\n",
       "      <td>1</td>\n",
       "      <td>2</td>\n",
       "      <td>0</td>\n",
       "      <td>1</td>\n",
       "      <td>1</td>\n",
       "      <td>1</td>\n",
       "      <td>0</td>\n",
       "      <td>124</td>\n",
       "      <td>2</td>\n",
       "      <td>0</td>\n",
       "    </tr>\n",
       "    <tr>\n",
       "      <th>34873</th>\n",
       "      <td>144691</td>\n",
       "      <td>1160.0</td>\n",
       "      <td>1</td>\n",
       "      <td>0</td>\n",
       "      <td>1</td>\n",
       "      <td>1</td>\n",
       "      <td>1.0</td>\n",
       "      <td>39.00</td>\n",
       "      <td>0.0</td>\n",
       "      <td>0.0</td>\n",
       "      <td>...</td>\n",
       "      <td>1</td>\n",
       "      <td>2</td>\n",
       "      <td>0</td>\n",
       "      <td>1</td>\n",
       "      <td>1</td>\n",
       "      <td>1</td>\n",
       "      <td>0</td>\n",
       "      <td>15</td>\n",
       "      <td>0</td>\n",
       "      <td>2</td>\n",
       "    </tr>\n",
       "  </tbody>\n",
       "</table>\n",
       "<p>34874 rows × 66 columns</p>\n",
       "</div>"
      ],
      "text/plain": [
       "       donorID_x  zipcode  province  region  gender  language  \\\n",
       "0         100001   1861.0         3       1       0         0   \n",
       "1         100002   2260.0         0       1       1         0   \n",
       "2         100004   1020.0         1       0       0         1   \n",
       "3         100008   1780.0         3       1       1         1   \n",
       "4         100009   1020.0         1       0       1         1   \n",
       "...          ...      ...       ...     ...     ...       ...   \n",
       "34869     144686   2440.0         0       1       0         0   \n",
       "34870     144687   4900.0         5       3       1         1   \n",
       "34871     144689   3061.0         3       1       1         0   \n",
       "34872     144690   1950.0         3       1       1         1   \n",
       "34873     144691   1160.0         1       0       1         1   \n",
       "\n",
       "       number_of_campaigns  total_amount  Q1_Donations  Q2_Donations  ...  \\\n",
       "0                     12.0        178.49           3.0           3.0  ...   \n",
       "1                      1.0         20.00           1.0           0.0  ...   \n",
       "2                     26.0        716.22           8.0           4.0  ...   \n",
       "3                      3.0        124.37           0.0           1.0  ...   \n",
       "4                     19.0        326.78           5.0           4.0  ...   \n",
       "...                    ...           ...           ...           ...  ...   \n",
       "34869                  1.0         50.00           0.0           1.0  ...   \n",
       "34870                  1.0         10.00           0.0           0.0  ...   \n",
       "34871                  2.0        124.79           0.0           1.0  ...   \n",
       "34872                  1.0         40.00           0.0           0.0  ...   \n",
       "34873                  1.0         39.00           0.0           0.0  ...   \n",
       "\n",
       "       class_based_on_('max', 'Q2')  class_based_on_('max', 'Q3')  \\\n",
       "0                                 0                             0   \n",
       "1                                 1                             2   \n",
       "2                                 0                             0   \n",
       "3                                 0                             2   \n",
       "4                                 0                             0   \n",
       "...                             ...                           ...   \n",
       "34869                             0                             2   \n",
       "34870                             1                             2   \n",
       "34871                             0                             0   \n",
       "34872                             1                             2   \n",
       "34873                             1                             2   \n",
       "\n",
       "       class_based_on_('max', 'Q4')  class_based_on_('mean', 'Q1')  \\\n",
       "0                                 0                              0   \n",
       "1                                 1                              0   \n",
       "2                                 0                              0   \n",
       "3                                 0                              1   \n",
       "4                                 0                              0   \n",
       "...                             ...                            ...   \n",
       "34869                             1                              1   \n",
       "34870                             0                              1   \n",
       "34871                             1                              1   \n",
       "34872                             0                              1   \n",
       "34873                             0                              1   \n",
       "\n",
       "       class_based_on_('mean', 'Q2')  class_based_on_('mean', 'Q3')  \\\n",
       "0                                  0                              0   \n",
       "1                                  1                              1   \n",
       "2                                  0                              0   \n",
       "3                                  0                              1   \n",
       "4                                  0                              0   \n",
       "...                              ...                            ...   \n",
       "34869                              0                              1   \n",
       "34870                              1                              1   \n",
       "34871                              0                              0   \n",
       "34872                              1                              1   \n",
       "34873                              1                              1   \n",
       "\n",
       "       class_based_on_('mean', 'Q4')  donorID_y  class_based_on_donorID_y  \\\n",
       "0                                  0        124                         2   \n",
       "1                                  1        177                         3   \n",
       "2                                  0         15                         0   \n",
       "3                                  0        124                         2   \n",
       "4                                  0         15                         0   \n",
       "...                              ...        ...                       ...   \n",
       "34869                              1        177                         3   \n",
       "34870                              0         12                         0   \n",
       "34871                              1        124                         2   \n",
       "34872                              0        124                         2   \n",
       "34873                              0         15                         0   \n",
       "\n",
       "       class_based_on_region  \n",
       "0                          0  \n",
       "1                          0  \n",
       "2                          2  \n",
       "3                          0  \n",
       "4                          2  \n",
       "...                      ...  \n",
       "34869                      0  \n",
       "34870                      1  \n",
       "34871                      0  \n",
       "34872                      0  \n",
       "34873                      2  \n",
       "\n",
       "[34874 rows x 66 columns]"
      ]
     },
     "execution_count": 1165,
     "metadata": {},
     "output_type": "execute_result"
    }
   ],
   "source": [
    "from sklearn.preprocessing import LabelEncoder\n",
    "X =  selected_donors.drop({'has_contributed','last_date', 'dateOfBirth', 'date'}, axis = 1)\n",
    "print(X.head())\n",
    "encoder = LabelEncoder()\n",
    "for column in X.columns[0:]:\n",
    "    if X[column].dtype == object:\n",
    "        X[column] = encoder.fit_transform(X[column])\n",
    "\n",
    "X.fillna(0)\n"
   ]
  },
  {
   "cell_type": "code",
   "execution_count": 1170,
   "metadata": {},
   "outputs": [
    {
     "data": {
      "text/plain": [
       "0"
      ]
     },
     "execution_count": 1170,
     "metadata": {},
     "output_type": "execute_result"
    }
   ],
   "source": [
    "X = X.fillna(0.0)\n",
    "X.isna().sum().sum()"
   ]
  },
  {
   "cell_type": "code",
   "execution_count": null,
   "metadata": {},
   "outputs": [],
   "source": []
  },
  {
   "cell_type": "code",
   "execution_count": 1180,
   "metadata": {},
   "outputs": [
    {
     "name": "stderr",
     "output_type": "stream",
     "text": [
      "C:\\tools\\Anaconda3\\lib\\site-packages\\sklearn\\utils\\validation.py:1673: FutureWarning: Feature names only support names that are all strings. Got feature names with dtypes: ['str', 'tuple']. An error will be raised in 1.2.\n",
      "  warnings.warn(\n",
      "C:\\tools\\Anaconda3\\lib\\site-packages\\sklearn\\linear_model\\_logistic.py:814: ConvergenceWarning: lbfgs failed to converge (status=1):\n",
      "STOP: TOTAL NO. of ITERATIONS REACHED LIMIT.\n",
      "\n",
      "Increase the number of iterations (max_iter) or scale the data as shown in:\n",
      "    https://scikit-learn.org/stable/modules/preprocessing.html\n",
      "Please also refer to the documentation for alternative solver options:\n",
      "    https://scikit-learn.org/stable/modules/linear_model.html#logistic-regression\n",
      "  n_iter_i = _check_optimize_result(\n",
      "C:\\tools\\Anaconda3\\lib\\site-packages\\sklearn\\utils\\validation.py:1673: FutureWarning: Feature names only support names that are all strings. Got feature names with dtypes: ['str', 'tuple']. An error will be raised in 1.2.\n",
      "  warnings.warn(\n",
      "C:\\tools\\Anaconda3\\lib\\site-packages\\sklearn\\utils\\validation.py:1673: FutureWarning: Feature names only support names that are all strings. Got feature names with dtypes: ['str', 'tuple']. An error will be raised in 1.2.\n",
      "  warnings.warn(\n"
     ]
    },
    {
     "data": {
      "text/plain": [
       "{'logreg': {'Acc_train': 0.9795993609438368, 'Acc_test': 0.9774443276306987}}"
      ]
     },
     "execution_count": 1180,
     "metadata": {},
     "output_type": "execute_result"
    }
   ],
   "source": [
    "from sklearn.linear_model import LogisticRegression\n",
    "from sklearn.model_selection import train_test_split\n",
    "from sklearn.metrics import accuracy_score\n",
    "from sklearn.metrics import roc_auc_score\n",
    "\n",
    "y = selected_donors['has_contributed']\n",
    "logreg = LogisticRegression(random_state=0, max_iter=1)\n",
    "    # split in train and test data\n",
    "X_train, X_test, y_train, y_test = train_test_split(X, y, test_size=0.3, random_state=42)\n",
    "\n",
    "logreg.fit(X_train, y_train)\n",
    "\n",
    "# predict probabilities\n",
    "pred_train = logreg.predict(X_train)\n",
    "pred_test = logreg.predict(X_test)\n",
    "\n",
    "# evaluate predictions\n",
    "mlp_acc_train = accuracy_score(y_train, pred_train)\n",
    "mlp_acc_test = accuracy_score(y_test, pred_test)\n",
    "\n",
    "eval_dict = {\"logreg\": {\"Acc_train\": mlp_acc_train, \"Acc_test\": mlp_acc_test}}\n",
    "eval_dict\n"
   ]
  },
  {
   "cell_type": "code",
   "execution_count": 1174,
   "metadata": {},
   "outputs": [
    {
     "name": "stderr",
     "output_type": "stream",
     "text": [
      "C:\\tools\\Anaconda3\\lib\\site-packages\\sklearn\\utils\\validation.py:1673: FutureWarning: Feature names only support names that are all strings. Got feature names with dtypes: ['str', 'tuple']. An error will be raised in 1.2.\n",
      "  warnings.warn(\n"
     ]
    },
    {
     "data": {
      "text/plain": [
       "0.9991873690811939"
      ]
     },
     "execution_count": 1174,
     "metadata": {},
     "output_type": "execute_result"
    }
   ],
   "source": [
    "from sklearn.metrics import roc_auc_score\n",
    "roc_auc_score(y_test, logreg.predict_proba(X_test)[:, 1])"
   ]
  },
  {
   "cell_type": "code",
   "execution_count": 1182,
   "metadata": {},
   "outputs": [
    {
     "name": "stderr",
     "output_type": "stream",
     "text": [
      "C:\\tools\\Anaconda3\\lib\\site-packages\\sklearn\\utils\\validation.py:1673: FutureWarning: Feature names only support names that are all strings. Got feature names with dtypes: ['str', 'tuple']. An error will be raised in 1.2.\n",
      "  warnings.warn(\n",
      "C:\\tools\\Anaconda3\\lib\\site-packages\\sklearn\\utils\\validation.py:1673: FutureWarning: Feature names only support names that are all strings. Got feature names with dtypes: ['str', 'tuple']. An error will be raised in 1.2.\n",
      "  warnings.warn(\n",
      "C:\\tools\\Anaconda3\\lib\\site-packages\\sklearn\\utils\\validation.py:1673: FutureWarning: Feature names only support names that are all strings. Got feature names with dtypes: ['str', 'tuple']. An error will be raised in 1.2.\n",
      "  warnings.warn(\n"
     ]
    },
    {
     "data": {
      "text/plain": [
       "{'NN': {'Acc_train': 0.9870963116957597, 'Acc_test': 0.9881003584229391}}"
      ]
     },
     "execution_count": 1182,
     "metadata": {},
     "output_type": "execute_result"
    }
   ],
   "source": [
    "import pandas as pd\n",
    "from sklearn.model_selection import train_test_split\n",
    "from sklearn.neural_network import MLPClassifier\n",
    "from sklearn.metrics import accuracy_score\n",
    "\n",
    "\n",
    "\n",
    "X_train, X_test, y_train, y_test = train_test_split(\n",
    "        X, y, test_size=0.2, stratify=y, random_state=42\n",
    "    )\n",
    "    # Neural Network\n",
    "mlp = MLPClassifier(\n",
    "        hidden_layer_sizes=(32, 16, 16),\n",
    "        batch_size=32,\n",
    "        early_stopping=False,\n",
    "        random_state=42,\n",
    "    )\n",
    "mlp = mlp.fit(X_train, y_train)\n",
    "\n",
    "    # predict probabilities\n",
    "pred_train = mlp.predict(X_train)\n",
    "pred_test = mlp.predict(X_test)\n",
    "\n",
    "    # evaluate predictions\n",
    "mlp_acc_train = accuracy_score(y_train, pred_train)\n",
    "mlp_acc_test = accuracy_score(y_test, pred_test)\n",
    "\n",
    "eval_dict = {\"NN\": {\"Acc_train\": mlp_acc_train, \"Acc_test\": mlp_acc_test}}\n",
    "eval_dict"
   ]
  },
  {
   "cell_type": "code",
   "execution_count": 1184,
   "metadata": {},
   "outputs": [
    {
     "name": "stderr",
     "output_type": "stream",
     "text": [
      "C:\\tools\\Anaconda3\\lib\\site-packages\\sklearn\\utils\\validation.py:1673: FutureWarning: Feature names only support names that are all strings. Got feature names with dtypes: ['str', 'tuple']. An error will be raised in 1.2.\n",
      "  warnings.warn(\n"
     ]
    },
    {
     "data": {
      "text/plain": [
       "0.9938854715875806"
      ]
     },
     "execution_count": 1184,
     "metadata": {},
     "output_type": "execute_result"
    }
   ],
   "source": [
    "roc_auc_score(y_test, mlp.predict_proba(X_test)[:, 1])"
   ]
  },
  {
   "cell_type": "code",
   "execution_count": 1183,
   "metadata": {},
   "outputs": [
    {
     "name": "stderr",
     "output_type": "stream",
     "text": [
      "C:\\tools\\Anaconda3\\lib\\site-packages\\sklearn\\utils\\validation.py:1673: FutureWarning: Feature names only support names that are all strings. Got feature names with dtypes: ['str', 'tuple']. An error will be raised in 1.2.\n",
      "  warnings.warn(\n",
      "C:\\tools\\Anaconda3\\lib\\site-packages\\sklearn\\utils\\validation.py:1673: FutureWarning: Feature names only support names that are all strings. Got feature names with dtypes: ['str', 'tuple']. An error will be raised in 1.2.\n",
      "  warnings.warn(\n",
      "C:\\tools\\Anaconda3\\lib\\site-packages\\sklearn\\utils\\validation.py:1673: FutureWarning: Feature names only support names that are all strings. Got feature names with dtypes: ['str', 'tuple']. An error will be raised in 1.2.\n",
      "  warnings.warn(\n"
     ]
    },
    {
     "data": {
      "text/plain": [
       "{'RF': {'Acc_train': 0.9981839036513095, 'Acc_test': 0.9979211469534051}}"
      ]
     },
     "execution_count": 1183,
     "metadata": {},
     "output_type": "execute_result"
    }
   ],
   "source": [
    "from sklearn.ensemble import RandomForestClassifier\n",
    "import pandas as pd\n",
    "from sklearn.model_selection import train_test_split\n",
    "from sklearn.metrics import accuracy_score\n",
    "from sklearn.preprocessing import LabelEncoder\n",
    "\n",
    "X_train, X_test, y_train, y_test = train_test_split(\n",
    "        X, y, test_size=0.4, stratify=y, random_state=42\n",
    "    )\n",
    "rf = RandomForestClassifier(n_estimators=100, max_depth=3, random_state=42)\n",
    "rf.fit(X_train, y_train)\n",
    "\n",
    "    # predict probabilities\n",
    "pred_train = rf.predict(X_train)\n",
    "pred_test = rf.predict(X_test)\n",
    "\n",
    "    # evaluate predictions\n",
    "mlp_acc_train = accuracy_score(y_train, pred_train)\n",
    "mlp_acc_test = accuracy_score(y_test, pred_test)\n",
    "\n",
    "eval_dict = {\"RF\": {\"Acc_train\": mlp_acc_train, \"Acc_test\": mlp_acc_test}}\n",
    "eval_dict"
   ]
  }
 ],
 "metadata": {
  "interpreter": {
   "hash": "a707b6ce8c685eb936424fcc3009d4b4b7a52543c4db09380a3fc49186ceb509"
  },
  "kernelspec": {
   "display_name": "Python 3.8.8 64-bit (conda)",
   "name": "python3"
  },
  "language_info": {
   "codemirror_mode": {
    "name": "ipython",
    "version": 3
   },
   "file_extension": ".py",
   "mimetype": "text/x-python",
   "name": "python",
   "nbconvert_exporter": "python",
   "pygments_lexer": "ipython3",
   "version": "3.8.8"
  },
  "orig_nbformat": 4
 },
 "nbformat": 4,
 "nbformat_minor": 2
}
